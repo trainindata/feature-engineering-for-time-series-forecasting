{
 "cells": [
  {
   "cell_type": "markdown",
   "metadata": {},
   "source": [
    "# Time since\n",
    "\n",
    "The recency of an event may have an impact on our forecasts. For example, if we launch an advertising campaign this week, we may expect more sales next week. But as time passes, the sales decrease again. In other words, we expect an increase in sales in the days after the campaign and we expect this effect to fade off as time passes.\n",
    "\n",
    "Similarly, if there is a volcano eruption, the air pollutant concentration may increase in the months after the eruption, but with time, it may go back to normal levels.\n",
    "\n",
    "In situations like these, the proximity of the events may be a good indicator of the magnitude of the time series.\n",
    "\n",
    "Thus, creating features that capture recency may improve the performance of our models.\n",
    "\n",
    "In this notebook, we will see how we can capture time recency and elapsed time in general.\n",
    "\n",
    "## Dataset\n",
    "\n",
    "We will work with the retail sales dataset that we created in the notebook **01-create-retail-datasets** which you can find in the folder **01-Create-Datasets** in this repository."
   ]
  },
  {
   "cell_type": "code",
   "execution_count": 1,
   "metadata": {},
   "outputs": [],
   "source": [
    "import numpy as np\n",
    "import pandas as pd\n",
    "import matplotlib.pyplot as plt"
   ]
  },
  {
   "cell_type": "markdown",
   "metadata": {},
   "source": [
    "## Load data"
   ]
  },
  {
   "cell_type": "code",
   "execution_count": 2,
   "metadata": {},
   "outputs": [
    {
     "data": {
      "text/html": [
       "<div>\n",
       "<style scoped>\n",
       "    .dataframe tbody tr th:only-of-type {\n",
       "        vertical-align: middle;\n",
       "    }\n",
       "\n",
       "    .dataframe tbody tr th {\n",
       "        vertical-align: top;\n",
       "    }\n",
       "\n",
       "    .dataframe thead th {\n",
       "        text-align: right;\n",
       "    }\n",
       "</style>\n",
       "<table border=\"1\" class=\"dataframe\">\n",
       "  <thead>\n",
       "    <tr style=\"text-align: right;\">\n",
       "      <th></th>\n",
       "      <th>y</th>\n",
       "      <th>campaign</th>\n",
       "    </tr>\n",
       "    <tr>\n",
       "      <th>ds</th>\n",
       "      <th></th>\n",
       "      <th></th>\n",
       "    </tr>\n",
       "  </thead>\n",
       "  <tbody>\n",
       "    <tr>\n",
       "      <th>1992-01-01</th>\n",
       "      <td>146376</td>\n",
       "      <td>NaN</td>\n",
       "    </tr>\n",
       "    <tr>\n",
       "      <th>1992-02-01</th>\n",
       "      <td>147079</td>\n",
       "      <td>NaN</td>\n",
       "    </tr>\n",
       "    <tr>\n",
       "      <th>1992-03-01</th>\n",
       "      <td>159336</td>\n",
       "      <td>NaN</td>\n",
       "    </tr>\n",
       "    <tr>\n",
       "      <th>1992-04-01</th>\n",
       "      <td>163669</td>\n",
       "      <td>NaN</td>\n",
       "    </tr>\n",
       "    <tr>\n",
       "      <th>1992-05-01</th>\n",
       "      <td>170068</td>\n",
       "      <td>NaN</td>\n",
       "    </tr>\n",
       "  </tbody>\n",
       "</table>\n",
       "</div>"
      ],
      "text/plain": [
       "                 y  campaign\n",
       "ds                          \n",
       "1992-01-01  146376       NaN\n",
       "1992-02-01  147079       NaN\n",
       "1992-03-01  159336       NaN\n",
       "1992-04-01  163669       NaN\n",
       "1992-05-01  170068       NaN"
      ]
     },
     "execution_count": 2,
     "metadata": {},
     "output_type": "execute_result"
    }
   ],
   "source": [
    "# Load data\n",
    "\n",
    "df = pd.read_csv('../Datasets/example_retail_sales_with_campaigns.csv',\n",
    "                 parse_dates=['ds'],\n",
    "                 index_col=['ds'])\n",
    "\n",
    "df.head()"
   ]
  },
  {
   "cell_type": "code",
   "execution_count": 3,
   "metadata": {},
   "outputs": [
    {
     "data": {
      "text/plain": [
       "1.0    13\n",
       "Name: campaign, dtype: int64"
      ]
     },
     "execution_count": 3,
     "metadata": {},
     "output_type": "execute_result"
    }
   ],
   "source": [
    "df['campaign'].value_counts()"
   ]
  },
  {
   "cell_type": "markdown",
   "metadata": {},
   "source": [
    "## Plot time series"
   ]
  },
  {
   "cell_type": "code",
   "execution_count": 4,
   "metadata": {},
   "outputs": [
    {
     "data": {
      "text/plain": [
       "Text(0, 0.5, 'Sales')"
      ]
     },
     "execution_count": 4,
     "metadata": {},
     "output_type": "execute_result"
    },
    {
     "data": {
      "image/png": "[encoded data removed]",
      "text/plain": [
       "<Figure size 432x288 with 1 Axes>"
      ]
     },
     "metadata": {
      "needs_background": "light"
     },
     "output_type": "display_data"
    }
   ],
   "source": [
    "df['y'].plot()\n",
    "df['campaign'].plot(marker='o', color='red')\n",
    "\n",
    "plt.title('Advertising campaigns')\n",
    "plt.ylabel('Sales')"
   ]
  },
  {
   "cell_type": "markdown",
   "metadata": {},
   "source": [
    "In red, we see the time points at which we launched an advertisement campaign.\n",
    "\n",
    "## Time since last campaign"
   ]
  },
  {
   "cell_type": "code",
   "execution_count": 5,
   "metadata": {},
   "outputs": [],
   "source": [
    "# Add date columns.\n",
    "\n",
    "df['date'] = df.index"
   ]
  },
  {
   "cell_type": "code",
   "execution_count": 6,
   "metadata": {},
   "outputs": [
    {
     "data": {
      "text/html": [
       "<div>\n",
       "<style scoped>\n",
       "    .dataframe tbody tr th:only-of-type {\n",
       "        vertical-align: middle;\n",
       "    }\n",
       "\n",
       "    .dataframe tbody tr th {\n",
       "        vertical-align: top;\n",
       "    }\n",
       "\n",
       "    .dataframe thead th {\n",
       "        text-align: right;\n",
       "    }\n",
       "</style>\n",
       "<table border=\"1\" class=\"dataframe\">\n",
       "  <thead>\n",
       "    <tr style=\"text-align: right;\">\n",
       "      <th></th>\n",
       "      <th>y</th>\n",
       "      <th>campaign</th>\n",
       "      <th>date</th>\n",
       "      <th>time_since</th>\n",
       "    </tr>\n",
       "    <tr>\n",
       "      <th>ds</th>\n",
       "      <th></th>\n",
       "      <th></th>\n",
       "      <th></th>\n",
       "      <th></th>\n",
       "    </tr>\n",
       "  </thead>\n",
       "  <tbody>\n",
       "    <tr>\n",
       "      <th>1992-01-01</th>\n",
       "      <td>146376</td>\n",
       "      <td>NaN</td>\n",
       "      <td>1992-01-01</td>\n",
       "      <td>NaT</td>\n",
       "    </tr>\n",
       "    <tr>\n",
       "      <th>1992-02-01</th>\n",
       "      <td>147079</td>\n",
       "      <td>NaN</td>\n",
       "      <td>1992-02-01</td>\n",
       "      <td>NaT</td>\n",
       "    </tr>\n",
       "    <tr>\n",
       "      <th>1992-03-01</th>\n",
       "      <td>159336</td>\n",
       "      <td>NaN</td>\n",
       "      <td>1992-03-01</td>\n",
       "      <td>NaT</td>\n",
       "    </tr>\n",
       "    <tr>\n",
       "      <th>1992-04-01</th>\n",
       "      <td>163669</td>\n",
       "      <td>NaN</td>\n",
       "      <td>1992-04-01</td>\n",
       "      <td>NaT</td>\n",
       "    </tr>\n",
       "    <tr>\n",
       "      <th>1992-05-01</th>\n",
       "      <td>170068</td>\n",
       "      <td>NaN</td>\n",
       "      <td>1992-05-01</td>\n",
       "      <td>NaT</td>\n",
       "    </tr>\n",
       "  </tbody>\n",
       "</table>\n",
       "</div>"
      ],
      "text/plain": [
       "                 y  campaign       date time_since\n",
       "ds                                                \n",
       "1992-01-01  146376       NaN 1992-01-01        NaT\n",
       "1992-02-01  147079       NaN 1992-02-01        NaT\n",
       "1992-03-01  159336       NaN 1992-03-01        NaT\n",
       "1992-04-01  163669       NaN 1992-04-01        NaT\n",
       "1992-05-01  170068       NaN 1992-05-01        NaT"
      ]
     },
     "execution_count": 6,
     "metadata": {},
     "output_type": "execute_result"
    }
   ],
   "source": [
    "# Calculate time since last advertising campaign.\n",
    "\n",
    "df[\"time_since\"] = df[\"date\"] - df[\"date\"].where(df[\"campaign\"] == 1).ffill()\n",
    "\n",
    "df.head()"
   ]
  },
  {
   "cell_type": "code",
   "execution_count": 7,
   "metadata": {},
   "outputs": [
    {
     "data": {
      "text/plain": [
       "0 days      13\n",
       "61 days     13\n",
       "92 days     13\n",
       "30 days     13\n",
       "120 days    10\n",
       "151 days    10\n",
       "273 days     9\n",
       "334 days     9\n",
       "304 days     9\n",
       "242 days     9\n",
       "212 days     9\n",
       "181 days     9\n",
       "121 days     3\n",
       "152 days     3\n",
       "182 days     3\n",
       "213 days     3\n",
       "243 days     3\n",
       "274 days     3\n",
       "305 days     3\n",
       "335 days     3\n",
       "Name: time_since, dtype: int64"
      ]
     },
     "execution_count": 7,
     "metadata": {},
     "output_type": "execute_result"
    }
   ],
   "source": [
    "df['time_since'].value_counts()"
   ]
  },
  {
   "cell_type": "code",
   "execution_count": 8,
   "metadata": {},
   "outputs": [],
   "source": [
    "df[\"time_since\"] = (\n",
    "    df[\"date\"] - df[\"date\"].where(df[\"campaign\"] == 1).ffill()).dt.days"
   ]
  },
  {
   "cell_type": "code",
   "execution_count": 9,
   "metadata": {},
   "outputs": [
    {
     "data": {
      "text/plain": [
       "Text(0, 0.5, 'Sales')"
      ]
     },
     "execution_count": 9,
     "metadata": {},
     "output_type": "execute_result"
    },
    {
     "data": {
      "image/png": "[encoded data removed]",
      "text/plain": [
       "<Figure size 432x288 with 1 Axes>"
      ]
     },
     "metadata": {
      "needs_background": "light"
     },
     "output_type": "display_data"
    }
   ],
   "source": [
    "(df['y'] / df['y'].max()).plot()\n",
    "(df['time_since'] / df['time_since'].max()).plot(marker='o', color='red')\n",
    "\n",
    "plt.title('Advertising campaigns')\n",
    "plt.ylabel('Sales')"
   ]
  },
  {
   "cell_type": "code",
   "execution_count": 10,
   "metadata": {},
   "outputs": [
    {
     "data": {
      "image/png": "[encoded data removed]",
      "text/plain": [
       "<Figure size 432x288 with 2 Axes>"
      ]
     },
     "metadata": {
      "needs_background": "light"
     },
     "output_type": "display_data"
    }
   ],
   "source": [
    "ax1 = plt.subplot(211)\n",
    "df['y'].plot()\n",
    "plt.ylabel('Sales')\n",
    "plt.title('Relation between advertising and sales')\n",
    "\n",
    "ax2 = plt.subplot(212, sharex=ax1)\n",
    "df['time_since'].plot(marker='o', color='red')\n",
    "plt.ylabel('Time since')\n",
    "plt.xlabel('Time')\n",
    "\n",
    "plt.show()"
   ]
  },
  {
   "cell_type": "markdown",
   "metadata": {},
   "source": [
    "### Dissect the procedure\n",
    "\n",
    "Now, let's cut down the procedure into pieces to understand what is going on."
   ]
  },
  {
   "cell_type": "code",
   "execution_count": 11,
   "metadata": {},
   "outputs": [
    {
     "data": {
      "text/plain": [
       "ds\n",
       "2000-05-01          NaT\n",
       "2000-06-01          NaT\n",
       "2000-07-01          NaT\n",
       "2000-08-01          NaT\n",
       "2000-09-01          NaT\n",
       "2000-10-01          NaT\n",
       "2000-11-01   2000-11-01\n",
       "2000-12-01          NaT\n",
       "2001-01-01          NaT\n",
       "2001-02-01          NaT\n",
       "Name: date, dtype: datetime64[ns]"
      ]
     },
     "execution_count": 11,
     "metadata": {},
     "output_type": "execute_result"
    }
   ],
   "source": [
    "# First, we select the start times. That is the \n",
    "# time of the advertisement campaign.\n",
    "\n",
    "# I only show some values for better visualization\n",
    "\n",
    "df[\"date\"].where(df[\"campaign\"]==1)[100:110]"
   ]
  },
  {
   "cell_type": "code",
   "execution_count": 12,
   "metadata": {},
   "outputs": [
    {
     "data": {
      "text/plain": [
       "ds\n",
       "2000-05-01   1999-11-01\n",
       "2000-06-01   1999-11-01\n",
       "2000-07-01   1999-11-01\n",
       "2000-08-01   1999-11-01\n",
       "2000-09-01   1999-11-01\n",
       "2000-10-01   1999-11-01\n",
       "2000-11-01   2000-11-01\n",
       "2000-12-01   2000-11-01\n",
       "2001-01-01   2000-11-01\n",
       "2001-02-01   2000-11-01\n",
       "Name: date, dtype: datetime64[ns]"
      ]
     },
     "execution_count": 12,
     "metadata": {},
     "output_type": "execute_result"
    }
   ],
   "source": [
    "# Now we carry the date of the campaign forward\n",
    "# till the next available campaign date.\n",
    "\n",
    "df[\"date\"].where(df[\"campaign\"]==1).ffill()[100:110]"
   ]
  },
  {
   "cell_type": "code",
   "execution_count": 13,
   "metadata": {},
   "outputs": [
    {
     "data": {
      "text/plain": [
       "ds\n",
       "2000-05-01   182 days\n",
       "2000-06-01   213 days\n",
       "2000-07-01   243 days\n",
       "2000-08-01   274 days\n",
       "2000-09-01   305 days\n",
       "2000-10-01   335 days\n",
       "2000-11-01     0 days\n",
       "2000-12-01    30 days\n",
       "2001-01-01    61 days\n",
       "2001-02-01    92 days\n",
       "Name: date, dtype: timedelta64[ns]"
      ]
     },
     "execution_count": 13,
     "metadata": {},
     "output_type": "execute_result"
    }
   ],
   "source": [
    "# And now we just substract the real date from the\n",
    "# campaign date\n",
    "\n",
    "(df[\"date\"] - df[\"date\"].where(df[\"campaign\"] == 1).ffill())[100:110]"
   ]
  },
  {
   "cell_type": "code",
   "execution_count": 14,
   "metadata": {},
   "outputs": [
    {
     "data": {
      "text/plain": [
       "ds\n",
       "2000-05-01    182.0\n",
       "2000-06-01    213.0\n",
       "2000-07-01    243.0\n",
       "2000-08-01    274.0\n",
       "2000-09-01    305.0\n",
       "2000-10-01    335.0\n",
       "2000-11-01      0.0\n",
       "2000-12-01     30.0\n",
       "2001-01-01     61.0\n",
       "2001-02-01     92.0\n",
       "Name: date, dtype: float64"
      ]
     },
     "execution_count": 14,
     "metadata": {},
     "output_type": "execute_result"
    }
   ],
   "source": [
    "# Finally, we extract the days as integers\n",
    "\n",
    "(df[\"date\"] - df[\"date\"].where(df[\"campaign\"] == 1).ffill()).dt.days[100:110]"
   ]
  },
  {
   "cell_type": "markdown",
   "metadata": {},
   "source": [
    "## Time interval\n",
    "\n",
    "Something that may be useful when our timestamps are not equidistant is determining the time between observations in our time series.\n",
    "\n",
    "We do this very easily with pandas diff()"
   ]
  },
  {
   "cell_type": "code",
   "execution_count": 15,
   "metadata": {},
   "outputs": [
    {
     "data": {
      "text/plain": [
       "0         NaT\n",
       "1     31 days\n",
       "2     29 days\n",
       "3     31 days\n",
       "4     30 days\n",
       "        ...  \n",
       "155   30 days\n",
       "156   31 days\n",
       "157   31 days\n",
       "158   28 days\n",
       "159   31 days\n",
       "Name: ds, Length: 160, dtype: timedelta64[ns]"
      ]
     },
     "execution_count": 15,
     "metadata": {},
     "output_type": "execute_result"
    }
   ],
   "source": [
    "tmp = pd.Series(df.index).diff()\n",
    "\n",
    "tmp"
   ]
  },
  {
   "cell_type": "markdown",
   "metadata": {},
   "source": [
    "Our index corresponds to monthly sales, so we can use these values to normalize the sales volume per number of days in the month. In longer months, we will probably sell more, just because we have a few more days to sell.\n",
    "\n",
    "In the previous cell, we capture the time difference in days, which is probably useful for our data. But we can change the timedelta units if we want to, as follows:"
   ]
  },
  {
   "cell_type": "code",
   "execution_count": 16,
   "metadata": {},
   "outputs": [
    {
     "data": {
      "text/plain": [
       "0        NaN\n",
       "1      744.0\n",
       "2      696.0\n",
       "3      744.0\n",
       "4      720.0\n",
       "       ...  \n",
       "155    720.0\n",
       "156    744.0\n",
       "157    744.0\n",
       "158    672.0\n",
       "159    744.0\n",
       "Name: ds, Length: 160, dtype: float64"
      ]
     },
     "execution_count": 16,
     "metadata": {},
     "output_type": "execute_result"
    }
   ],
   "source": [
    "tmp = tmp / np.timedelta64(1,'h')\n",
    "\n",
    "tmp"
   ]
  },
  {
   "cell_type": "markdown",
   "metadata": {},
   "source": [
    "That will be all for this notebook!"
   ]
  },
  {
   "cell_type": "code",
   "execution_count": null,
   "metadata": {},
   "outputs": [],
   "source": []
  }
 ],
 "metadata": {
  "kernelspec": {
   "display_name": "fets",
   "language": "python",
   "name": "fets"
  },
  "language_info": {
   "codemirror_mode": {
    "name": "ipython",
    "version": 3
   },
   "file_extension": ".py",
   "mimetype": "text/x-python",
   "name": "python",
   "nbconvert_exporter": "python",
   "pygments_lexer": "ipython3",
   "version": "3.8.2"
  },
  "toc": {
   "base_numbering": 1,
   "nav_menu": {},
   "number_sections": true,
   "sideBar": true,
   "skip_h1_title": false,
   "title_cell": "Table of Contents",
   "title_sidebar": "Contents",
   "toc_cell": false,
   "toc_position": {
    "height": "881.867px",
    "left": "0px",
    "right": "1728px",
    "top": "111.133px",
    "width": "223.4px"
   },
   "toc_section_display": "block",
   "toc_window_display": true
  }
 },
 "nbformat": 4,
 "nbformat_minor": 2
}
