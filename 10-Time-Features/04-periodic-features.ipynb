{
 "cells": [
  {
   "cell_type": "markdown",
   "metadata": {},
   "source": [
    "# Periodic features\n",
    "\n",
    "Periodic features are those that repeat their values at regular intervals, like the hour, the days of a week, and the months of a year.\n",
    "\n",
    "With cyclical or periodic features, values that are very different in absolute magnitude are actually close. For example, January is close to December, even though their absolute magnitude suggests otherwise.\n",
    "\n",
    "We can use periodic functions like sine and cosine, to transform cyclical features and help machine learning models  pick up their intrinsic nature."
   ]
  },
  {
   "cell_type": "code",
   "execution_count": 1,
   "metadata": {},
   "outputs": [],
   "source": [
    "import numpy as np\n",
    "import pandas as pd\n",
    "import matplotlib.pyplot as plt"
   ]
  },
  {
   "cell_type": "markdown",
   "metadata": {},
   "source": [
    "# Create toy data"
   ]
  },
  {
   "cell_type": "code",
   "execution_count": 2,
   "metadata": {},
   "outputs": [
    {
     "data": {
      "text/html": [
       "<div>\n",
       "<style scoped>\n",
       "    .dataframe tbody tr th:only-of-type {\n",
       "        vertical-align: middle;\n",
       "    }\n",
       "\n",
       "    .dataframe tbody tr th {\n",
       "        vertical-align: top;\n",
       "    }\n",
       "\n",
       "    .dataframe thead th {\n",
       "        text-align: right;\n",
       "    }\n",
       "</style>\n",
       "<table border=\"1\" class=\"dataframe\">\n",
       "  <thead>\n",
       "    <tr style=\"text-align: right;\">\n",
       "      <th></th>\n",
       "      <th>hour</th>\n",
       "    </tr>\n",
       "  </thead>\n",
       "  <tbody>\n",
       "    <tr>\n",
       "      <th>0</th>\n",
       "      <td>0</td>\n",
       "    </tr>\n",
       "    <tr>\n",
       "      <th>1</th>\n",
       "      <td>1</td>\n",
       "    </tr>\n",
       "    <tr>\n",
       "      <th>2</th>\n",
       "      <td>2</td>\n",
       "    </tr>\n",
       "    <tr>\n",
       "      <th>3</th>\n",
       "      <td>3</td>\n",
       "    </tr>\n",
       "    <tr>\n",
       "      <th>4</th>\n",
       "      <td>4</td>\n",
       "    </tr>\n",
       "  </tbody>\n",
       "</table>\n",
       "</div>"
      ],
      "text/plain": [
       "   hour\n",
       "0     0\n",
       "1     1\n",
       "2     2\n",
       "3     3\n",
       "4     4"
      ]
     },
     "execution_count": 2,
     "metadata": {},
     "output_type": "execute_result"
    }
   ],
   "source": [
    "# Let's create a dataframe with the hour\n",
    "# from 0 to 23.\n",
    "\n",
    "df = pd.DataFrame([i for i in range(24)], columns=['hour'])\n",
    "\n",
    "df.head()"
   ]
  },
  {
   "cell_type": "markdown",
   "metadata": {},
   "source": [
    "Let's determine the time elapsed between the hours 3 and 1."
   ]
  },
  {
   "cell_type": "code",
   "execution_count": 3,
   "metadata": {},
   "outputs": [
    {
     "data": {
      "text/plain": [
       "hour    2\n",
       "dtype: int64"
      ]
     },
     "execution_count": 3,
     "metadata": {},
     "output_type": "execute_result"
    }
   ],
   "source": [
    "df.iloc[3] - df.iloc[1]"
   ]
  },
  {
   "cell_type": "markdown",
   "metadata": {},
   "source": [
    "As expected, there is a 2 hours difference.\n",
    "\n",
    "Now, let's determine the difference between 22 hours and midnight, that is 0 hours."
   ]
  },
  {
   "cell_type": "code",
   "execution_count": 4,
   "metadata": {},
   "outputs": [
    {
     "data": {
      "text/plain": [
       "hour    22\n",
       "dtype: int64"
      ]
     },
     "execution_count": 4,
     "metadata": {},
     "output_type": "execute_result"
    }
   ],
   "source": [
    "df.iloc[22] - df.iloc[0]"
   ]
  },
  {
   "cell_type": "markdown",
   "metadata": {},
   "source": [
    "As we see, there is a difference of 22, when we actually know that there is only a 2 hours difference.\n",
    "\n",
    "How can we make machine learning models better understand the real difference between the values of cyclical features?\n",
    "\n",
    "\n",
    "# Sin and cosine transformations"
   ]
  },
  {
   "cell_type": "code",
   "execution_count": 5,
   "metadata": {},
   "outputs": [
    {
     "data": {
      "text/html": [
       "<div>\n",
       "<style scoped>\n",
       "    .dataframe tbody tr th:only-of-type {\n",
       "        vertical-align: middle;\n",
       "    }\n",
       "\n",
       "    .dataframe tbody tr th {\n",
       "        vertical-align: top;\n",
       "    }\n",
       "\n",
       "    .dataframe thead th {\n",
       "        text-align: right;\n",
       "    }\n",
       "</style>\n",
       "<table border=\"1\" class=\"dataframe\">\n",
       "  <thead>\n",
       "    <tr style=\"text-align: right;\">\n",
       "      <th></th>\n",
       "      <th>hour</th>\n",
       "      <th>hour_sin</th>\n",
       "      <th>hour_cos</th>\n",
       "    </tr>\n",
       "  </thead>\n",
       "  <tbody>\n",
       "    <tr>\n",
       "      <th>0</th>\n",
       "      <td>0</td>\n",
       "      <td>0.000000</td>\n",
       "      <td>1.000000</td>\n",
       "    </tr>\n",
       "    <tr>\n",
       "      <th>1</th>\n",
       "      <td>1</td>\n",
       "      <td>0.269797</td>\n",
       "      <td>0.962917</td>\n",
       "    </tr>\n",
       "    <tr>\n",
       "      <th>2</th>\n",
       "      <td>2</td>\n",
       "      <td>0.519584</td>\n",
       "      <td>0.854419</td>\n",
       "    </tr>\n",
       "    <tr>\n",
       "      <th>3</th>\n",
       "      <td>3</td>\n",
       "      <td>0.730836</td>\n",
       "      <td>0.682553</td>\n",
       "    </tr>\n",
       "    <tr>\n",
       "      <th>4</th>\n",
       "      <td>4</td>\n",
       "      <td>0.887885</td>\n",
       "      <td>0.460065</td>\n",
       "    </tr>\n",
       "  </tbody>\n",
       "</table>\n",
       "</div>"
      ],
      "text/plain": [
       "   hour  hour_sin  hour_cos\n",
       "0     0  0.000000  1.000000\n",
       "1     1  0.269797  0.962917\n",
       "2     2  0.519584  0.854419\n",
       "3     3  0.730836  0.682553\n",
       "4     4  0.887885  0.460065"
      ]
     },
     "execution_count": 5,
     "metadata": {},
     "output_type": "execute_result"
    }
   ],
   "source": [
    "# We transform the features with the sine and cosine function.\n",
    "\n",
    "df[\"hour_sin\"] = np.sin(df[\"hour\"] / df[\"hour\"].max() * 2 * np.pi)\n",
    "\n",
    "df[\"hour_cos\"] = np.cos(df[\"hour\"] / df[\"hour\"].max() * 2 * np.pi)\n",
    "\n",
    "df.head()"
   ]
  },
  {
   "cell_type": "code",
   "execution_count": 6,
   "metadata": {},
   "outputs": [
    {
     "data": {
      "text/plain": [
       "<matplotlib.collections.LineCollection at 0x22f5eed5870>"
      ]
     },
     "execution_count": 6,
     "metadata": {},
     "output_type": "execute_result"
    },
    {
     "data": {
      "image/png": "[encoded data removed]",
      "text/plain": [
       "<Figure size 432x288 with 1 Axes>"
      ]
     },
     "metadata": {
      "needs_background": "light"
     },
     "output_type": "display_data"
    }
   ],
   "source": [
    "# Plot hour vs its trigonometric transformation.\n",
    "\n",
    "plt.scatter(df[\"hour\"], df[\"hour_sin\"])\n",
    "\n",
    "# Axis labels\n",
    "plt.ylabel('Sine of hour')\n",
    "plt.xlabel('Hour')\n",
    "plt.title('Sine transformation')\n",
    "\n",
    "plt.vlines(x=0, ymin=-1, ymax=0, color='g', linestyles='dashed')\n",
    "plt.vlines(x=22, ymin=-1, ymax=-0.25, color='g', linestyles='dashed')"
   ]
  },
  {
   "cell_type": "markdown",
   "metadata": {},
   "source": [
    "After the transformation we see that the hours 0 and 22 are much closer in value.\n",
    "\n",
    "But, we also observe that the different hours could take the same value after the transformation, see below:"
   ]
  },
  {
   "cell_type": "code",
   "execution_count": 7,
   "metadata": {},
   "outputs": [
    {
     "data": {
      "text/plain": [
       "<matplotlib.collections.LineCollection at 0x22f6101a980>"
      ]
     },
     "execution_count": 7,
     "metadata": {},
     "output_type": "execute_result"
    },
    {
     "data": {
      "image/png": "[encoded data removed]",
      "text/plain": [
       "<Figure size 432x288 with 1 Axes>"
      ]
     },
     "metadata": {
      "needs_background": "light"
     },
     "output_type": "display_data"
    }
   ],
   "source": [
    "# Plot hour vs its trigonometric transformation.\n",
    "\n",
    "plt.scatter(df[\"hour\"], df[\"hour_sin\"])\n",
    "\n",
    "# Axis labels\n",
    "plt.ylabel('Sine of hour')\n",
    "plt.xlabel('Hour')\n",
    "plt.title('Sine transformation')\n",
    "\n",
    "plt.hlines(y=0, xmin=0, xmax=11.5, color='r', linestyles='dashed')\n",
    "\n",
    "plt.vlines(x=0, ymin=-1, ymax=0, color='g', linestyles='dashed')\n",
    "plt.vlines(x=11.5, ymin=-1, ymax=0, color='g', linestyles='dashed')"
   ]
  },
  {
   "cell_type": "markdown",
   "metadata": {},
   "source": [
    "In the precedent plot, we see the the hours 0 and 11.5 take roughly the same value after the sin transformation.\n",
    "\n",
    "The same is true for the cosine function, see below:"
   ]
  },
  {
   "cell_type": "code",
   "execution_count": 8,
   "metadata": {},
   "outputs": [
    {
     "data": {
      "text/plain": [
       "<matplotlib.collections.LineCollection at 0x22f61097400>"
      ]
     },
     "execution_count": 8,
     "metadata": {},
     "output_type": "execute_result"
    },
    {
     "data": {
      "image/png": "[encoded data removed]",
      "text/plain": [
       "<Figure size 432x288 with 1 Axes>"
      ]
     },
     "metadata": {
      "needs_background": "light"
     },
     "output_type": "display_data"
    }
   ],
   "source": [
    "# Plot hour vs its trigonometric transformation.\n",
    "\n",
    "plt.scatter(df[\"hour\"], df[\"hour_cos\"])\n",
    "\n",
    "# Axis labels\n",
    "plt.ylabel('Cosine of hour')\n",
    "plt.xlabel('Hour')\n",
    "plt.title('Cosine transformation')\n",
    "\n",
    "plt.hlines(y=-0.09, xmin=5, xmax=18, color='r', linestyles='dashed')\n",
    "\n",
    "plt.vlines(x=6, ymin=-1, ymax=0, color='g', linestyles='dashed')\n",
    "plt.vlines(x=17, ymin=-1, ymax=0, color='g', linestyles='dashed')"
   ]
  },
  {
   "cell_type": "markdown",
   "metadata": {},
   "source": [
    "In the former plot, we see that the hours 6 and 17 take roughly the same cosine value after the transformation.\n",
    "\n",
    "How can we distinguish the hours 0 from 11.5 or 6 from 17?\n",
    "\n",
    "We need to use the 2 transformations together to fully code the information of the hour. Adding the cosine function, which is out-of-phase with the sine function, breaks the symmetry and gives each hour a unique codification. "
   ]
  },
  {
   "cell_type": "code",
   "execution_count": 9,
   "metadata": {},
   "outputs": [
    {
     "data": {
      "text/plain": [
       "<matplotlib.collections.LineCollection at 0x22f620d9b10>"
      ]
     },
     "execution_count": 9,
     "metadata": {},
     "output_type": "execute_result"
    },
    {
     "data": {
      "image/png": "[encoded data removed]",
      "text/plain": [
       "<Figure size 432x288 with 1 Axes>"
      ]
     },
     "metadata": {
      "needs_background": "light"
     },
     "output_type": "display_data"
    }
   ],
   "source": [
    "# Plot hour vs its trigonometric transformation.\n",
    "\n",
    "plt.scatter(df[\"hour\"], df[\"hour_sin\"])\n",
    "plt.scatter(df[\"hour\"], df[\"hour_cos\"])\n",
    "\n",
    "# Axis labels\n",
    "plt.ylabel('Sine and cosine of hour')\n",
    "plt.xlabel('Hour')\n",
    "plt.title('Sine and Cosine transformation')\n",
    "\n",
    "\n",
    "plt.hlines(y=0, xmin=0, xmax=11.5, color='r', linestyles='dashed')\n",
    "\n",
    "plt.vlines(x=0, ymin=-1, ymax=1, color='g', linestyles='dashed')\n",
    "plt.vlines(x=11.5, ymin=-1, ymax=1, color='g', linestyles='dashed')"
   ]
  },
  {
   "cell_type": "markdown",
   "metadata": {},
   "source": [
    "With the values of sine 0 and cosine 1, we can unequivocally identify the hour 0. With the values of sine 0 and cosine -1 we can unequivocally identify the hour 11.5 and so on.\n",
    "\n",
    "An intuitive way to show the new representation is to plot the sine vs the cosine transformation of the hour. It will show as a 24 hour clock, and now, the distance between two points corresponds to the difference in time as we would expect from a 24-hour cycle."
   ]
  },
  {
   "cell_type": "code",
   "execution_count": 10,
   "metadata": {},
   "outputs": [
    {
     "data": {
      "image/png": "[encoded data removed]",
      "text/plain": [
       "<Figure size 504x360 with 2 Axes>"
      ]
     },
     "metadata": {
      "needs_background": "light"
     },
     "output_type": "display_data"
    }
   ],
   "source": [
    "fig, ax = plt.subplots(figsize=(7, 5))\n",
    "sp = ax.scatter(df[\"hour_sin\"], df[\"hour_cos\"], c=df[\"hour\"])\n",
    "ax.set(\n",
    "    xlabel=\"sin(hour)\",\n",
    "    ylabel=\"cos(hour)\",\n",
    ")\n",
    "_ = fig.colorbar(sp)"
   ]
  },
  {
   "cell_type": "markdown",
   "metadata": {},
   "source": [
    "Now, we can go ahead and apply this transformation to some real data."
   ]
  },
  {
   "cell_type": "code",
   "execution_count": 11,
   "metadata": {},
   "outputs": [],
   "source": [
    "# to automate many of our engineering processes\n",
    "from feature_engine.creation import CyclicalFeatures\n",
    "from feature_engine.datetime import DatetimeFeatures\n",
    "\n",
    "from sklearn.pipeline import Pipeline"
   ]
  },
  {
   "cell_type": "markdown",
   "metadata": {},
   "source": [
    "#  Pollutants\n",
    "\n",
    "Let's work with the air quality dataset that we created in the notebook **03-prepare-air-quality-dataset** which you can find in the folder **01-Create-Datasets** in this repository."
   ]
  },
  {
   "cell_type": "code",
   "execution_count": 12,
   "metadata": {},
   "outputs": [],
   "source": [
    "# Function to load and prepare input data.\n",
    "\n",
    "def load_data():\n",
    "\n",
    "    # Data lives here.\n",
    "    filename = '../datasets/AirQualityUCI_ready.csv'\n",
    "\n",
    "    # Load data: only the time variable and CO\n",
    "    data = pd.read_csv(filename, usecols=['Date_Time', 'CO_sensor'])\n",
    "\n",
    "    # Cast date variable in datetime format.\n",
    "    data['Date_Time'] = pd.to_datetime(data['Date_Time'])\n",
    "\n",
    "    # Set the index to the timestamp.\n",
    "    data.index = data['Date_Time']\n",
    "\n",
    "    # Sanity: sort index.\n",
    "    data.sort_index(inplace=True)\n",
    "\n",
    "    # Reduce data span.\n",
    "    data = data[(\n",
    "        data['Date_Time'] >= '2004-04-01') &\n",
    "        (data['Date_Time'] <= '2005-04-30')\n",
    "    ]\n",
    "\n",
    "    # Remove outliers\n",
    "    data = data.loc[(data['CO_sensor'] > 0)]\n",
    "\n",
    "    return data"
   ]
  },
  {
   "cell_type": "code",
   "execution_count": 13,
   "metadata": {},
   "outputs": [
    {
     "data": {
      "text/html": [
       "<div>\n",
       "<style scoped>\n",
       "    .dataframe tbody tr th:only-of-type {\n",
       "        vertical-align: middle;\n",
       "    }\n",
       "\n",
       "    .dataframe tbody tr th {\n",
       "        vertical-align: top;\n",
       "    }\n",
       "\n",
       "    .dataframe thead th {\n",
       "        text-align: right;\n",
       "    }\n",
       "</style>\n",
       "<table border=\"1\" class=\"dataframe\">\n",
       "  <thead>\n",
       "    <tr style=\"text-align: right;\">\n",
       "      <th></th>\n",
       "      <th>Date_Time</th>\n",
       "      <th>CO_sensor</th>\n",
       "    </tr>\n",
       "    <tr>\n",
       "      <th>Date_Time</th>\n",
       "      <th></th>\n",
       "      <th></th>\n",
       "    </tr>\n",
       "  </thead>\n",
       "  <tbody>\n",
       "    <tr>\n",
       "      <th>2004-04-04 00:00:00</th>\n",
       "      <td>2004-04-04 00:00:00</td>\n",
       "      <td>1224.0</td>\n",
       "    </tr>\n",
       "    <tr>\n",
       "      <th>2004-04-04 01:00:00</th>\n",
       "      <td>2004-04-04 01:00:00</td>\n",
       "      <td>1215.0</td>\n",
       "    </tr>\n",
       "    <tr>\n",
       "      <th>2004-04-04 02:00:00</th>\n",
       "      <td>2004-04-04 02:00:00</td>\n",
       "      <td>1115.0</td>\n",
       "    </tr>\n",
       "    <tr>\n",
       "      <th>2004-04-04 03:00:00</th>\n",
       "      <td>2004-04-04 03:00:00</td>\n",
       "      <td>1124.0</td>\n",
       "    </tr>\n",
       "    <tr>\n",
       "      <th>2004-04-04 04:00:00</th>\n",
       "      <td>2004-04-04 04:00:00</td>\n",
       "      <td>1028.0</td>\n",
       "    </tr>\n",
       "  </tbody>\n",
       "</table>\n",
       "</div>"
      ],
      "text/plain": [
       "                              Date_Time  CO_sensor\n",
       "Date_Time                                         \n",
       "2004-04-04 00:00:00 2004-04-04 00:00:00     1224.0\n",
       "2004-04-04 01:00:00 2004-04-04 01:00:00     1215.0\n",
       "2004-04-04 02:00:00 2004-04-04 02:00:00     1115.0\n",
       "2004-04-04 03:00:00 2004-04-04 03:00:00     1124.0\n",
       "2004-04-04 04:00:00 2004-04-04 04:00:00     1028.0"
      ]
     },
     "execution_count": 13,
     "metadata": {},
     "output_type": "execute_result"
    }
   ],
   "source": [
    "# Load data.\n",
    "\n",
    "data = load_data()\n",
    "\n",
    "data.head()"
   ]
  },
  {
   "cell_type": "markdown",
   "metadata": {},
   "source": [
    "## Add temporal features\n",
    "\n",
    "We will extract year, month and hour from the index."
   ]
  },
  {
   "cell_type": "code",
   "execution_count": 14,
   "metadata": {},
   "outputs": [
    {
     "data": {
      "text/html": [
       "<div>\n",
       "<style scoped>\n",
       "    .dataframe tbody tr th:only-of-type {\n",
       "        vertical-align: middle;\n",
       "    }\n",
       "\n",
       "    .dataframe tbody tr th {\n",
       "        vertical-align: top;\n",
       "    }\n",
       "\n",
       "    .dataframe thead th {\n",
       "        text-align: right;\n",
       "    }\n",
       "</style>\n",
       "<table border=\"1\" class=\"dataframe\">\n",
       "  <thead>\n",
       "    <tr style=\"text-align: right;\">\n",
       "      <th></th>\n",
       "      <th>CO_sensor</th>\n",
       "      <th>Date_Time_year</th>\n",
       "      <th>Date_Time_month</th>\n",
       "      <th>Date_Time_hour</th>\n",
       "    </tr>\n",
       "    <tr>\n",
       "      <th>Date_Time</th>\n",
       "      <th></th>\n",
       "      <th></th>\n",
       "      <th></th>\n",
       "      <th></th>\n",
       "    </tr>\n",
       "  </thead>\n",
       "  <tbody>\n",
       "    <tr>\n",
       "      <th>2004-04-04 00:00:00</th>\n",
       "      <td>1224.0</td>\n",
       "      <td>2004</td>\n",
       "      <td>4</td>\n",
       "      <td>0</td>\n",
       "    </tr>\n",
       "    <tr>\n",
       "      <th>2004-04-04 01:00:00</th>\n",
       "      <td>1215.0</td>\n",
       "      <td>2004</td>\n",
       "      <td>4</td>\n",
       "      <td>1</td>\n",
       "    </tr>\n",
       "    <tr>\n",
       "      <th>2004-04-04 02:00:00</th>\n",
       "      <td>1115.0</td>\n",
       "      <td>2004</td>\n",
       "      <td>4</td>\n",
       "      <td>2</td>\n",
       "    </tr>\n",
       "    <tr>\n",
       "      <th>2004-04-04 03:00:00</th>\n",
       "      <td>1124.0</td>\n",
       "      <td>2004</td>\n",
       "      <td>4</td>\n",
       "      <td>3</td>\n",
       "    </tr>\n",
       "    <tr>\n",
       "      <th>2004-04-04 04:00:00</th>\n",
       "      <td>1028.0</td>\n",
       "      <td>2004</td>\n",
       "      <td>4</td>\n",
       "      <td>4</td>\n",
       "    </tr>\n",
       "  </tbody>\n",
       "</table>\n",
       "</div>"
      ],
      "text/plain": [
       "                     CO_sensor  Date_Time_year  Date_Time_month  \\\n",
       "Date_Time                                                         \n",
       "2004-04-04 00:00:00     1224.0            2004                4   \n",
       "2004-04-04 01:00:00     1215.0            2004                4   \n",
       "2004-04-04 02:00:00     1115.0            2004                4   \n",
       "2004-04-04 03:00:00     1124.0            2004                4   \n",
       "2004-04-04 04:00:00     1028.0            2004                4   \n",
       "\n",
       "                     Date_Time_hour  \n",
       "Date_Time                            \n",
       "2004-04-04 00:00:00               0  \n",
       "2004-04-04 01:00:00               1  \n",
       "2004-04-04 02:00:00               2  \n",
       "2004-04-04 03:00:00               3  \n",
       "2004-04-04 04:00:00               4  "
      ]
     },
     "execution_count": 14,
     "metadata": {},
     "output_type": "execute_result"
    }
   ],
   "source": [
    "# Extract month and hour from timestamp\n",
    "\n",
    "dtf = DatetimeFeatures(\n",
    "    variables='Date_Time',  # the timestamp\n",
    "    features_to_extract=[\"year\", \"month\", \"hour\"],  # the features to create\n",
    "    drop_original=True  # if we want to drop the timestamp.\n",
    ")\n",
    "\n",
    "# Extract the datetime features\n",
    "data = dtf.fit_transform(data)\n",
    "\n",
    "# Show new variables\n",
    "data.head()"
   ]
  },
  {
   "cell_type": "markdown",
   "metadata": {},
   "source": [
    "## Hourly pollutant concentration"
   ]
  },
  {
   "cell_type": "code",
   "execution_count": 15,
   "metadata": {},
   "outputs": [
    {
     "data": {
      "text/plain": [
       "Text(0.5, 1.0, 'CO concentration in time')"
      ]
     },
     "execution_count": 15,
     "metadata": {},
     "output_type": "execute_result"
    },
    {
     "data": {
      "image/png": "[encoded data removed]",
      "text/plain": [
       "<Figure size 576x360 with 1 Axes>"
      ]
     },
     "metadata": {
      "needs_background": "light"
     },
     "output_type": "display_data"
    }
   ],
   "source": [
    "# Mean pollutant concentration per hour.\n",
    "\n",
    "data.groupby([\"Date_Time_hour\", \"Date_Time_month\"])[\"CO_sensor\"].mean().unstack().plot(figsize=(8,5))\n",
    "plt.ylabel(\"CO concentration\")\n",
    "plt.title(\"CO concentration in time\")"
   ]
  },
  {
   "cell_type": "markdown",
   "metadata": {},
   "source": [
    "## Monthly pollutant concentration"
   ]
  },
  {
   "cell_type": "code",
   "execution_count": 16,
   "metadata": {},
   "outputs": [
    {
     "data": {
      "text/plain": [
       "Text(0.5, 1.0, 'CO concentration in time')"
      ]
     },
     "execution_count": 16,
     "metadata": {},
     "output_type": "execute_result"
    },
    {
     "data": {
      "image/png": "[encoded data removed]",
      "text/plain": [
       "<Figure size 576x360 with 1 Axes>"
      ]
     },
     "metadata": {
      "needs_background": "light"
     },
     "output_type": "display_data"
    }
   ],
   "source": [
    "# Mean pollutant concentration per month.\n",
    "\n",
    "data.groupby([\"Date_Time_month\", \"Date_Time_year\"])[\"CO_sensor\"].mean().unstack().plot(figsize=(8,5))\n",
    "plt.ylabel(\"CO concentration\")\n",
    "plt.title(\"CO concentration in time\")"
   ]
  },
  {
   "cell_type": "markdown",
   "metadata": {},
   "source": [
    "We do not have enough information to conclude that there is monthly seasonality. We would need more years of information."
   ]
  },
  {
   "cell_type": "markdown",
   "metadata": {},
   "source": [
    "## Periodic transformation\n",
    "\n",
    "Let's transform the features with the sine and cosine manually."
   ]
  },
  {
   "cell_type": "code",
   "execution_count": 17,
   "metadata": {},
   "outputs": [
    {
     "data": {
      "text/plain": [
       "Text(0.5, 1.0, 'Sine transformation of hour')"
      ]
     },
     "execution_count": 17,
     "metadata": {},
     "output_type": "execute_result"
    },
    {
     "data": {
      "image/png": "[encoded data removed]",
      "text/plain": [
       "<Figure size 432x288 with 1 Axes>"
      ]
     },
     "metadata": {
      "needs_background": "light"
     },
     "output_type": "display_data"
    }
   ],
   "source": [
    "# Transform hour with sine.\n",
    "\n",
    "data[\"hour_sin\"] = np.sin(data[\"Date_Time_hour\"] /\n",
    "                          data[\"Date_Time_hour\"].max() * 2 * np.pi)\n",
    "\n",
    "# Plot.\n",
    "plt.scatter(data[\"Date_Time_hour\"], data['hour_sin'])\n",
    "\n",
    "# Axis labels\n",
    "plt.xlabel('Hour')\n",
    "plt.ylabel('Hour - Sine')\n",
    "plt.title('Sine transformation of hour')"
   ]
  },
  {
   "cell_type": "code",
   "execution_count": 18,
   "metadata": {},
   "outputs": [
    {
     "data": {
      "text/plain": [
       "Text(0.5, 1.0, 'Cosine transformation of hour')"
      ]
     },
     "execution_count": 18,
     "metadata": {},
     "output_type": "execute_result"
    },
    {
     "data": {
      "image/png": "[encoded data removed]",
      "text/plain": [
       "<Figure size 432x288 with 1 Axes>"
      ]
     },
     "metadata": {
      "needs_background": "light"
     },
     "output_type": "display_data"
    }
   ],
   "source": [
    "# Transform hour with cosine.\n",
    "data[\"hour_cos\"] = np.cos(data[\"Date_Time_hour\"] /\n",
    "                          data[\"Date_Time_hour\"].max() * 2 * np.pi)\n",
    "\n",
    "# Plot.\n",
    "plt.scatter(data[\"Date_Time_hour\"], data['hour_cos'])\n",
    "\n",
    "plt.xlabel('Hour')\n",
    "plt.ylabel('Hour - Cosine')\n",
    "plt.title('Cosine transformation of hour')"
   ]
  },
  {
   "cell_type": "code",
   "execution_count": 19,
   "metadata": {},
   "outputs": [
    {
     "data": {
      "text/plain": [
       "Text(0.5, 1.0, 'Sine transformation of Month')"
      ]
     },
     "execution_count": 19,
     "metadata": {},
     "output_type": "execute_result"
    },
    {
     "data": {
      "image/png": "[encoded data removed]",
      "text/plain": [
       "<Figure size 432x288 with 1 Axes>"
      ]
     },
     "metadata": {
      "needs_background": "light"
     },
     "output_type": "display_data"
    }
   ],
   "source": [
    "# Transform month with sine.\n",
    "data[\"month_sin\"] = np.sin(data[\"Date_Time_month\"] /\n",
    "                          data[\"Date_Time_month\"].max() * 2 * np.pi)\n",
    "\n",
    "# Plot.\n",
    "plt.scatter(data[\"Date_Time_month\"], data['month_sin'])\n",
    "\n",
    "# Axis labels\n",
    "plt.xlabel('Month')\n",
    "plt.ylabel('Month - Sine')\n",
    "plt.title('Sine transformation of Month')"
   ]
  },
  {
   "cell_type": "code",
   "execution_count": 20,
   "metadata": {},
   "outputs": [
    {
     "data": {
      "text/plain": [
       "Text(0.5, 1.0, 'Cosine transformation of Month')"
      ]
     },
     "execution_count": 20,
     "metadata": {},
     "output_type": "execute_result"
    },
    {
     "data": {
      "image/png": "[encoded data removed]",
      "text/plain": [
       "<Figure size 432x288 with 1 Axes>"
      ]
     },
     "metadata": {
      "needs_background": "light"
     },
     "output_type": "display_data"
    }
   ],
   "source": [
    "# Transform month with cosine.\n",
    "data[\"month_cos\"] = np.cos(data[\"Date_Time_month\"] /\n",
    "                          data[\"Date_Time_month\"].max() * 2 * np.pi)\n",
    "\n",
    "# Plot.\n",
    "plt.scatter(data[\"Date_Time_month\"], data['month_cos'])\n",
    "\n",
    "# Axis labels\n",
    "plt.xlabel('Month')\n",
    "plt.ylabel('Month - Cosine')\n",
    "plt.title('Cosine transformation of Month')"
   ]
  },
  {
   "cell_type": "markdown",
   "metadata": {},
   "source": [
    "## Automate with Feature-engine\n",
    "\n",
    "We can extract all the features that we created manually with pandas, automatically, using Feature-engine.\n",
    "\n",
    "In particular, for periodic features we can use the [CyclicalFeatures](https://feature-engine.readthedocs.io/en/latest/user_guide/creation/CyclicalFeatures.html)."
   ]
  },
  {
   "cell_type": "code",
   "execution_count": 21,
   "metadata": {},
   "outputs": [
    {
     "data": {
      "text/html": [
       "<div>\n",
       "<style scoped>\n",
       "    .dataframe tbody tr th:only-of-type {\n",
       "        vertical-align: middle;\n",
       "    }\n",
       "\n",
       "    .dataframe tbody tr th {\n",
       "        vertical-align: top;\n",
       "    }\n",
       "\n",
       "    .dataframe thead th {\n",
       "        text-align: right;\n",
       "    }\n",
       "</style>\n",
       "<table border=\"1\" class=\"dataframe\">\n",
       "  <thead>\n",
       "    <tr style=\"text-align: right;\">\n",
       "      <th></th>\n",
       "      <th>Date_Time</th>\n",
       "      <th>CO_sensor</th>\n",
       "    </tr>\n",
       "    <tr>\n",
       "      <th>Date_Time</th>\n",
       "      <th></th>\n",
       "      <th></th>\n",
       "    </tr>\n",
       "  </thead>\n",
       "  <tbody>\n",
       "    <tr>\n",
       "      <th>2004-04-04 00:00:00</th>\n",
       "      <td>2004-04-04 00:00:00</td>\n",
       "      <td>1224.0</td>\n",
       "    </tr>\n",
       "    <tr>\n",
       "      <th>2004-04-04 01:00:00</th>\n",
       "      <td>2004-04-04 01:00:00</td>\n",
       "      <td>1215.0</td>\n",
       "    </tr>\n",
       "    <tr>\n",
       "      <th>2004-04-04 02:00:00</th>\n",
       "      <td>2004-04-04 02:00:00</td>\n",
       "      <td>1115.0</td>\n",
       "    </tr>\n",
       "    <tr>\n",
       "      <th>2004-04-04 03:00:00</th>\n",
       "      <td>2004-04-04 03:00:00</td>\n",
       "      <td>1124.0</td>\n",
       "    </tr>\n",
       "    <tr>\n",
       "      <th>2004-04-04 04:00:00</th>\n",
       "      <td>2004-04-04 04:00:00</td>\n",
       "      <td>1028.0</td>\n",
       "    </tr>\n",
       "  </tbody>\n",
       "</table>\n",
       "</div>"
      ],
      "text/plain": [
       "                              Date_Time  CO_sensor\n",
       "Date_Time                                         \n",
       "2004-04-04 00:00:00 2004-04-04 00:00:00     1224.0\n",
       "2004-04-04 01:00:00 2004-04-04 01:00:00     1215.0\n",
       "2004-04-04 02:00:00 2004-04-04 02:00:00     1115.0\n",
       "2004-04-04 03:00:00 2004-04-04 03:00:00     1124.0\n",
       "2004-04-04 04:00:00 2004-04-04 04:00:00     1028.0"
      ]
     },
     "execution_count": 21,
     "metadata": {},
     "output_type": "execute_result"
    }
   ],
   "source": [
    "# Load data.\n",
    "\n",
    "data = load_data()\n",
    "\n",
    "data.head()"
   ]
  },
  {
   "cell_type": "code",
   "execution_count": 22,
   "metadata": {},
   "outputs": [],
   "source": [
    "# Get datetime features from the datetime variable\n",
    "# and apply periodic transformation.\n",
    "\n",
    "pipe = Pipeline([\n",
    "    \n",
    "    # create datetime features.\n",
    "    ('datetime', DatetimeFeatures(\n",
    "        variables=\"Date_Time\",\n",
    "        features_to_extract=[\"month\", \"hour\"],\n",
    "        drop_original=True,\n",
    "    )),\n",
    "\n",
    "    # apply sine and cosine transformation.\n",
    "    ('cyclical', CyclicalFeatures(\n",
    "        variables=[\"Date_Time_month\", \"Date_Time_hour\"],\n",
    "    )),\n",
    "])"
   ]
  },
  {
   "cell_type": "code",
   "execution_count": 23,
   "metadata": {},
   "outputs": [
    {
     "data": {
      "text/html": [
       "<div>\n",
       "<style scoped>\n",
       "    .dataframe tbody tr th:only-of-type {\n",
       "        vertical-align: middle;\n",
       "    }\n",
       "\n",
       "    .dataframe tbody tr th {\n",
       "        vertical-align: top;\n",
       "    }\n",
       "\n",
       "    .dataframe thead th {\n",
       "        text-align: right;\n",
       "    }\n",
       "</style>\n",
       "<table border=\"1\" class=\"dataframe\">\n",
       "  <thead>\n",
       "    <tr style=\"text-align: right;\">\n",
       "      <th></th>\n",
       "      <th>CO_sensor</th>\n",
       "      <th>Date_Time_month</th>\n",
       "      <th>Date_Time_hour</th>\n",
       "      <th>Date_Time_month_sin</th>\n",
       "      <th>Date_Time_month_cos</th>\n",
       "      <th>Date_Time_hour_sin</th>\n",
       "      <th>Date_Time_hour_cos</th>\n",
       "    </tr>\n",
       "    <tr>\n",
       "      <th>Date_Time</th>\n",
       "      <th></th>\n",
       "      <th></th>\n",
       "      <th></th>\n",
       "      <th></th>\n",
       "      <th></th>\n",
       "      <th></th>\n",
       "      <th></th>\n",
       "    </tr>\n",
       "  </thead>\n",
       "  <tbody>\n",
       "    <tr>\n",
       "      <th>2004-04-04 00:00:00</th>\n",
       "      <td>1224.0</td>\n",
       "      <td>4</td>\n",
       "      <td>0</td>\n",
       "      <td>0.866025</td>\n",
       "      <td>-0.5</td>\n",
       "      <td>0.000000</td>\n",
       "      <td>1.000000</td>\n",
       "    </tr>\n",
       "    <tr>\n",
       "      <th>2004-04-04 01:00:00</th>\n",
       "      <td>1215.0</td>\n",
       "      <td>4</td>\n",
       "      <td>1</td>\n",
       "      <td>0.866025</td>\n",
       "      <td>-0.5</td>\n",
       "      <td>0.269797</td>\n",
       "      <td>0.962917</td>\n",
       "    </tr>\n",
       "    <tr>\n",
       "      <th>2004-04-04 02:00:00</th>\n",
       "      <td>1115.0</td>\n",
       "      <td>4</td>\n",
       "      <td>2</td>\n",
       "      <td>0.866025</td>\n",
       "      <td>-0.5</td>\n",
       "      <td>0.519584</td>\n",
       "      <td>0.854419</td>\n",
       "    </tr>\n",
       "    <tr>\n",
       "      <th>2004-04-04 03:00:00</th>\n",
       "      <td>1124.0</td>\n",
       "      <td>4</td>\n",
       "      <td>3</td>\n",
       "      <td>0.866025</td>\n",
       "      <td>-0.5</td>\n",
       "      <td>0.730836</td>\n",
       "      <td>0.682553</td>\n",
       "    </tr>\n",
       "    <tr>\n",
       "      <th>2004-04-04 04:00:00</th>\n",
       "      <td>1028.0</td>\n",
       "      <td>4</td>\n",
       "      <td>4</td>\n",
       "      <td>0.866025</td>\n",
       "      <td>-0.5</td>\n",
       "      <td>0.887885</td>\n",
       "      <td>0.460065</td>\n",
       "    </tr>\n",
       "  </tbody>\n",
       "</table>\n",
       "</div>"
      ],
      "text/plain": [
       "                     CO_sensor  Date_Time_month  Date_Time_hour  \\\n",
       "Date_Time                                                         \n",
       "2004-04-04 00:00:00     1224.0                4               0   \n",
       "2004-04-04 01:00:00     1215.0                4               1   \n",
       "2004-04-04 02:00:00     1115.0                4               2   \n",
       "2004-04-04 03:00:00     1124.0                4               3   \n",
       "2004-04-04 04:00:00     1028.0                4               4   \n",
       "\n",
       "                     Date_Time_month_sin  Date_Time_month_cos  \\\n",
       "Date_Time                                                       \n",
       "2004-04-04 00:00:00             0.866025                 -0.5   \n",
       "2004-04-04 01:00:00             0.866025                 -0.5   \n",
       "2004-04-04 02:00:00             0.866025                 -0.5   \n",
       "2004-04-04 03:00:00             0.866025                 -0.5   \n",
       "2004-04-04 04:00:00             0.866025                 -0.5   \n",
       "\n",
       "                     Date_Time_hour_sin  Date_Time_hour_cos  \n",
       "Date_Time                                                    \n",
       "2004-04-04 00:00:00            0.000000            1.000000  \n",
       "2004-04-04 01:00:00            0.269797            0.962917  \n",
       "2004-04-04 02:00:00            0.519584            0.854419  \n",
       "2004-04-04 03:00:00            0.730836            0.682553  \n",
       "2004-04-04 04:00:00            0.887885            0.460065  "
      ]
     },
     "execution_count": 23,
     "metadata": {},
     "output_type": "execute_result"
    }
   ],
   "source": [
    "# Extract the features.\n",
    "\n",
    "data = pipe.fit_transform(data)\n",
    "\n",
    "data.head()"
   ]
  },
  {
   "cell_type": "markdown",
   "metadata": {},
   "source": [
    "# Compare model performance\n",
    "\n",
    "Now, let's compare the performance of a model trained with the raw features or the trigonometric transformed features.\n",
    "\n",
    "**NOTE**: I am going to do a quick and dirty job to prove my point. Keep in mind that we should split the data into a train and a test set or use cross-validation to have an accurate measure of the model performance."
   ]
  },
  {
   "cell_type": "code",
   "execution_count": 24,
   "metadata": {},
   "outputs": [],
   "source": [
    "from sklearn.linear_model import Lasso"
   ]
  },
  {
   "cell_type": "code",
   "execution_count": 25,
   "metadata": {},
   "outputs": [],
   "source": [
    "# Lasso regression.\n",
    "\n",
    "reg = Lasso(random_state=10)"
   ]
  },
  {
   "cell_type": "code",
   "execution_count": 26,
   "metadata": {},
   "outputs": [
    {
     "data": {
      "text/plain": [
       "0.10359654878036195"
      ]
     },
     "execution_count": 26,
     "metadata": {},
     "output_type": "execute_result"
    }
   ],
   "source": [
    "# Fit Lasso to the raw inputs.\n",
    "\n",
    "reg.fit(data[[\"Date_Time_month\", \"Date_Time_hour\"]], data[\"CO_sensor\"])\n",
    "\n",
    "# Get the R2\n",
    "reg.score(data[[\"Date_Time_month\", \"Date_Time_hour\"]], data[\"CO_sensor\"])"
   ]
  },
  {
   "cell_type": "code",
   "execution_count": 27,
   "metadata": {},
   "outputs": [
    {
     "data": {
      "text/plain": [
       "['Date_Time_month_sin',\n",
       " 'Date_Time_month_cos',\n",
       " 'Date_Time_hour_sin',\n",
       " 'Date_Time_hour_cos']"
      ]
     },
     "execution_count": 27,
     "metadata": {},
     "output_type": "execute_result"
    }
   ],
   "source": [
    "# Capture the trigonometrically transformed variables in a list.\n",
    "\n",
    "trig_vars = [var for var in data.columns if 'sin' in var or 'cos' in var]\n",
    "\n",
    "trig_vars"
   ]
  },
  {
   "cell_type": "code",
   "execution_count": 28,
   "metadata": {},
   "outputs": [
    {
     "data": {
      "text/plain": [
       "0.13263074168408584"
      ]
     },
     "execution_count": 28,
     "metadata": {},
     "output_type": "execute_result"
    }
   ],
   "source": [
    "# Fit Lasso with transformed inputs.\n",
    "\n",
    "reg.fit(data[trig_vars], data[\"CO_sensor\"])\n",
    "\n",
    "# Get the R2.\n",
    "reg.score(data[trig_vars], data[\"CO_sensor\"])"
   ]
  },
  {
   "cell_type": "markdown",
   "metadata": {},
   "source": [
    "As we see, with the transformed features we improved the performance of the model by roughly 30%.\n",
    "\n",
    "More details on working with temporal features in the [Scikit-learn docs](https://scikit-learn.org/stable/auto_examples/applications/plot_cyclical_feature_engineering.html#trigonometric-features)"
   ]
  },
  {
   "cell_type": "code",
   "execution_count": null,
   "metadata": {},
   "outputs": [],
   "source": []
  }
 ],
 "metadata": {
  "kernelspec": {
   "display_name": "fsml",
   "language": "python",
   "name": "fsml"
  },
  "language_info": {
   "codemirror_mode": {
    "name": "ipython",
    "version": 3
   },
   "file_extension": ".py",
   "mimetype": "text/x-python",
   "name": "python",
   "nbconvert_exporter": "python",
   "pygments_lexer": "ipython3",
   "version": "3.10.5"
  },
  "toc": {
   "base_numbering": 1,
   "nav_menu": {},
   "number_sections": true,
   "sideBar": true,
   "skip_h1_title": false,
   "title_cell": "Table of Contents",
   "title_sidebar": "Contents",
   "toc_cell": false,
   "toc_position": {},
   "toc_section_display": true,
   "toc_window_display": true
  }
 },
 "nbformat": 4,
 "nbformat_minor": 4
}
