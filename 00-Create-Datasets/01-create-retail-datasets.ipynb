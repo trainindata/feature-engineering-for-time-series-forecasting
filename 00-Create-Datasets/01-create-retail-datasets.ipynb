{
 "cells": [
  {
   "cell_type": "markdown",
   "id": "yellow-timer",
   "metadata": {},
   "source": [
    "In this notebook we will:\n",
    "\n",
    "1. Provide instructions to download the retail sales dataset\n",
    "\n",
    "2. Create processed versions of the time series for later use in the course\n",
    "\n",
    "3. Save the time series data for use in the course\n",
    "\n"
   ]
  },
  {
   "cell_type": "code",
   "execution_count": 1,
   "id": "active-petite",
   "metadata": {},
   "outputs": [],
   "source": [
    "import pandas as pd\n",
    "import numpy as np"
   ]
  },
  {
   "cell_type": "markdown",
   "id": "indonesian-winter",
   "metadata": {},
   "source": [
    "# Get the dataset"
   ]
  },
  {
   "cell_type": "markdown",
   "id": "average-month",
   "metadata": {},
   "source": [
    "The dataset can be obtained from this [link](https://raw.githubusercontent.com/facebook/prophet/master/examples/example_retail_sales.csv). It will open a raw file in GitHub. A simple way of obtaining the data is to copy and paste the values from your browser into a text editor of your choice. \n",
    "Save it in the Datasets directory, which is found at the root of this project, with the filename `example_retail_sales.csv`.\n",
    "\n",
    "After that, follow with the rest of the notebook:"
   ]
  },
  {
   "cell_type": "code",
   "execution_count": 2,
   "id": "worth-pakistan",
   "metadata": {},
   "outputs": [],
   "source": [
    "df = pd.read_csv('../Datasets/example_retail_sales.csv', parse_dates=['ds'], index_col=['ds'], nrows=160)"
   ]
  },
  {
   "cell_type": "markdown",
   "id": "better-hammer",
   "metadata": {},
   "source": [
    "# Create dataset with missing data"
   ]
  },
  {
   "cell_type": "code",
   "execution_count": 3,
   "id": "stylish-shanghai",
   "metadata": {},
   "outputs": [],
   "source": [
    "df_with_missing_data = df.copy()"
   ]
  },
  {
   "cell_type": "code",
   "execution_count": 4,
   "id": "south-translator",
   "metadata": {},
   "outputs": [],
   "source": [
    "# Insert missing data into dataframe\n",
    "df_with_missing_data.iloc[10:11] = np.NaN\n",
    "df_with_missing_data.iloc[25:28] = np.NaN\n",
    "df_with_missing_data.iloc[40:45] = np.NaN\n",
    "df_with_missing_data.iloc[70:94] = np.NaN"
   ]
  },
  {
   "cell_type": "code",
   "execution_count": 5,
   "id": "subtle-trading",
   "metadata": {},
   "outputs": [],
   "source": [
    "# Save dataset in Datasets directory\n",
    "df_with_missing_data.to_csv('../Datasets/example_retail_sales_with_missing_data.csv')"
   ]
  },
  {
   "cell_type": "markdown",
   "id": "victorian-uganda",
   "metadata": {},
   "source": [
    "# Create dataset with outliers"
   ]
  },
  {
   "cell_type": "code",
   "execution_count": 6,
   "id": "designed-college",
   "metadata": {},
   "outputs": [],
   "source": [
    "df_with_outliers = df.copy()"
   ]
  },
  {
   "cell_type": "code",
   "execution_count": 7,
   "id": "experimental-utilization",
   "metadata": {},
   "outputs": [],
   "source": [
    "# Insert outliers into dataframe\n",
    "outlier_idx = [20,33,66,150]\n",
    "df_with_outliers.iloc[outlier_idx] = df_with_outliers.iloc[outlier_idx]*1.7"
   ]
  },
  {
   "cell_type": "code",
   "execution_count": 8,
   "id": "registered-kenya",
   "metadata": {},
   "outputs": [],
   "source": [
    "# Save dataset in Datasets directory\n",
    "df_with_outliers.to_csv('../Datasets/example_retail_sales_with_outliers.csv')"
   ]
  }
 ],
 "metadata": {
  "kernelspec": {
   "display_name": "Python 3",
   "language": "python",
   "name": "python3"
  },
  "language_info": {
   "codemirror_mode": {
    "name": "ipython",
    "version": 3
   },
   "file_extension": ".py",
   "mimetype": "text/x-python",
   "name": "python",
   "nbconvert_exporter": "python",
   "pygments_lexer": "ipython3",
   "version": "3.8.7"
  },
  "toc": {
   "base_numbering": 1,
   "nav_menu": {},
   "number_sections": true,
   "sideBar": true,
   "skip_h1_title": false,
   "title_cell": "Table of Contents",
   "title_sidebar": "Contents",
   "toc_cell": false,
   "toc_position": {},
   "toc_section_display": true,
   "toc_window_display": false
  }
 },
 "nbformat": 4,
 "nbformat_minor": 5
}
