{
 "cells": [
  {
   "cell_type": "markdown",
   "metadata": {},
   "source": [
    "# Forecasting one step ahead\n",
    "\n",
    "In the previous notebook, we lined up the feature engineering steps into a Scikit-learn pipeline and then created all the features with one line of code.\n",
    "\n",
    "In this notebook, we'll examine how to use a train-test split strategy to forecast pollutant concentrations for the next hour.\n",
    "\n",
    "We'll split the data into train and test sets, then train the feature engineering stages and Lasso regression on the train set before evaluating the results on the test set.\n",
    "\n",
    "## Data\n",
    "\n",
    "We will work with the Air Quality Dataset from the [UCI Machine Learning Repository](https://archive.ics.uci.edu/ml/datasets/Air+Quality).\n",
    "\n",
    "For instructions on how to download, prepare, and store the dataset, refer to notebook number 3, in the folder \"01-Datasets\" from this repo."
   ]
  },
  {
   "cell_type": "code",
   "execution_count": 1,
   "metadata": {},
   "outputs": [],
   "source": [
    "import matplotlib.pyplot as plt\n",
    "import pandas as pd\n",
    "\n",
    "from feature_engine.creation import CyclicalFeatures\n",
    "from feature_engine.datetime import DatetimeFeatures\n",
    "from feature_engine.imputation import DropMissingData\n",
    "from feature_engine.selection import DropFeatures\n",
    "from feature_engine.timeseries.forecasting import (\n",
    "    LagFeatures,\n",
    "    WindowFeatures,\n",
    ")\n",
    "\n",
    "from sklearn.linear_model import Lasso\n",
    "from sklearn.metrics import mean_squared_error\n",
    "from sklearn.pipeline import Pipeline"
   ]
  },
  {
   "cell_type": "markdown",
   "metadata": {},
   "source": [
    "# Load data"
   ]
  },
  {
   "cell_type": "code",
   "execution_count": 2,
   "metadata": {},
   "outputs": [],
   "source": [
    "# Same function we saw in section 2.\n",
    "\n",
    "def load_data():\n",
    "\n",
    "    # Data lives here.\n",
    "    filename = \"../datasets/AirQualityUCI_ready.csv\"\n",
    "\n",
    "    # Load data: only the time variable and CO.\n",
    "    data = pd.read_csv(\n",
    "        filename,\n",
    "        usecols=[\"Date_Time\", \"CO_sensor\", \"RH\"],\n",
    "        parse_dates=[\"Date_Time\"],\n",
    "        index_col=[\"Date_Time\"],\n",
    "    )\n",
    "\n",
    "    # Sanity: sort index.\n",
    "    data.sort_index(inplace=True)\n",
    "\n",
    "    # Reduce data span.\n",
    "    data = data[\"2004-04-01\":\"2005-04-30\"]\n",
    "\n",
    "    # Remove outliers\n",
    "    data = data.loc[(data[\"CO_sensor\"] > 0)]\n",
    "\n",
    "    return data"
   ]
  },
  {
   "cell_type": "code",
   "execution_count": 3,
   "metadata": {},
   "outputs": [
    {
     "data": {
      "text/html": [
       "<div>\n",
       "<style scoped>\n",
       "    .dataframe tbody tr th:only-of-type {\n",
       "        vertical-align: middle;\n",
       "    }\n",
       "\n",
       "    .dataframe tbody tr th {\n",
       "        vertical-align: top;\n",
       "    }\n",
       "\n",
       "    .dataframe thead th {\n",
       "        text-align: right;\n",
       "    }\n",
       "</style>\n",
       "<table border=\"1\" class=\"dataframe\">\n",
       "  <thead>\n",
       "    <tr style=\"text-align: right;\">\n",
       "      <th></th>\n",
       "      <th>CO_sensor</th>\n",
       "      <th>RH</th>\n",
       "    </tr>\n",
       "    <tr>\n",
       "      <th>Date_Time</th>\n",
       "      <th></th>\n",
       "      <th></th>\n",
       "    </tr>\n",
       "  </thead>\n",
       "  <tbody>\n",
       "    <tr>\n",
       "      <th>2004-04-04 00:00:00</th>\n",
       "      <td>1224.0</td>\n",
       "      <td>56.5</td>\n",
       "    </tr>\n",
       "    <tr>\n",
       "      <th>2004-04-04 01:00:00</th>\n",
       "      <td>1215.0</td>\n",
       "      <td>59.2</td>\n",
       "    </tr>\n",
       "    <tr>\n",
       "      <th>2004-04-04 02:00:00</th>\n",
       "      <td>1115.0</td>\n",
       "      <td>62.4</td>\n",
       "    </tr>\n",
       "    <tr>\n",
       "      <th>2004-04-04 03:00:00</th>\n",
       "      <td>1124.0</td>\n",
       "      <td>65.0</td>\n",
       "    </tr>\n",
       "    <tr>\n",
       "      <th>2004-04-04 04:00:00</th>\n",
       "      <td>1028.0</td>\n",
       "      <td>65.3</td>\n",
       "    </tr>\n",
       "  </tbody>\n",
       "</table>\n",
       "</div>"
      ],
      "text/plain": [
       "                     CO_sensor    RH\n",
       "Date_Time                           \n",
       "2004-04-04 00:00:00     1224.0  56.5\n",
       "2004-04-04 01:00:00     1215.0  59.2\n",
       "2004-04-04 02:00:00     1115.0  62.4\n",
       "2004-04-04 03:00:00     1124.0  65.0\n",
       "2004-04-04 04:00:00     1028.0  65.3"
      ]
     },
     "execution_count": 3,
     "metadata": {},
     "output_type": "execute_result"
    }
   ],
   "source": [
    "# Load data.\n",
    "\n",
    "data = load_data()\n",
    "\n",
    "data.head()"
   ]
  },
  {
   "cell_type": "markdown",
   "metadata": {},
   "source": [
    "# Feature engineering steps\n",
    "\n",
    "The same pipeline from the previous notebook."
   ]
  },
  {
   "cell_type": "code",
   "execution_count": 4,
   "metadata": {},
   "outputs": [],
   "source": [
    "# Datetime features\n",
    "\n",
    "dtf = DatetimeFeatures(\n",
    "    # the datetime variable\n",
    "    variables=\"index\",\n",
    "    \n",
    "    # the features we want to create\n",
    "    features_to_extract=[\n",
    "        \"month\",\n",
    "        \"week\",\n",
    "        \"day_of_week\",\n",
    "        \"day_of_month\",\n",
    "        \"hour\",\n",
    "        \"weekend\",\n",
    "    ],\n",
    ")"
   ]
  },
  {
   "cell_type": "code",
   "execution_count": 5,
   "metadata": {},
   "outputs": [],
   "source": [
    "# Lag features.\n",
    "\n",
    "lagf = LagFeatures(\n",
    "    variables=[\"CO_sensor\", \"RH\"],  # the input variables\n",
    "    freq=[\"1H\", \"24H\"],  # move 1 hr and 24 hrs forward\n",
    "    missing_values=\"ignore\",\n",
    ")"
   ]
  },
  {
   "cell_type": "code",
   "execution_count": 6,
   "metadata": {},
   "outputs": [],
   "source": [
    "# Window features\n",
    "\n",
    "winf = WindowFeatures(\n",
    "    variables=[\"CO_sensor\", \"RH\"],  # the input variables\n",
    "    window=\"3H\",  # average of 3 previous hours\n",
    "    freq=\"1H\",  # move 1 hr forward\n",
    "    missing_values=\"ignore\",\n",
    ")"
   ]
  },
  {
   "cell_type": "code",
   "execution_count": 7,
   "metadata": {},
   "outputs": [],
   "source": [
    "# Periodic features\n",
    "\n",
    "cyclicf = CyclicalFeatures(\n",
    "    # The features we want to transform.\n",
    "    variables=[\"month\", \"hour\"],\n",
    "    # Whether to drop the original features.\n",
    "    drop_original=False,\n",
    ")"
   ]
  },
  {
   "cell_type": "code",
   "execution_count": 8,
   "metadata": {},
   "outputs": [],
   "source": [
    "# Drop missing data\n",
    "imputer = DropMissingData()"
   ]
  },
  {
   "cell_type": "code",
   "execution_count": 9,
   "metadata": {},
   "outputs": [],
   "source": [
    "# Drop original time series\n",
    "\n",
    "drop_ts = DropFeatures(features_to_drop=[\"CO_sensor\", \"RH\"])"
   ]
  },
  {
   "cell_type": "markdown",
   "metadata": {},
   "source": [
    "# Feature engineering pipeline"
   ]
  },
  {
   "cell_type": "code",
   "execution_count": 10,
   "metadata": {},
   "outputs": [],
   "source": [
    "pipe = Pipeline(\n",
    "    [\n",
    "        (\"datetime_features\", dtf),\n",
    "        (\"lagf\", lagf),\n",
    "        (\"winf\", winf),\n",
    "        (\"Periodic\", cyclicf),\n",
    "        (\"dropna\", imputer),\n",
    "        (\"drop_ts\", drop_ts),\n",
    "    ]\n",
    ")"
   ]
  },
  {
   "cell_type": "markdown",
   "metadata": {},
   "source": [
    "# Split data into train and test\n",
    "\n",
    "We will evaluate the performance of the model in a test set consisting of the last month of data."
   ]
  },
  {
   "cell_type": "code",
   "execution_count": 11,
   "metadata": {},
   "outputs": [
    {
     "data": {
      "text/plain": [
       "(Timestamp('2004-04-04 00:00:00'), Timestamp('2005-04-04 14:00:00'))"
      ]
     },
     "execution_count": 11,
     "metadata": {},
     "output_type": "execute_result"
    }
   ],
   "source": [
    "# Check data span:\n",
    "\n",
    "data.index.min(), data.index.max()"
   ]
  },
  {
   "cell_type": "markdown",
   "metadata": {},
   "source": [
    "Due to our 24h lag feature, we need data about the pollutant information at least 24 hours before the first forecasting point in the test set to create input features.\n",
    "\n",
    "Thus, the test set must contain the first forecasting point plus the previous 24 hours."
   ]
  },
  {
   "cell_type": "code",
   "execution_count": 12,
   "metadata": {},
   "outputs": [
    {
     "data": {
      "text/plain": [
       "Timestamp('2005-03-03 00:00:00')"
      ]
     },
     "execution_count": 12,
     "metadata": {},
     "output_type": "execute_result"
    }
   ],
   "source": [
    "# The last month of data begins on 2005-03-4.\n",
    "\n",
    "# But we need 24 hr of prior data to create\n",
    "# the necessary features:\n",
    "\n",
    "pd.Timestamp(\"2005-03-04\") - pd.offsets.Hour(24)"
   ]
  },
  {
   "cell_type": "code",
   "execution_count": 13,
   "metadata": {},
   "outputs": [],
   "source": [
    "# Split the data.\n",
    "\n",
    "# input data\n",
    "X_train = data[data.index < \"2005-03-04\"]\n",
    "X_test = data[data.index >= pd.Timestamp(\"2005-03-04\") - pd.offsets.Hour(24)]\n",
    "\n",
    "# target\n",
    "y_train = data[data.index < \"2005-03-04\"][\"CO_sensor\"]\n",
    "y_test = data[data.index >= pd.Timestamp(\"2005-03-04\") - pd.offsets.Hour(24)][\n",
    "    \"CO_sensor\"\n",
    "]"
   ]
  },
  {
   "cell_type": "code",
   "execution_count": 14,
   "metadata": {},
   "outputs": [
    {
     "data": {
      "text/plain": [
       "(Timestamp('2005-03-03 00:00:00'), Timestamp('2005-04-04 14:00:00'))"
      ]
     },
     "execution_count": 14,
     "metadata": {},
     "output_type": "execute_result"
    }
   ],
   "source": [
    "# Let's check that we have the correct data span\n",
    "# in the test set:\n",
    "\n",
    "X_test.index.min(), X_test.index.max()"
   ]
  },
  {
   "cell_type": "markdown",
   "metadata": {},
   "source": [
    "# Train pipeline and model\n",
    "\n",
    "We train the engineering steps and the pipeline utilizing the training set."
   ]
  },
  {
   "cell_type": "code",
   "execution_count": 15,
   "metadata": {},
   "outputs": [
    {
     "data": {
      "text/html": [
       "<div>\n",
       "<style scoped>\n",
       "    .dataframe tbody tr th:only-of-type {\n",
       "        vertical-align: middle;\n",
       "    }\n",
       "\n",
       "    .dataframe tbody tr th {\n",
       "        vertical-align: top;\n",
       "    }\n",
       "\n",
       "    .dataframe thead th {\n",
       "        text-align: right;\n",
       "    }\n",
       "</style>\n",
       "<table border=\"1\" class=\"dataframe\">\n",
       "  <thead>\n",
       "    <tr style=\"text-align: right;\">\n",
       "      <th></th>\n",
       "      <th>month</th>\n",
       "      <th>week</th>\n",
       "      <th>day_of_week</th>\n",
       "      <th>day_of_month</th>\n",
       "      <th>hour</th>\n",
       "      <th>weekend</th>\n",
       "      <th>CO_sensor_lag_1H</th>\n",
       "      <th>RH_lag_1H</th>\n",
       "      <th>CO_sensor_lag_24H</th>\n",
       "      <th>RH_lag_24H</th>\n",
       "      <th>CO_sensor_window_3H_mean</th>\n",
       "      <th>RH_window_3H_mean</th>\n",
       "      <th>month_sin</th>\n",
       "      <th>month_cos</th>\n",
       "      <th>hour_sin</th>\n",
       "      <th>hour_cos</th>\n",
       "    </tr>\n",
       "    <tr>\n",
       "      <th>Date_Time</th>\n",
       "      <th></th>\n",
       "      <th></th>\n",
       "      <th></th>\n",
       "      <th></th>\n",
       "      <th></th>\n",
       "      <th></th>\n",
       "      <th></th>\n",
       "      <th></th>\n",
       "      <th></th>\n",
       "      <th></th>\n",
       "      <th></th>\n",
       "      <th></th>\n",
       "      <th></th>\n",
       "      <th></th>\n",
       "      <th></th>\n",
       "      <th></th>\n",
       "    </tr>\n",
       "  </thead>\n",
       "  <tbody>\n",
       "    <tr>\n",
       "      <th>2004-04-05 00:00:00</th>\n",
       "      <td>4</td>\n",
       "      <td>15</td>\n",
       "      <td>0</td>\n",
       "      <td>5</td>\n",
       "      <td>0</td>\n",
       "      <td>0</td>\n",
       "      <td>1188.0</td>\n",
       "      <td>60.8</td>\n",
       "      <td>1224.0</td>\n",
       "      <td>56.5</td>\n",
       "      <td>1165.666667</td>\n",
       "      <td>58.566667</td>\n",
       "      <td>0.866025</td>\n",
       "      <td>-0.5</td>\n",
       "      <td>0.000000</td>\n",
       "      <td>1.000000</td>\n",
       "    </tr>\n",
       "    <tr>\n",
       "      <th>2004-04-05 01:00:00</th>\n",
       "      <td>4</td>\n",
       "      <td>15</td>\n",
       "      <td>0</td>\n",
       "      <td>5</td>\n",
       "      <td>1</td>\n",
       "      <td>0</td>\n",
       "      <td>1065.0</td>\n",
       "      <td>65.8</td>\n",
       "      <td>1215.0</td>\n",
       "      <td>59.2</td>\n",
       "      <td>1149.666667</td>\n",
       "      <td>61.800000</td>\n",
       "      <td>0.866025</td>\n",
       "      <td>-0.5</td>\n",
       "      <td>0.269797</td>\n",
       "      <td>0.962917</td>\n",
       "    </tr>\n",
       "    <tr>\n",
       "      <th>2004-04-05 02:00:00</th>\n",
       "      <td>4</td>\n",
       "      <td>15</td>\n",
       "      <td>0</td>\n",
       "      <td>5</td>\n",
       "      <td>2</td>\n",
       "      <td>0</td>\n",
       "      <td>999.0</td>\n",
       "      <td>79.2</td>\n",
       "      <td>1115.0</td>\n",
       "      <td>62.4</td>\n",
       "      <td>1084.000000</td>\n",
       "      <td>68.600000</td>\n",
       "      <td>0.866025</td>\n",
       "      <td>-0.5</td>\n",
       "      <td>0.519584</td>\n",
       "      <td>0.854419</td>\n",
       "    </tr>\n",
       "    <tr>\n",
       "      <th>2004-04-05 03:00:00</th>\n",
       "      <td>4</td>\n",
       "      <td>15</td>\n",
       "      <td>0</td>\n",
       "      <td>5</td>\n",
       "      <td>3</td>\n",
       "      <td>0</td>\n",
       "      <td>911.0</td>\n",
       "      <td>80.0</td>\n",
       "      <td>1124.0</td>\n",
       "      <td>65.0</td>\n",
       "      <td>991.666667</td>\n",
       "      <td>75.000000</td>\n",
       "      <td>0.866025</td>\n",
       "      <td>-0.5</td>\n",
       "      <td>0.730836</td>\n",
       "      <td>0.682553</td>\n",
       "    </tr>\n",
       "    <tr>\n",
       "      <th>2004-04-05 04:00:00</th>\n",
       "      <td>4</td>\n",
       "      <td>15</td>\n",
       "      <td>0</td>\n",
       "      <td>5</td>\n",
       "      <td>4</td>\n",
       "      <td>0</td>\n",
       "      <td>873.0</td>\n",
       "      <td>81.0</td>\n",
       "      <td>1028.0</td>\n",
       "      <td>65.3</td>\n",
       "      <td>927.666667</td>\n",
       "      <td>80.066667</td>\n",
       "      <td>0.866025</td>\n",
       "      <td>-0.5</td>\n",
       "      <td>0.887885</td>\n",
       "      <td>0.460065</td>\n",
       "    </tr>\n",
       "  </tbody>\n",
       "</table>\n",
       "</div>"
      ],
      "text/plain": [
       "                     month  week  day_of_week  day_of_month  hour  weekend  \\\n",
       "Date_Time                                                                    \n",
       "2004-04-05 00:00:00      4    15            0             5     0        0   \n",
       "2004-04-05 01:00:00      4    15            0             5     1        0   \n",
       "2004-04-05 02:00:00      4    15            0             5     2        0   \n",
       "2004-04-05 03:00:00      4    15            0             5     3        0   \n",
       "2004-04-05 04:00:00      4    15            0             5     4        0   \n",
       "\n",
       "                     CO_sensor_lag_1H  RH_lag_1H  CO_sensor_lag_24H  \\\n",
       "Date_Time                                                             \n",
       "2004-04-05 00:00:00            1188.0       60.8             1224.0   \n",
       "2004-04-05 01:00:00            1065.0       65.8             1215.0   \n",
       "2004-04-05 02:00:00             999.0       79.2             1115.0   \n",
       "2004-04-05 03:00:00             911.0       80.0             1124.0   \n",
       "2004-04-05 04:00:00             873.0       81.0             1028.0   \n",
       "\n",
       "                     RH_lag_24H  CO_sensor_window_3H_mean  RH_window_3H_mean  \\\n",
       "Date_Time                                                                      \n",
       "2004-04-05 00:00:00        56.5               1165.666667          58.566667   \n",
       "2004-04-05 01:00:00        59.2               1149.666667          61.800000   \n",
       "2004-04-05 02:00:00        62.4               1084.000000          68.600000   \n",
       "2004-04-05 03:00:00        65.0                991.666667          75.000000   \n",
       "2004-04-05 04:00:00        65.3                927.666667          80.066667   \n",
       "\n",
       "                     month_sin  month_cos  hour_sin  hour_cos  \n",
       "Date_Time                                                      \n",
       "2004-04-05 00:00:00   0.866025       -0.5  0.000000  1.000000  \n",
       "2004-04-05 01:00:00   0.866025       -0.5  0.269797  0.962917  \n",
       "2004-04-05 02:00:00   0.866025       -0.5  0.519584  0.854419  \n",
       "2004-04-05 03:00:00   0.866025       -0.5  0.730836  0.682553  \n",
       "2004-04-05 04:00:00   0.866025       -0.5  0.887885  0.460065  "
      ]
     },
     "execution_count": 15,
     "metadata": {},
     "output_type": "execute_result"
    }
   ],
   "source": [
    "# Train the pipeline and create features\n",
    "# for the train set:\n",
    "\n",
    "X_train_t = pipe.fit_transform(X_train)\n",
    "\n",
    "# Data with input features.\n",
    "X_train_t.head()"
   ]
  },
  {
   "cell_type": "code",
   "execution_count": 16,
   "metadata": {},
   "outputs": [
    {
     "name": "stdout",
     "output_type": "stream",
     "text": [
      "(6850,)\n",
      "(6427,)\n"
     ]
    }
   ],
   "source": [
    "# Our transformation pipeline removed observations\n",
    "# with missing data, so we need to remove those\n",
    "# observations from the target variable as well.\n",
    "\n",
    "print(y_train.shape)\n",
    "\n",
    "y_train_t = y_train.loc[X_train_t.index]\n",
    "\n",
    "print(y_train_t.shape)"
   ]
  },
  {
   "cell_type": "code",
   "execution_count": 17,
   "metadata": {},
   "outputs": [
    {
     "data": {
      "text/html": [
       "<style>#sk-container-id-1 {color: black;background-color: white;}#sk-container-id-1 pre{padding: 0;}#sk-container-id-1 div.sk-toggleable {background-color: white;}#sk-container-id-1 label.sk-toggleable__label {cursor: pointer;display: block;width: 100%;margin-bottom: 0;padding: 0.3em;box-sizing: border-box;text-align: center;}#sk-container-id-1 label.sk-toggleable__label-arrow:before {content: \"▸\";float: left;margin-right: 0.25em;color: #696969;}#sk-container-id-1 label.sk-toggleable__label-arrow:hover:before {color: black;}#sk-container-id-1 div.sk-estimator:hover label.sk-toggleable__label-arrow:before {color: black;}#sk-container-id-1 div.sk-toggleable__content {max-height: 0;max-width: 0;overflow: hidden;text-align: left;background-color: #f0f8ff;}#sk-container-id-1 div.sk-toggleable__content pre {margin: 0.2em;color: black;border-radius: 0.25em;background-color: #f0f8ff;}#sk-container-id-1 input.sk-toggleable__control:checked~div.sk-toggleable__content {max-height: 200px;max-width: 100%;overflow: auto;}#sk-container-id-1 input.sk-toggleable__control:checked~label.sk-toggleable__label-arrow:before {content: \"▾\";}#sk-container-id-1 div.sk-estimator input.sk-toggleable__control:checked~label.sk-toggleable__label {background-color: #d4ebff;}#sk-container-id-1 div.sk-label input.sk-toggleable__control:checked~label.sk-toggleable__label {background-color: #d4ebff;}#sk-container-id-1 input.sk-hidden--visually {border: 0;clip: rect(1px 1px 1px 1px);clip: rect(1px, 1px, 1px, 1px);height: 1px;margin: -1px;overflow: hidden;padding: 0;position: absolute;width: 1px;}#sk-container-id-1 div.sk-estimator {font-family: monospace;background-color: #f0f8ff;border: 1px dotted black;border-radius: 0.25em;box-sizing: border-box;margin-bottom: 0.5em;}#sk-container-id-1 div.sk-estimator:hover {background-color: #d4ebff;}#sk-container-id-1 div.sk-parallel-item::after {content: \"\";width: 100%;border-bottom: 1px solid gray;flex-grow: 1;}#sk-container-id-1 div.sk-label:hover label.sk-toggleable__label {background-color: #d4ebff;}#sk-container-id-1 div.sk-serial::before {content: \"\";position: absolute;border-left: 1px solid gray;box-sizing: border-box;top: 0;bottom: 0;left: 50%;z-index: 0;}#sk-container-id-1 div.sk-serial {display: flex;flex-direction: column;align-items: center;background-color: white;padding-right: 0.2em;padding-left: 0.2em;position: relative;}#sk-container-id-1 div.sk-item {position: relative;z-index: 1;}#sk-container-id-1 div.sk-parallel {display: flex;align-items: stretch;justify-content: center;background-color: white;position: relative;}#sk-container-id-1 div.sk-item::before, #sk-container-id-1 div.sk-parallel-item::before {content: \"\";position: absolute;border-left: 1px solid gray;box-sizing: border-box;top: 0;bottom: 0;left: 50%;z-index: -1;}#sk-container-id-1 div.sk-parallel-item {display: flex;flex-direction: column;z-index: 1;position: relative;background-color: white;}#sk-container-id-1 div.sk-parallel-item:first-child::after {align-self: flex-end;width: 50%;}#sk-container-id-1 div.sk-parallel-item:last-child::after {align-self: flex-start;width: 50%;}#sk-container-id-1 div.sk-parallel-item:only-child::after {width: 0;}#sk-container-id-1 div.sk-dashed-wrapped {border: 1px dashed gray;margin: 0 0.4em 0.5em 0.4em;box-sizing: border-box;padding-bottom: 0.4em;background-color: white;}#sk-container-id-1 div.sk-label label {font-family: monospace;font-weight: bold;display: inline-block;line-height: 1.2em;}#sk-container-id-1 div.sk-label-container {text-align: center;}#sk-container-id-1 div.sk-container {/* jupyter's `normalize.less` sets `[hidden] { display: none; }` but bootstrap.min.css set `[hidden] { display: none !important; }` so we also need the `!important` here to be able to override the default hidden behavior on the sphinx rendered scikit-learn.org. See: https://github.com/scikit-learn/scikit-learn/issues/21755 */display: inline-block !important;position: relative;}#sk-container-id-1 div.sk-text-repr-fallback {display: none;}</style><div id=\"sk-container-id-1\" class=\"sk-top-container\"><div class=\"sk-text-repr-fallback\"><pre>Lasso(random_state=0)</pre><b>In a Jupyter environment, please rerun this cell to show the HTML representation or trust the notebook. <br />On GitHub, the HTML representation is unable to render, please try loading this page with nbviewer.org.</b></div><div class=\"sk-container\" hidden><div class=\"sk-item\"><div class=\"sk-estimator sk-toggleable\"><input class=\"sk-toggleable__control sk-hidden--visually\" id=\"sk-estimator-id-1\" type=\"checkbox\" checked><label for=\"sk-estimator-id-1\" class=\"sk-toggleable__label sk-toggleable__label-arrow\">Lasso</label><div class=\"sk-toggleable__content\"><pre>Lasso(random_state=0)</pre></div></div></div></div></div>"
      ],
      "text/plain": [
       "Lasso(random_state=0)"
      ]
     },
     "execution_count": 17,
     "metadata": {},
     "output_type": "execute_result"
    }
   ],
   "source": [
    "# Lasso regression\n",
    "\n",
    "lasso = Lasso(random_state=0)\n",
    "\n",
    "# Train the model\n",
    "\n",
    "lasso.fit(X_train_t, y_train_t)"
   ]
  },
  {
   "cell_type": "code",
   "execution_count": 18,
   "metadata": {},
   "outputs": [
    {
     "data": {
      "text/plain": [
       "array([1153.64837067, 1033.54156603,  985.74093314, ..., 1343.3048774 ,\n",
       "       1243.24684182, 1168.50421853])"
      ]
     },
     "execution_count": 18,
     "metadata": {},
     "output_type": "execute_result"
    }
   ],
   "source": [
    "# Make predictions\n",
    "\n",
    "preds = lasso.predict(X_train_t)\n",
    "\n",
    "preds"
   ]
  },
  {
   "cell_type": "code",
   "execution_count": 19,
   "metadata": {},
   "outputs": [
    {
     "data": {
      "text/plain": [
       "Text(0.5, 1.0, 'Forecast: train set')"
      ]
     },
     "execution_count": 19,
     "metadata": {},
     "output_type": "execute_result"
    },
    {
     "data": {
      "image/png": "[encoded data removed]",
      "text/plain": [
       "<Figure size 432x288 with 1 Axes>"
      ]
     },
     "metadata": {
      "needs_background": "light"
     },
     "output_type": "display_data"
    }
   ],
   "source": [
    "# Plot the predictions vs the truth.\n",
    "\n",
    "plt.scatter(y_train_t, preds)\n",
    "plt.xlabel(\"CO_sensor\")\n",
    "plt.ylabel(\"Predictions\")\n",
    "plt.title(\"Forecast: train set\")"
   ]
  },
  {
   "cell_type": "code",
   "execution_count": 20,
   "metadata": {},
   "outputs": [
    {
     "data": {
      "text/plain": [
       "92.21694976514135"
      ]
     },
     "execution_count": 20,
     "metadata": {},
     "output_type": "execute_result"
    }
   ],
   "source": [
    "# The RMSE in the train set.\n",
    "\n",
    "mean_squared_error(preds, y_train_t, squared=False)"
   ]
  },
  {
   "cell_type": "markdown",
   "metadata": {},
   "source": [
    "On the train set, the model seems to be doing a decent job.\n",
    "\n",
    "# Evaluate model\n",
    "\n",
    "We will evaluate the performance of the model in our test set now."
   ]
  },
  {
   "cell_type": "code",
   "execution_count": 21,
   "metadata": {},
   "outputs": [
    {
     "data": {
      "text/html": [
       "<div>\n",
       "<style scoped>\n",
       "    .dataframe tbody tr th:only-of-type {\n",
       "        vertical-align: middle;\n",
       "    }\n",
       "\n",
       "    .dataframe tbody tr th {\n",
       "        vertical-align: top;\n",
       "    }\n",
       "\n",
       "    .dataframe thead th {\n",
       "        text-align: right;\n",
       "    }\n",
       "</style>\n",
       "<table border=\"1\" class=\"dataframe\">\n",
       "  <thead>\n",
       "    <tr style=\"text-align: right;\">\n",
       "      <th></th>\n",
       "      <th>month</th>\n",
       "      <th>week</th>\n",
       "      <th>day_of_week</th>\n",
       "      <th>day_of_month</th>\n",
       "      <th>hour</th>\n",
       "      <th>weekend</th>\n",
       "      <th>CO_sensor_lag_1H</th>\n",
       "      <th>RH_lag_1H</th>\n",
       "      <th>CO_sensor_lag_24H</th>\n",
       "      <th>RH_lag_24H</th>\n",
       "      <th>CO_sensor_window_3H_mean</th>\n",
       "      <th>RH_window_3H_mean</th>\n",
       "      <th>month_sin</th>\n",
       "      <th>month_cos</th>\n",
       "      <th>hour_sin</th>\n",
       "      <th>hour_cos</th>\n",
       "    </tr>\n",
       "    <tr>\n",
       "      <th>Date_Time</th>\n",
       "      <th></th>\n",
       "      <th></th>\n",
       "      <th></th>\n",
       "      <th></th>\n",
       "      <th></th>\n",
       "      <th></th>\n",
       "      <th></th>\n",
       "      <th></th>\n",
       "      <th></th>\n",
       "      <th></th>\n",
       "      <th></th>\n",
       "      <th></th>\n",
       "      <th></th>\n",
       "      <th></th>\n",
       "      <th></th>\n",
       "      <th></th>\n",
       "    </tr>\n",
       "  </thead>\n",
       "  <tbody>\n",
       "    <tr>\n",
       "      <th>2005-03-04 00:00:00</th>\n",
       "      <td>3</td>\n",
       "      <td>9</td>\n",
       "      <td>4</td>\n",
       "      <td>4</td>\n",
       "      <td>0</td>\n",
       "      <td>0</td>\n",
       "      <td>1179.0</td>\n",
       "      <td>82.0</td>\n",
       "      <td>1047.0</td>\n",
       "      <td>41.7</td>\n",
       "      <td>1223.333333</td>\n",
       "      <td>82.700000</td>\n",
       "      <td>1.0</td>\n",
       "      <td>6.123234e-17</td>\n",
       "      <td>0.000000</td>\n",
       "      <td>1.000000</td>\n",
       "    </tr>\n",
       "    <tr>\n",
       "      <th>2005-03-04 01:00:00</th>\n",
       "      <td>3</td>\n",
       "      <td>9</td>\n",
       "      <td>4</td>\n",
       "      <td>4</td>\n",
       "      <td>1</td>\n",
       "      <td>0</td>\n",
       "      <td>929.0</td>\n",
       "      <td>37.4</td>\n",
       "      <td>1030.0</td>\n",
       "      <td>43.3</td>\n",
       "      <td>1104.666667</td>\n",
       "      <td>67.300000</td>\n",
       "      <td>1.0</td>\n",
       "      <td>6.123234e-17</td>\n",
       "      <td>0.269797</td>\n",
       "      <td>0.962917</td>\n",
       "    </tr>\n",
       "    <tr>\n",
       "      <th>2005-03-04 02:00:00</th>\n",
       "      <td>3</td>\n",
       "      <td>9</td>\n",
       "      <td>4</td>\n",
       "      <td>4</td>\n",
       "      <td>2</td>\n",
       "      <td>0</td>\n",
       "      <td>951.0</td>\n",
       "      <td>40.8</td>\n",
       "      <td>986.0</td>\n",
       "      <td>45.9</td>\n",
       "      <td>1019.666667</td>\n",
       "      <td>53.400000</td>\n",
       "      <td>1.0</td>\n",
       "      <td>6.123234e-17</td>\n",
       "      <td>0.519584</td>\n",
       "      <td>0.854419</td>\n",
       "    </tr>\n",
       "    <tr>\n",
       "      <th>2005-03-04 03:00:00</th>\n",
       "      <td>3</td>\n",
       "      <td>9</td>\n",
       "      <td>4</td>\n",
       "      <td>4</td>\n",
       "      <td>3</td>\n",
       "      <td>0</td>\n",
       "      <td>938.0</td>\n",
       "      <td>44.2</td>\n",
       "      <td>992.0</td>\n",
       "      <td>49.7</td>\n",
       "      <td>939.333333</td>\n",
       "      <td>40.800000</td>\n",
       "      <td>1.0</td>\n",
       "      <td>6.123234e-17</td>\n",
       "      <td>0.730836</td>\n",
       "      <td>0.682553</td>\n",
       "    </tr>\n",
       "    <tr>\n",
       "      <th>2005-03-04 04:00:00</th>\n",
       "      <td>3</td>\n",
       "      <td>9</td>\n",
       "      <td>4</td>\n",
       "      <td>4</td>\n",
       "      <td>4</td>\n",
       "      <td>0</td>\n",
       "      <td>921.0</td>\n",
       "      <td>48.7</td>\n",
       "      <td>1076.0</td>\n",
       "      <td>56.3</td>\n",
       "      <td>936.666667</td>\n",
       "      <td>44.566667</td>\n",
       "      <td>1.0</td>\n",
       "      <td>6.123234e-17</td>\n",
       "      <td>0.887885</td>\n",
       "      <td>0.460065</td>\n",
       "    </tr>\n",
       "  </tbody>\n",
       "</table>\n",
       "</div>"
      ],
      "text/plain": [
       "                     month  week  day_of_week  day_of_month  hour  weekend  \\\n",
       "Date_Time                                                                    \n",
       "2005-03-04 00:00:00      3     9            4             4     0        0   \n",
       "2005-03-04 01:00:00      3     9            4             4     1        0   \n",
       "2005-03-04 02:00:00      3     9            4             4     2        0   \n",
       "2005-03-04 03:00:00      3     9            4             4     3        0   \n",
       "2005-03-04 04:00:00      3     9            4             4     4        0   \n",
       "\n",
       "                     CO_sensor_lag_1H  RH_lag_1H  CO_sensor_lag_24H  \\\n",
       "Date_Time                                                             \n",
       "2005-03-04 00:00:00            1179.0       82.0             1047.0   \n",
       "2005-03-04 01:00:00             929.0       37.4             1030.0   \n",
       "2005-03-04 02:00:00             951.0       40.8              986.0   \n",
       "2005-03-04 03:00:00             938.0       44.2              992.0   \n",
       "2005-03-04 04:00:00             921.0       48.7             1076.0   \n",
       "\n",
       "                     RH_lag_24H  CO_sensor_window_3H_mean  RH_window_3H_mean  \\\n",
       "Date_Time                                                                      \n",
       "2005-03-04 00:00:00        41.7               1223.333333          82.700000   \n",
       "2005-03-04 01:00:00        43.3               1104.666667          67.300000   \n",
       "2005-03-04 02:00:00        45.9               1019.666667          53.400000   \n",
       "2005-03-04 03:00:00        49.7                939.333333          40.800000   \n",
       "2005-03-04 04:00:00        56.3                936.666667          44.566667   \n",
       "\n",
       "                     month_sin     month_cos  hour_sin  hour_cos  \n",
       "Date_Time                                                         \n",
       "2005-03-04 00:00:00        1.0  6.123234e-17  0.000000  1.000000  \n",
       "2005-03-04 01:00:00        1.0  6.123234e-17  0.269797  0.962917  \n",
       "2005-03-04 02:00:00        1.0  6.123234e-17  0.519584  0.854419  \n",
       "2005-03-04 03:00:00        1.0  6.123234e-17  0.730836  0.682553  \n",
       "2005-03-04 04:00:00        1.0  6.123234e-17  0.887885  0.460065  "
      ]
     },
     "execution_count": 21,
     "metadata": {},
     "output_type": "execute_result"
    }
   ],
   "source": [
    "# Create the input features:\n",
    "\n",
    "X_test_t = pipe.transform(X_test)\n",
    "\n",
    "X_test_t.head()"
   ]
  },
  {
   "cell_type": "code",
   "execution_count": 22,
   "metadata": {},
   "outputs": [
    {
     "data": {
      "text/plain": [
       "(Timestamp('2005-03-04 00:00:00'), Timestamp('2005-04-04 14:00:00'))"
      ]
     },
     "execution_count": 22,
     "metadata": {},
     "output_type": "execute_result"
    }
   ],
   "source": [
    "# Note that the prior 24 hr of information\n",
    "# dissapeared from our test set (they had null data).\n",
    "\n",
    "# Our dataset contains the first forecasting point\n",
    "# as expected.\n",
    "\n",
    "X_test_t.index.min(), X_test_t.index.max()"
   ]
  },
  {
   "cell_type": "code",
   "execution_count": 23,
   "metadata": {},
   "outputs": [
    {
     "data": {
      "text/plain": [
       "array([1122.2269227 ,  855.95634311,  910.00549256,  931.51941646,\n",
       "        929.00244686,  868.51544281,  849.8519462 ,  907.782453  ,\n",
       "        972.14913519, 1006.27472793])"
      ]
     },
     "execution_count": 23,
     "metadata": {},
     "output_type": "execute_result"
    }
   ],
   "source": [
    "# Make predictions.\n",
    "\n",
    "preds = lasso.predict(X_test_t)\n",
    "\n",
    "preds[0:10]"
   ]
  },
  {
   "cell_type": "code",
   "execution_count": 24,
   "metadata": {},
   "outputs": [
    {
     "name": "stdout",
     "output_type": "stream",
     "text": [
      "(567,)\n",
      "(495,)\n"
     ]
    }
   ],
   "source": [
    "print(y_test.shape)\n",
    "\n",
    "# Adjust the target, it has observations\n",
    "# that were removed from the test set due\n",
    "# to null values.\n",
    "\n",
    "y_test_t = y_test.loc[X_test_t.index]\n",
    "\n",
    "print(y_test_t.shape)"
   ]
  },
  {
   "cell_type": "code",
   "execution_count": 25,
   "metadata": {},
   "outputs": [
    {
     "data": {
      "text/plain": [
       "Text(0.5, 1.0, 'Forecast: test set')"
      ]
     },
     "execution_count": 25,
     "metadata": {},
     "output_type": "execute_result"
    },
    {
     "data": {
      "image/png": "[encoded data removed]",
      "text/plain": [
       "<Figure size 432x288 with 1 Axes>"
      ]
     },
     "metadata": {
      "needs_background": "light"
     },
     "output_type": "display_data"
    }
   ],
   "source": [
    "# Plot the predictions vs the truth.\n",
    "\n",
    "plt.scatter(y_test_t, preds)\n",
    "plt.xlabel(\"CO_sensor\")\n",
    "plt.ylabel(\"Predictions\")\n",
    "plt.title(\"Forecast: test set\")"
   ]
  },
  {
   "cell_type": "code",
   "execution_count": 26,
   "metadata": {},
   "outputs": [
    {
     "data": {
      "text/plain": [
       "95.41416312467017"
      ]
     },
     "execution_count": 26,
     "metadata": {},
     "output_type": "execute_result"
    }
   ],
   "source": [
    "# RMSE in test set\n",
    "\n",
    "mean_squared_error(preds, y_test_t, squared=False)"
   ]
  },
  {
   "cell_type": "markdown",
   "metadata": {},
   "source": [
    "We see that our linear regression makes fairly good predictions of the pollutant concentration in the next hour."
   ]
  },
  {
   "cell_type": "code",
   "execution_count": null,
   "metadata": {},
   "outputs": [],
   "source": []
  }
 ],
 "metadata": {
  "kernelspec": {
   "display_name": "fsml",
   "language": "python",
   "name": "fsml"
  },
  "language_info": {
   "codemirror_mode": {
    "name": "ipython",
    "version": 3
   },
   "file_extension": ".py",
   "mimetype": "text/x-python",
   "name": "python",
   "nbconvert_exporter": "python",
   "pygments_lexer": "ipython3",
   "version": "3.10.5"
  },
  "toc": {
   "base_numbering": 1,
   "nav_menu": {},
   "number_sections": true,
   "sideBar": true,
   "skip_h1_title": false,
   "title_cell": "Table of Contents",
   "title_sidebar": "Contents",
   "toc_cell": false,
   "toc_position": {
    "height": "calc(100% - 180px)",
    "left": "10px",
    "top": "150px",
    "width": "169px"
   },
   "toc_section_display": true,
   "toc_window_display": true
  }
 },
 "nbformat": 4,
 "nbformat_minor": 4
}
