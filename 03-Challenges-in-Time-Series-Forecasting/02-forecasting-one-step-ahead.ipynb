{
 "cells": [
  {
   "cell_type": "markdown",
   "metadata": {},
   "source": [
    "# Forecasting one step ahead\n",
    "\n",
    "In the previous notebook, we lined up most of the engineering steps into a Scikit-learn pipeline and then created all the features with one line of code.\n",
    "\n",
    "In this notebook, we'll examine how to use a train-test split strategy to forecast pollutant concentrations for the next hour.\n",
    "\n",
    "We'll split the data into train and test sets, then train the feature engineering stages and Lasso regression on the train set before evaluating the results on the test set. \n",
    "\n",
    "## Data\n",
    "\n",
    "We will work with the Air Quality Dataset from the [UCI Machine Learning Repository](https://archive.ics.uci.edu/ml/datasets/Air+Quality).\n",
    "\n",
    "For instructions on how to download, prepare, and store the dataset, refer to notebook number 3, in the folder \"01-Datasets\" from this repo."
   ]
  },
  {
   "cell_type": "code",
   "execution_count": 1,
   "metadata": {},
   "outputs": [],
   "source": [
    "import matplotlib.pyplot as plt\n",
    "import numpy as np\n",
    "import pandas as pd\n",
    "\n",
    "from feature_engine.creation import (\n",
    "    CyclicalFeatures,\n",
    "    MathFeatures,\n",
    ")\n",
    "from feature_engine.datetime import DatetimeFeatures\n",
    "from feature_engine.imputation import DropMissingData\n",
    "from feature_engine.timeseries.forecasting import (\n",
    "    LagFeatures,\n",
    "    WindowFeatures,\n",
    ")\n",
    "\n",
    "from sklearn.base import BaseEstimator, TransformerMixin\n",
    "from sklearn.linear_model import Lasso\n",
    "from sklearn.metrics import mean_squared_error\n",
    "from sklearn.pipeline import Pipeline"
   ]
  },
  {
   "cell_type": "markdown",
   "metadata": {},
   "source": [
    "# Load data"
   ]
  },
  {
   "cell_type": "code",
   "execution_count": 2,
   "metadata": {},
   "outputs": [],
   "source": [
    "# We carry out all data preparation steps from the\n",
    "# notebook in section 2 within a function.\n",
    "\n",
    "\n",
    "def load_data():\n",
    "\n",
    "    # Data lives here.\n",
    "    filename = \"../datasets/AirQualityUCI_ready.csv\"\n",
    "\n",
    "    # Load data: only the time variable and CO.\n",
    "    data = pd.read_csv(\n",
    "        filename,\n",
    "        usecols=[\"Date_Time\", \"CO_sensor\"],\n",
    "        parse_dates=[\"Date_Time\"],\n",
    "        index_col=[\"Date_Time\"],\n",
    "    )\n",
    "\n",
    "    # Sanity: sort index.\n",
    "    data.sort_index(inplace=True)\n",
    "\n",
    "    # Reduce data span.\n",
    "    data = data[\"2004-04-01\":\"2005-04-30\"]\n",
    "\n",
    "    # Remove outliers\n",
    "    data = data.loc[(data[\"CO_sensor\"] > 0)]\n",
    "\n",
    "    return data"
   ]
  },
  {
   "cell_type": "code",
   "execution_count": 3,
   "metadata": {},
   "outputs": [
    {
     "data": {
      "text/html": [
       "<div>\n",
       "<style scoped>\n",
       "    .dataframe tbody tr th:only-of-type {\n",
       "        vertical-align: middle;\n",
       "    }\n",
       "\n",
       "    .dataframe tbody tr th {\n",
       "        vertical-align: top;\n",
       "    }\n",
       "\n",
       "    .dataframe thead th {\n",
       "        text-align: right;\n",
       "    }\n",
       "</style>\n",
       "<table border=\"1\" class=\"dataframe\">\n",
       "  <thead>\n",
       "    <tr style=\"text-align: right;\">\n",
       "      <th></th>\n",
       "      <th>CO_sensor</th>\n",
       "    </tr>\n",
       "    <tr>\n",
       "      <th>Date_Time</th>\n",
       "      <th></th>\n",
       "    </tr>\n",
       "  </thead>\n",
       "  <tbody>\n",
       "    <tr>\n",
       "      <th>2004-04-04 00:00:00</th>\n",
       "      <td>1224.0</td>\n",
       "    </tr>\n",
       "    <tr>\n",
       "      <th>2004-04-04 01:00:00</th>\n",
       "      <td>1215.0</td>\n",
       "    </tr>\n",
       "    <tr>\n",
       "      <th>2004-04-04 02:00:00</th>\n",
       "      <td>1115.0</td>\n",
       "    </tr>\n",
       "    <tr>\n",
       "      <th>2004-04-04 03:00:00</th>\n",
       "      <td>1124.0</td>\n",
       "    </tr>\n",
       "    <tr>\n",
       "      <th>2004-04-04 04:00:00</th>\n",
       "      <td>1028.0</td>\n",
       "    </tr>\n",
       "  </tbody>\n",
       "</table>\n",
       "</div>"
      ],
      "text/plain": [
       "                     CO_sensor\n",
       "Date_Time                     \n",
       "2004-04-04 00:00:00     1224.0\n",
       "2004-04-04 01:00:00     1215.0\n",
       "2004-04-04 02:00:00     1115.0\n",
       "2004-04-04 03:00:00     1124.0\n",
       "2004-04-04 04:00:00     1028.0"
      ]
     },
     "execution_count": 3,
     "metadata": {},
     "output_type": "execute_result"
    }
   ],
   "source": [
    "# Load data.\n",
    "\n",
    "data = load_data()\n",
    "\n",
    "data.head()"
   ]
  },
  {
   "cell_type": "markdown",
   "metadata": {},
   "source": [
    "# Our feature engineering class"
   ]
  },
  {
   "cell_type": "code",
   "execution_count": 4,
   "metadata": {},
   "outputs": [],
   "source": [
    "class SeasonalTransformer(BaseEstimator, TransformerMixin):\n",
    "    def __init__(self, season_var, variables):\n",
    "\n",
    "        # In the init we specify the parameters that\n",
    "        # the user needs to pass to start the transformer.\n",
    "\n",
    "        # The user needs to indicate the seasonal variable\n",
    "        # and the variables that should be aggregated.\n",
    "\n",
    "        self.season_var = season_var\n",
    "        self.variables = variables\n",
    "\n",
    "    def fit(self, X, y=None):\n",
    "\n",
    "        # We want to estimate the mean value of the\n",
    "        # time series in the seasonal term.\n",
    "\n",
    "        # In our demo, that is the mean pollutant's\n",
    "        # concentration per hour.\n",
    "\n",
    "        # We make a copy of the dataframe\n",
    "        # not to over-write the user's data.\n",
    "        X = X.copy()\n",
    "\n",
    "        # Calculate mean pollutant per hr.\n",
    "        # The learned values will be stored in this attribute.\n",
    "        self.seasonal_ = X.groupby(self.season_var)[self.variables].mean()\n",
    "\n",
    "        # Rename the new variables.\n",
    "        self.seasonal_.columns = [v + \"_season\" for v in self.variables]\n",
    "\n",
    "        # Reset index\n",
    "        self.seasonal_ = self.seasonal_.reset_index()\n",
    "\n",
    "        return self\n",
    "\n",
    "    def transform(self, X):\n",
    "\n",
    "        # Add the seasonal component to the\n",
    "        # dataset to transform.\n",
    "\n",
    "        X = X.copy()\n",
    "\n",
    "        # Store the datetime index (it is lost in merge)\n",
    "        index = X.index\n",
    "\n",
    "        # Add the seasonal feature.\n",
    "        X = X.merge(self.seasonal_, on=self.season_var, how=\"left\")\n",
    "\n",
    "        # Restore the datetime index to the df\n",
    "        X.index = index\n",
    "\n",
    "        # Drop input variable\n",
    "        X = X.drop(self.variables, axis=1)\n",
    "\n",
    "        return X"
   ]
  },
  {
   "cell_type": "markdown",
   "metadata": {},
   "source": [
    "# Feature engineering steps\n",
    "\n",
    "The same pipeline from the previous notebook."
   ]
  },
  {
   "cell_type": "code",
   "execution_count": 5,
   "metadata": {},
   "outputs": [],
   "source": [
    "# Datetime features\n",
    "dtf = DatetimeFeatures(\n",
    "    # the input dt variable\n",
    "    variables=\"index\",\n",
    "    # the features we want to create\n",
    "    features_to_extract=[\n",
    "        \"month\",\n",
    "        \"week\",\n",
    "        \"day_of_week\",\n",
    "        \"day_of_month\",\n",
    "        \"hour\",\n",
    "        \"weekend\",\n",
    "    ],\n",
    ")"
   ]
  },
  {
   "cell_type": "code",
   "execution_count": 6,
   "metadata": {},
   "outputs": [],
   "source": [
    "# Lag features.\n",
    "\n",
    "lagf = LagFeatures(\n",
    "    variables=\"CO_sensor\",  # the input variable\n",
    "    freq=[\"1H\", \"24H\"],  # move 1 hr and 24 hrs forward\n",
    "    missing_values=\"ignore\",\n",
    ")"
   ]
  },
  {
   "cell_type": "code",
   "execution_count": 7,
   "metadata": {},
   "outputs": [],
   "source": [
    "# Window features\n",
    "\n",
    "winf = WindowFeatures(\n",
    "    variables=\"CO_sensor\",  # the input variable\n",
    "    window=\"3H\",  # average of 3 previous hours\n",
    "    freq=\"1H\",  # move 1 hr forward\n",
    "    missing_values=\"ignore\",\n",
    ")"
   ]
  },
  {
   "cell_type": "code",
   "execution_count": 8,
   "metadata": {},
   "outputs": [],
   "source": [
    "# Feature combination\n",
    "\n",
    "combine = MathFeatures(\n",
    "    # the variables to combine\n",
    "    variables=[\"CO_sensor_lag_1H\", \"CO_sensor_lag_24H\"],\n",
    "    # we indicate we want the average\n",
    "    func=[\"mean\"],\n",
    "    # the name of the new feature\n",
    "    new_variables_names=[\"CO_lag_ave\"],\n",
    "    # what to do if the variables have NA\n",
    "    missing_values=\"ignore\",\n",
    ")"
   ]
  },
  {
   "cell_type": "code",
   "execution_count": 9,
   "metadata": {},
   "outputs": [],
   "source": [
    "# Periodic features\n",
    "\n",
    "cyclicf = CyclicalFeatures(\n",
    "    # The features we want to transform.\n",
    "    variables=[\"month\", \"hour\"],\n",
    "    # Whether to drop the original features.\n",
    "    drop_original=False,\n",
    ")"
   ]
  },
  {
   "cell_type": "code",
   "execution_count": 10,
   "metadata": {},
   "outputs": [],
   "source": [
    "# Drop missing data\n",
    "imputer = DropMissingData()"
   ]
  },
  {
   "cell_type": "code",
   "execution_count": 11,
   "metadata": {},
   "outputs": [],
   "source": [
    "# Seasonal feature\n",
    "\n",
    "seasonf = SeasonalTransformer(\n",
    "    # the seasonal variable\n",
    "    season_var=\"hour\",\n",
    "    # the time series\n",
    "    variables=[\"CO_sensor\"],\n",
    ")"
   ]
  },
  {
   "cell_type": "markdown",
   "metadata": {},
   "source": [
    "# Feature engineering pipeline"
   ]
  },
  {
   "cell_type": "code",
   "execution_count": 12,
   "metadata": {},
   "outputs": [],
   "source": [
    "pipe = Pipeline(\n",
    "    [\n",
    "        (\"datetime_features\", dtf),\n",
    "        (\"lagf\", lagf),\n",
    "        (\"winf\", winf),\n",
    "        (\"combine\", combine),\n",
    "        (\"Periodic\", cyclicf),\n",
    "        (\"dropna\", imputer),\n",
    "        (\"seasonal\", seasonf),\n",
    "    ]\n",
    ")"
   ]
  },
  {
   "cell_type": "markdown",
   "metadata": {},
   "source": [
    "# Split data into train and test\n",
    "\n",
    "We will evaluate the performance of the model in a test set consisting of the last month of data."
   ]
  },
  {
   "cell_type": "code",
   "execution_count": 13,
   "metadata": {},
   "outputs": [
    {
     "data": {
      "text/plain": [
       "(Timestamp('2004-04-04 00:00:00'), Timestamp('2005-04-04 14:00:00'))"
      ]
     },
     "execution_count": 13,
     "metadata": {},
     "output_type": "execute_result"
    }
   ],
   "source": [
    "# Check data span:\n",
    "\n",
    "data.index.min(), data.index.max()"
   ]
  },
  {
   "cell_type": "markdown",
   "metadata": {},
   "source": [
    "Due to our 24h lag feature, we need data about the pollutant information at least 24 hours before the forecasting point to create input features for the first day of the test set. So, our test set must contain the first forecasting point plus the previous 24 hours of prior information."
   ]
  },
  {
   "cell_type": "code",
   "execution_count": 14,
   "metadata": {},
   "outputs": [
    {
     "data": {
      "text/plain": [
       "Timestamp('2005-03-03 00:00:00')"
      ]
     },
     "execution_count": 14,
     "metadata": {},
     "output_type": "execute_result"
    }
   ],
   "source": [
    "# The last month of data begins on 2005-03-4.\n",
    "\n",
    "# But we need 24 hr of prior data to create\n",
    "# the necessary features:\n",
    "\n",
    "pd.Timestamp(\"2005-03-04\") - pd.offsets.Hour(24)"
   ]
  },
  {
   "cell_type": "code",
   "execution_count": 15,
   "metadata": {},
   "outputs": [],
   "source": [
    "# Split the data.\n",
    "\n",
    "# input data\n",
    "X_train = data[data.index < \"2005-03-04\"]\n",
    "X_test = data[data.index >= pd.Timestamp(\"2005-03-04\") - pd.offsets.Hour(24)]\n",
    "\n",
    "# target\n",
    "y_train = data[data.index < \"2005-03-04\"][\"CO_sensor\"]\n",
    "y_test = data[data.index >= pd.Timestamp(\"2005-03-04\") - pd.offsets.Hour(24)][\n",
    "    \"CO_sensor\"\n",
    "]"
   ]
  },
  {
   "cell_type": "code",
   "execution_count": 16,
   "metadata": {},
   "outputs": [
    {
     "data": {
      "text/plain": [
       "(Timestamp('2005-03-03 00:00:00'), Timestamp('2005-04-04 14:00:00'))"
      ]
     },
     "execution_count": 16,
     "metadata": {},
     "output_type": "execute_result"
    }
   ],
   "source": [
    "# Let's check that we have the correct data span:\n",
    "\n",
    "X_test.index.min(), X_test.index.max()"
   ]
  },
  {
   "cell_type": "markdown",
   "metadata": {},
   "source": [
    "# Train pipeline and model\n",
    "\n",
    "We train the engineering steps and the pipeline utilizing the training set."
   ]
  },
  {
   "cell_type": "code",
   "execution_count": 17,
   "metadata": {},
   "outputs": [
    {
     "data": {
      "text/html": [
       "<div>\n",
       "<style scoped>\n",
       "    .dataframe tbody tr th:only-of-type {\n",
       "        vertical-align: middle;\n",
       "    }\n",
       "\n",
       "    .dataframe tbody tr th {\n",
       "        vertical-align: top;\n",
       "    }\n",
       "\n",
       "    .dataframe thead th {\n",
       "        text-align: right;\n",
       "    }\n",
       "</style>\n",
       "<table border=\"1\" class=\"dataframe\">\n",
       "  <thead>\n",
       "    <tr style=\"text-align: right;\">\n",
       "      <th></th>\n",
       "      <th>month</th>\n",
       "      <th>week</th>\n",
       "      <th>day_of_week</th>\n",
       "      <th>day_of_month</th>\n",
       "      <th>hour</th>\n",
       "      <th>weekend</th>\n",
       "      <th>CO_sensor_lag_1H</th>\n",
       "      <th>CO_sensor_lag_24H</th>\n",
       "      <th>CO_sensor_window_3H_mean</th>\n",
       "      <th>CO_lag_ave</th>\n",
       "      <th>month_sin</th>\n",
       "      <th>month_cos</th>\n",
       "      <th>hour_sin</th>\n",
       "      <th>hour_cos</th>\n",
       "      <th>CO_sensor_season</th>\n",
       "    </tr>\n",
       "    <tr>\n",
       "      <th>Date_Time</th>\n",
       "      <th></th>\n",
       "      <th></th>\n",
       "      <th></th>\n",
       "      <th></th>\n",
       "      <th></th>\n",
       "      <th></th>\n",
       "      <th></th>\n",
       "      <th></th>\n",
       "      <th></th>\n",
       "      <th></th>\n",
       "      <th></th>\n",
       "      <th></th>\n",
       "      <th></th>\n",
       "      <th></th>\n",
       "      <th></th>\n",
       "    </tr>\n",
       "  </thead>\n",
       "  <tbody>\n",
       "    <tr>\n",
       "      <th>2004-04-05 00:00:00</th>\n",
       "      <td>4</td>\n",
       "      <td>15</td>\n",
       "      <td>0</td>\n",
       "      <td>5</td>\n",
       "      <td>0</td>\n",
       "      <td>0</td>\n",
       "      <td>1188.0</td>\n",
       "      <td>1224.0</td>\n",
       "      <td>1165.666667</td>\n",
       "      <td>1206.0</td>\n",
       "      <td>0.866025</td>\n",
       "      <td>-0.5</td>\n",
       "      <td>0.000000</td>\n",
       "      <td>1.000000</td>\n",
       "      <td>1039.513410</td>\n",
       "    </tr>\n",
       "    <tr>\n",
       "      <th>2004-04-05 01:00:00</th>\n",
       "      <td>4</td>\n",
       "      <td>15</td>\n",
       "      <td>0</td>\n",
       "      <td>5</td>\n",
       "      <td>1</td>\n",
       "      <td>0</td>\n",
       "      <td>1065.0</td>\n",
       "      <td>1215.0</td>\n",
       "      <td>1149.666667</td>\n",
       "      <td>1140.0</td>\n",
       "      <td>0.866025</td>\n",
       "      <td>-0.5</td>\n",
       "      <td>0.269797</td>\n",
       "      <td>0.962917</td>\n",
       "      <td>978.124528</td>\n",
       "    </tr>\n",
       "    <tr>\n",
       "      <th>2004-04-05 02:00:00</th>\n",
       "      <td>4</td>\n",
       "      <td>15</td>\n",
       "      <td>0</td>\n",
       "      <td>5</td>\n",
       "      <td>2</td>\n",
       "      <td>0</td>\n",
       "      <td>999.0</td>\n",
       "      <td>1115.0</td>\n",
       "      <td>1084.000000</td>\n",
       "      <td>1057.0</td>\n",
       "      <td>0.866025</td>\n",
       "      <td>-0.5</td>\n",
       "      <td>0.519584</td>\n",
       "      <td>0.854419</td>\n",
       "      <td>918.704120</td>\n",
       "    </tr>\n",
       "    <tr>\n",
       "      <th>2004-04-05 03:00:00</th>\n",
       "      <td>4</td>\n",
       "      <td>15</td>\n",
       "      <td>0</td>\n",
       "      <td>5</td>\n",
       "      <td>3</td>\n",
       "      <td>0</td>\n",
       "      <td>911.0</td>\n",
       "      <td>1124.0</td>\n",
       "      <td>991.666667</td>\n",
       "      <td>1017.5</td>\n",
       "      <td>0.866025</td>\n",
       "      <td>-0.5</td>\n",
       "      <td>0.730836</td>\n",
       "      <td>0.682553</td>\n",
       "      <td>880.855019</td>\n",
       "    </tr>\n",
       "    <tr>\n",
       "      <th>2004-04-05 04:00:00</th>\n",
       "      <td>4</td>\n",
       "      <td>15</td>\n",
       "      <td>0</td>\n",
       "      <td>5</td>\n",
       "      <td>4</td>\n",
       "      <td>0</td>\n",
       "      <td>873.0</td>\n",
       "      <td>1028.0</td>\n",
       "      <td>927.666667</td>\n",
       "      <td>950.5</td>\n",
       "      <td>0.866025</td>\n",
       "      <td>-0.5</td>\n",
       "      <td>0.887885</td>\n",
       "      <td>0.460065</td>\n",
       "      <td>864.211111</td>\n",
       "    </tr>\n",
       "  </tbody>\n",
       "</table>\n",
       "</div>"
      ],
      "text/plain": [
       "                     month  week  day_of_week  day_of_month  hour  weekend  \\\n",
       "Date_Time                                                                    \n",
       "2004-04-05 00:00:00      4    15            0             5     0        0   \n",
       "2004-04-05 01:00:00      4    15            0             5     1        0   \n",
       "2004-04-05 02:00:00      4    15            0             5     2        0   \n",
       "2004-04-05 03:00:00      4    15            0             5     3        0   \n",
       "2004-04-05 04:00:00      4    15            0             5     4        0   \n",
       "\n",
       "                     CO_sensor_lag_1H  CO_sensor_lag_24H  \\\n",
       "Date_Time                                                  \n",
       "2004-04-05 00:00:00            1188.0             1224.0   \n",
       "2004-04-05 01:00:00            1065.0             1215.0   \n",
       "2004-04-05 02:00:00             999.0             1115.0   \n",
       "2004-04-05 03:00:00             911.0             1124.0   \n",
       "2004-04-05 04:00:00             873.0             1028.0   \n",
       "\n",
       "                     CO_sensor_window_3H_mean  CO_lag_ave  month_sin  \\\n",
       "Date_Time                                                              \n",
       "2004-04-05 00:00:00               1165.666667      1206.0   0.866025   \n",
       "2004-04-05 01:00:00               1149.666667      1140.0   0.866025   \n",
       "2004-04-05 02:00:00               1084.000000      1057.0   0.866025   \n",
       "2004-04-05 03:00:00                991.666667      1017.5   0.866025   \n",
       "2004-04-05 04:00:00                927.666667       950.5   0.866025   \n",
       "\n",
       "                     month_cos  hour_sin  hour_cos  CO_sensor_season  \n",
       "Date_Time                                                             \n",
       "2004-04-05 00:00:00       -0.5  0.000000  1.000000       1039.513410  \n",
       "2004-04-05 01:00:00       -0.5  0.269797  0.962917        978.124528  \n",
       "2004-04-05 02:00:00       -0.5  0.519584  0.854419        918.704120  \n",
       "2004-04-05 03:00:00       -0.5  0.730836  0.682553        880.855019  \n",
       "2004-04-05 04:00:00       -0.5  0.887885  0.460065        864.211111  "
      ]
     },
     "execution_count": 17,
     "metadata": {},
     "output_type": "execute_result"
    }
   ],
   "source": [
    "# Train the pipeline and create features\n",
    "# for the train set:\n",
    "\n",
    "X_train_t = pipe.fit_transform(X_train)\n",
    "\n",
    "# Data with input features.\n",
    "X_train_t.head()"
   ]
  },
  {
   "cell_type": "code",
   "execution_count": 18,
   "metadata": {},
   "outputs": [
    {
     "name": "stdout",
     "output_type": "stream",
     "text": [
      "(6850,)\n",
      "(6427,)\n"
     ]
    }
   ],
   "source": [
    "# Our transformation pipeline removed observations\n",
    "# with missing data, so we need to remove those\n",
    "# observations from the target variable as well.\n",
    "\n",
    "print(y_train.shape)\n",
    "\n",
    "y_train_t = y_train.loc[X_train_t.index]\n",
    "\n",
    "print(y_train_t.shape)"
   ]
  },
  {
   "cell_type": "code",
   "execution_count": 19,
   "metadata": {},
   "outputs": [
    {
     "data": {
      "text/plain": [
       "Lasso(random_state=0)"
      ]
     },
     "execution_count": 19,
     "metadata": {},
     "output_type": "execute_result"
    }
   ],
   "source": [
    "# Lasso regression\n",
    "\n",
    "lasso = Lasso(random_state=0)\n",
    "\n",
    "# Train the model\n",
    "\n",
    "lasso.fit(X_train_t, y_train_t)"
   ]
  },
  {
   "cell_type": "code",
   "execution_count": 20,
   "metadata": {},
   "outputs": [
    {
     "data": {
      "text/plain": [
       "array([1157.84698374, 1032.03700696,  965.05176789, ..., 1322.34103146,\n",
       "       1223.16027802, 1152.93496619])"
      ]
     },
     "execution_count": 20,
     "metadata": {},
     "output_type": "execute_result"
    }
   ],
   "source": [
    "# Make predictions\n",
    "\n",
    "preds = lasso.predict(X_train_t)\n",
    "\n",
    "preds"
   ]
  },
  {
   "cell_type": "code",
   "execution_count": 21,
   "metadata": {},
   "outputs": [
    {
     "data": {
      "text/plain": [
       "Text(0.5, 1.0, 'Forecast: train set')"
      ]
     },
     "execution_count": 21,
     "metadata": {},
     "output_type": "execute_result"
    },
    {
     "data": {
      "image/png": "[encoded data removed]",
      "text/plain": [
       "<Figure size 432x288 with 1 Axes>"
      ]
     },
     "metadata": {
      "needs_background": "light"
     },
     "output_type": "display_data"
    }
   ],
   "source": [
    "# Plot the predictions vs the truth.\n",
    "\n",
    "plt.scatter(y_train_t, preds)\n",
    "plt.xlabel(\"CO_sensor\")\n",
    "plt.ylabel(\"Predictions\")\n",
    "plt.title(\"Forecast: train set\")"
   ]
  },
  {
   "cell_type": "code",
   "execution_count": 22,
   "metadata": {},
   "outputs": [
    {
     "data": {
      "text/plain": [
       "91.67240601835518"
      ]
     },
     "execution_count": 22,
     "metadata": {},
     "output_type": "execute_result"
    }
   ],
   "source": [
    "# The RMSE in the train set.\n",
    "\n",
    "mean_squared_error(preds, y_train_t, squared=False)"
   ]
  },
  {
   "cell_type": "markdown",
   "metadata": {},
   "source": [
    "On the train set, the model seems to be doing a decent job.\n",
    "\n",
    "# Forecast 1 hour ahead in test set\n",
    "\n",
    "We will evaluate the performance of the model in our test set now."
   ]
  },
  {
   "cell_type": "code",
   "execution_count": 23,
   "metadata": {},
   "outputs": [
    {
     "data": {
      "text/html": [
       "<div>\n",
       "<style scoped>\n",
       "    .dataframe tbody tr th:only-of-type {\n",
       "        vertical-align: middle;\n",
       "    }\n",
       "\n",
       "    .dataframe tbody tr th {\n",
       "        vertical-align: top;\n",
       "    }\n",
       "\n",
       "    .dataframe thead th {\n",
       "        text-align: right;\n",
       "    }\n",
       "</style>\n",
       "<table border=\"1\" class=\"dataframe\">\n",
       "  <thead>\n",
       "    <tr style=\"text-align: right;\">\n",
       "      <th></th>\n",
       "      <th>month</th>\n",
       "      <th>week</th>\n",
       "      <th>day_of_week</th>\n",
       "      <th>day_of_month</th>\n",
       "      <th>hour</th>\n",
       "      <th>weekend</th>\n",
       "      <th>CO_sensor_lag_1H</th>\n",
       "      <th>CO_sensor_lag_24H</th>\n",
       "      <th>CO_sensor_window_3H_mean</th>\n",
       "      <th>CO_lag_ave</th>\n",
       "      <th>month_sin</th>\n",
       "      <th>month_cos</th>\n",
       "      <th>hour_sin</th>\n",
       "      <th>hour_cos</th>\n",
       "      <th>CO_sensor_season</th>\n",
       "    </tr>\n",
       "    <tr>\n",
       "      <th>Date_Time</th>\n",
       "      <th></th>\n",
       "      <th></th>\n",
       "      <th></th>\n",
       "      <th></th>\n",
       "      <th></th>\n",
       "      <th></th>\n",
       "      <th></th>\n",
       "      <th></th>\n",
       "      <th></th>\n",
       "      <th></th>\n",
       "      <th></th>\n",
       "      <th></th>\n",
       "      <th></th>\n",
       "      <th></th>\n",
       "      <th></th>\n",
       "    </tr>\n",
       "  </thead>\n",
       "  <tbody>\n",
       "    <tr>\n",
       "      <th>2005-03-04 00:00:00</th>\n",
       "      <td>3</td>\n",
       "      <td>9</td>\n",
       "      <td>4</td>\n",
       "      <td>4</td>\n",
       "      <td>0</td>\n",
       "      <td>0</td>\n",
       "      <td>1179.0</td>\n",
       "      <td>1047.0</td>\n",
       "      <td>1223.333333</td>\n",
       "      <td>1113.0</td>\n",
       "      <td>1.0</td>\n",
       "      <td>6.123234e-17</td>\n",
       "      <td>0.000000</td>\n",
       "      <td>1.000000</td>\n",
       "      <td>1039.513410</td>\n",
       "    </tr>\n",
       "    <tr>\n",
       "      <th>2005-03-04 01:00:00</th>\n",
       "      <td>3</td>\n",
       "      <td>9</td>\n",
       "      <td>4</td>\n",
       "      <td>4</td>\n",
       "      <td>1</td>\n",
       "      <td>0</td>\n",
       "      <td>929.0</td>\n",
       "      <td>1030.0</td>\n",
       "      <td>1104.666667</td>\n",
       "      <td>979.5</td>\n",
       "      <td>1.0</td>\n",
       "      <td>6.123234e-17</td>\n",
       "      <td>0.269797</td>\n",
       "      <td>0.962917</td>\n",
       "      <td>978.124528</td>\n",
       "    </tr>\n",
       "    <tr>\n",
       "      <th>2005-03-04 02:00:00</th>\n",
       "      <td>3</td>\n",
       "      <td>9</td>\n",
       "      <td>4</td>\n",
       "      <td>4</td>\n",
       "      <td>2</td>\n",
       "      <td>0</td>\n",
       "      <td>951.0</td>\n",
       "      <td>986.0</td>\n",
       "      <td>1019.666667</td>\n",
       "      <td>968.5</td>\n",
       "      <td>1.0</td>\n",
       "      <td>6.123234e-17</td>\n",
       "      <td>0.519584</td>\n",
       "      <td>0.854419</td>\n",
       "      <td>918.704120</td>\n",
       "    </tr>\n",
       "    <tr>\n",
       "      <th>2005-03-04 03:00:00</th>\n",
       "      <td>3</td>\n",
       "      <td>9</td>\n",
       "      <td>4</td>\n",
       "      <td>4</td>\n",
       "      <td>3</td>\n",
       "      <td>0</td>\n",
       "      <td>938.0</td>\n",
       "      <td>992.0</td>\n",
       "      <td>939.333333</td>\n",
       "      <td>965.0</td>\n",
       "      <td>1.0</td>\n",
       "      <td>6.123234e-17</td>\n",
       "      <td>0.730836</td>\n",
       "      <td>0.682553</td>\n",
       "      <td>880.855019</td>\n",
       "    </tr>\n",
       "    <tr>\n",
       "      <th>2005-03-04 04:00:00</th>\n",
       "      <td>3</td>\n",
       "      <td>9</td>\n",
       "      <td>4</td>\n",
       "      <td>4</td>\n",
       "      <td>4</td>\n",
       "      <td>0</td>\n",
       "      <td>921.0</td>\n",
       "      <td>1076.0</td>\n",
       "      <td>936.666667</td>\n",
       "      <td>998.5</td>\n",
       "      <td>1.0</td>\n",
       "      <td>6.123234e-17</td>\n",
       "      <td>0.887885</td>\n",
       "      <td>0.460065</td>\n",
       "      <td>864.211111</td>\n",
       "    </tr>\n",
       "  </tbody>\n",
       "</table>\n",
       "</div>"
      ],
      "text/plain": [
       "                     month  week  day_of_week  day_of_month  hour  weekend  \\\n",
       "Date_Time                                                                    \n",
       "2005-03-04 00:00:00      3     9            4             4     0        0   \n",
       "2005-03-04 01:00:00      3     9            4             4     1        0   \n",
       "2005-03-04 02:00:00      3     9            4             4     2        0   \n",
       "2005-03-04 03:00:00      3     9            4             4     3        0   \n",
       "2005-03-04 04:00:00      3     9            4             4     4        0   \n",
       "\n",
       "                     CO_sensor_lag_1H  CO_sensor_lag_24H  \\\n",
       "Date_Time                                                  \n",
       "2005-03-04 00:00:00            1179.0             1047.0   \n",
       "2005-03-04 01:00:00             929.0             1030.0   \n",
       "2005-03-04 02:00:00             951.0              986.0   \n",
       "2005-03-04 03:00:00             938.0              992.0   \n",
       "2005-03-04 04:00:00             921.0             1076.0   \n",
       "\n",
       "                     CO_sensor_window_3H_mean  CO_lag_ave  month_sin  \\\n",
       "Date_Time                                                              \n",
       "2005-03-04 00:00:00               1223.333333      1113.0        1.0   \n",
       "2005-03-04 01:00:00               1104.666667       979.5        1.0   \n",
       "2005-03-04 02:00:00               1019.666667       968.5        1.0   \n",
       "2005-03-04 03:00:00                939.333333       965.0        1.0   \n",
       "2005-03-04 04:00:00                936.666667       998.5        1.0   \n",
       "\n",
       "                        month_cos  hour_sin  hour_cos  CO_sensor_season  \n",
       "Date_Time                                                                \n",
       "2005-03-04 00:00:00  6.123234e-17  0.000000  1.000000       1039.513410  \n",
       "2005-03-04 01:00:00  6.123234e-17  0.269797  0.962917        978.124528  \n",
       "2005-03-04 02:00:00  6.123234e-17  0.519584  0.854419        918.704120  \n",
       "2005-03-04 03:00:00  6.123234e-17  0.730836  0.682553        880.855019  \n",
       "2005-03-04 04:00:00  6.123234e-17  0.887885  0.460065        864.211111  "
      ]
     },
     "execution_count": 23,
     "metadata": {},
     "output_type": "execute_result"
    }
   ],
   "source": [
    "# Create the input features:\n",
    "\n",
    "X_test_t = pipe.transform(X_test)\n",
    "\n",
    "X_test_t.head()"
   ]
  },
  {
   "cell_type": "code",
   "execution_count": 24,
   "metadata": {},
   "outputs": [
    {
     "data": {
      "text/plain": [
       "(Timestamp('2005-03-04 00:00:00'), Timestamp('2005-04-04 14:00:00'))"
      ]
     },
     "execution_count": 24,
     "metadata": {},
     "output_type": "execute_result"
    }
   ],
   "source": [
    "# Note that the prior 24 hr of information\n",
    "# dissapeared from our test set (they had null data).\n",
    "\n",
    "# Our dataset contains the first forecasting point\n",
    "# as expected.\n",
    "\n",
    "X_test_t.index.min(), X_test_t.index.max()"
   ]
  },
  {
   "cell_type": "code",
   "execution_count": 25,
   "metadata": {},
   "outputs": [
    {
     "data": {
      "text/plain": [
       "array([1120.03389708,  890.71973879,  917.77699032,  918.47441179,\n",
       "        910.1414645 ,  855.699437  ,  847.70489415,  929.6904844 ,\n",
       "       1002.25279801, 1029.8363643 ])"
      ]
     },
     "execution_count": 25,
     "metadata": {},
     "output_type": "execute_result"
    }
   ],
   "source": [
    "# Make predictions.\n",
    "\n",
    "preds = lasso.predict(X_test_t)\n",
    "\n",
    "preds[0:10]"
   ]
  },
  {
   "cell_type": "code",
   "execution_count": 26,
   "metadata": {},
   "outputs": [
    {
     "name": "stdout",
     "output_type": "stream",
     "text": [
      "(567,)\n",
      "(495,)\n"
     ]
    }
   ],
   "source": [
    "print(y_test.shape)\n",
    "\n",
    "# Adjust the target, it has observations\n",
    "# that were removed from the test set due\n",
    "# to null values.\n",
    "\n",
    "y_test_t = y_test.loc[X_test_t.index]\n",
    "\n",
    "print(y_test_t.shape)"
   ]
  },
  {
   "cell_type": "code",
   "execution_count": 27,
   "metadata": {},
   "outputs": [
    {
     "data": {
      "text/plain": [
       "Text(0.5, 1.0, 'Forecast: test set')"
      ]
     },
     "execution_count": 27,
     "metadata": {},
     "output_type": "execute_result"
    },
    {
     "data": {
      "image/png": "[encoded data removed]",
      "text/plain": [
       "<Figure size 432x288 with 1 Axes>"
      ]
     },
     "metadata": {
      "needs_background": "light"
     },
     "output_type": "display_data"
    }
   ],
   "source": [
    "# Plot the predictions vs the truth.\n",
    "\n",
    "plt.scatter(y_test_t, preds)\n",
    "plt.xlabel(\"CO_sensor\")\n",
    "plt.ylabel(\"Predictions\")\n",
    "plt.title(\"Forecast: test set\")"
   ]
  },
  {
   "cell_type": "code",
   "execution_count": 28,
   "metadata": {},
   "outputs": [
    {
     "data": {
      "text/plain": [
       "92.62517930172112"
      ]
     },
     "execution_count": 28,
     "metadata": {},
     "output_type": "execute_result"
    }
   ],
   "source": [
    "# RMSE in test set\n",
    "\n",
    "mean_squared_error(preds, y_test_t, squared=False)"
   ]
  },
  {
   "cell_type": "markdown",
   "metadata": {},
   "source": [
    "We see that our linear regression makes fairly good predictions of the pollutant concentration in the next hour.\n",
    "\n",
    "That is all for this notebook, in the next one, we will add a step to benchmark our model using the train set."
   ]
  }
 ],
 "metadata": {
  "kernelspec": {
   "display_name": "fenotebook",
   "language": "python",
   "name": "fenotebook"
  },
  "language_info": {
   "codemirror_mode": {
    "name": "ipython",
    "version": 3
   },
   "file_extension": ".py",
   "mimetype": "text/x-python",
   "name": "python",
   "nbconvert_exporter": "python",
   "pygments_lexer": "ipython3",
   "version": "3.8.2"
  },
  "toc": {
   "base_numbering": 1,
   "nav_menu": {},
   "number_sections": true,
   "sideBar": true,
   "skip_h1_title": false,
   "title_cell": "Table of Contents",
   "title_sidebar": "Contents",
   "toc_cell": false,
   "toc_position": {},
   "toc_section_display": true,
   "toc_window_display": true
  }
 },
 "nbformat": 4,
 "nbformat_minor": 4
}
