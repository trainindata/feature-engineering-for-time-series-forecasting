{
 "cells": [
  {
   "cell_type": "markdown",
   "metadata": {},
   "source": [
    "# Creating a feature engineering pipeline\n",
    "\n",
    "In the previous notebook, we refactored our feature engineering steps into Scikit-learn-like classes or replaced them with transformers from Feature-engine. These new classes can be incorporated into a Scikit-learn pipeline to make the feature creation process easier.\n",
    "\n",
    "In this notebook, we will line up all the feature transformation steps into a pipeline and execute the feature extraction in fewer lines of code.\n",
    "\n",
    "## Data\n",
    "\n",
    "We will work with the Air Quality Dataset from the [UCI Machine Learning Repository](https://archive.ics.uci.edu/ml/datasets/Air+Quality).\n",
    "\n",
    "For instructions on how to download, prepare, and store the dataset, refer to notebook number 3, in the folder \"01-Datasets\" from this repo."
   ]
  },
  {
   "cell_type": "code",
   "execution_count": 1,
   "metadata": {},
   "outputs": [],
   "source": [
    "import numpy as np\n",
    "import pandas as pd\n",
    "import matplotlib.pyplot as plt\n",
    "\n",
    "from sklearn.base import (\n",
    "    BaseEstimator,\n",
    "    TransformerMixin,\n",
    "    RegressorMixin,\n",
    ")\n",
    "\n",
    "from sklearn.linear_model import Lasso\n",
    "from sklearn.metrics import mean_squared_error\n",
    "from sklearn.pipeline import Pipeline\n",
    "from sklearn.preprocessing import MinMaxScaler\n",
    "\n",
    "from feature_engine.creation import CyclicalTransformer, MathematicalCombination\n",
    "from feature_engine.datetime import DatetimeFeatures\n",
    "from feature_engine.imputation import DropMissingData\n",
    "from feature_engine.selection import DropFeatures"
   ]
  },
  {
   "cell_type": "markdown",
   "metadata": {},
   "source": [
    "# Load Data"
   ]
  },
  {
   "cell_type": "code",
   "execution_count": 2,
   "metadata": {},
   "outputs": [],
   "source": [
    "# We pack all the data preparation steps in one function\n",
    "\n",
    "\n",
    "def load_data():\n",
    "    \n",
    "    # Data lives here.\n",
    "    filename = '../datasets/AirQualityUCI_ready.csv'\n",
    "\n",
    "    # Load data.\n",
    "    data = pd.read_csv(filename)\n",
    "    \n",
    "    # We'll only use sensor data, temperature\n",
    "    # and relative humidity. Thus, we drop all \n",
    "    # other variables.\n",
    "\n",
    "    drop_vars  = [var for var in data.columns if '_true' in var]\n",
    "    drop_vars.append('AH')\n",
    "\n",
    "    # Remove variables.\n",
    "    data.drop(labels=drop_vars, axis=1, inplace=True)\n",
    "    \n",
    "    # Cast date variable in datetime format.\n",
    "\n",
    "    data['Date_Time'] = pd.to_datetime(data['Date_Time'])\n",
    "\n",
    "    # Set the index to the timestamp.\n",
    "\n",
    "    data.index = data['Date_Time']\n",
    "\n",
    "    # Sanity: sort index.\n",
    "\n",
    "    data.sort_index(inplace=True)\n",
    "    \n",
    "    # Remove data with a lot of missing information.\n",
    "\n",
    "    # Check our notebook in section 2 to understand\n",
    "    # why we perform this step\n",
    "\n",
    "    data = data[(\n",
    "        data['Date_Time'] >= '2004-04-01') &\n",
    "        (data['Date_Time'] <= '2005-04-30')\n",
    "    ]\n",
    "    \n",
    "    variables = [var for var in data.columns if var != 'Date_Time']\n",
    "    \n",
    "    \n",
    "    data = data.loc[(data[variables]>0).all(axis=1)]\n",
    "    \n",
    "    return data"
   ]
  },
  {
   "cell_type": "code",
   "execution_count": 3,
   "metadata": {},
   "outputs": [
    {
     "data": {
      "text/html": [
       "<div>\n",
       "<style scoped>\n",
       "    .dataframe tbody tr th:only-of-type {\n",
       "        vertical-align: middle;\n",
       "    }\n",
       "\n",
       "    .dataframe tbody tr th {\n",
       "        vertical-align: top;\n",
       "    }\n",
       "\n",
       "    .dataframe thead th {\n",
       "        text-align: right;\n",
       "    }\n",
       "</style>\n",
       "<table border=\"1\" class=\"dataframe\">\n",
       "  <thead>\n",
       "    <tr style=\"text-align: right;\">\n",
       "      <th></th>\n",
       "      <th>Date_Time</th>\n",
       "      <th>CO_sensor</th>\n",
       "      <th>NMHC_sensor</th>\n",
       "      <th>NOX_sensor</th>\n",
       "      <th>NO2_sensor</th>\n",
       "      <th>O3_sensor</th>\n",
       "      <th>T</th>\n",
       "      <th>RH</th>\n",
       "    </tr>\n",
       "    <tr>\n",
       "      <th>Date_Time</th>\n",
       "      <th></th>\n",
       "      <th></th>\n",
       "      <th></th>\n",
       "      <th></th>\n",
       "      <th></th>\n",
       "      <th></th>\n",
       "      <th></th>\n",
       "      <th></th>\n",
       "    </tr>\n",
       "  </thead>\n",
       "  <tbody>\n",
       "    <tr>\n",
       "      <th>2004-04-04 00:00:00</th>\n",
       "      <td>2004-04-04 00:00:00</td>\n",
       "      <td>1224.0</td>\n",
       "      <td>892.0</td>\n",
       "      <td>884.0</td>\n",
       "      <td>1580.0</td>\n",
       "      <td>923.0</td>\n",
       "      <td>16.7</td>\n",
       "      <td>56.5</td>\n",
       "    </tr>\n",
       "    <tr>\n",
       "      <th>2004-04-04 01:00:00</th>\n",
       "      <td>2004-04-04 01:00:00</td>\n",
       "      <td>1215.0</td>\n",
       "      <td>843.0</td>\n",
       "      <td>929.0</td>\n",
       "      <td>1551.0</td>\n",
       "      <td>862.0</td>\n",
       "      <td>15.9</td>\n",
       "      <td>59.2</td>\n",
       "    </tr>\n",
       "    <tr>\n",
       "      <th>2004-04-04 02:00:00</th>\n",
       "      <td>2004-04-04 02:00:00</td>\n",
       "      <td>1115.0</td>\n",
       "      <td>782.0</td>\n",
       "      <td>980.0</td>\n",
       "      <td>1500.0</td>\n",
       "      <td>752.0</td>\n",
       "      <td>15.2</td>\n",
       "      <td>62.4</td>\n",
       "    </tr>\n",
       "    <tr>\n",
       "      <th>2004-04-04 03:00:00</th>\n",
       "      <td>2004-04-04 03:00:00</td>\n",
       "      <td>1124.0</td>\n",
       "      <td>793.0</td>\n",
       "      <td>965.0</td>\n",
       "      <td>1521.0</td>\n",
       "      <td>791.0</td>\n",
       "      <td>14.7</td>\n",
       "      <td>65.0</td>\n",
       "    </tr>\n",
       "    <tr>\n",
       "      <th>2004-04-04 04:00:00</th>\n",
       "      <td>2004-04-04 04:00:00</td>\n",
       "      <td>1028.0</td>\n",
       "      <td>682.0</td>\n",
       "      <td>1090.0</td>\n",
       "      <td>1448.0</td>\n",
       "      <td>697.0</td>\n",
       "      <td>14.3</td>\n",
       "      <td>65.3</td>\n",
       "    </tr>\n",
       "  </tbody>\n",
       "</table>\n",
       "</div>"
      ],
      "text/plain": [
       "                              Date_Time  CO_sensor  NMHC_sensor  NOX_sensor  \\\n",
       "Date_Time                                                                     \n",
       "2004-04-04 00:00:00 2004-04-04 00:00:00     1224.0        892.0       884.0   \n",
       "2004-04-04 01:00:00 2004-04-04 01:00:00     1215.0        843.0       929.0   \n",
       "2004-04-04 02:00:00 2004-04-04 02:00:00     1115.0        782.0       980.0   \n",
       "2004-04-04 03:00:00 2004-04-04 03:00:00     1124.0        793.0       965.0   \n",
       "2004-04-04 04:00:00 2004-04-04 04:00:00     1028.0        682.0      1090.0   \n",
       "\n",
       "                     NO2_sensor  O3_sensor     T    RH  \n",
       "Date_Time                                               \n",
       "2004-04-04 00:00:00      1580.0      923.0  16.7  56.5  \n",
       "2004-04-04 01:00:00      1551.0      862.0  15.9  59.2  \n",
       "2004-04-04 02:00:00      1500.0      752.0  15.2  62.4  \n",
       "2004-04-04 03:00:00      1521.0      791.0  14.7  65.0  \n",
       "2004-04-04 04:00:00      1448.0      697.0  14.3  65.3  "
      ]
     },
     "execution_count": 3,
     "metadata": {},
     "output_type": "execute_result"
    }
   ],
   "source": [
    "data = load_data()\n",
    "\n",
    "data.head()"
   ]
  },
  {
   "cell_type": "markdown",
   "metadata": {},
   "source": [
    "# Our Feature engineering classes"
   ]
  },
  {
   "cell_type": "markdown",
   "metadata": {},
   "source": [
    "## Lag Features"
   ]
  },
  {
   "cell_type": "code",
   "execution_count": 4,
   "metadata": {},
   "outputs": [],
   "source": [
    "class LagFeatures(BaseEstimator, TransformerMixin):\n",
    "\n",
    "    def __init__(self, features, frequency, label):\n",
    "\n",
    "        # In the init we specify the parameters that\n",
    "        # the user needs to pass to start the transformer.\n",
    "\n",
    "        # The user needs to indicate which features to lag,\n",
    "        # how much we should lag the variables, \n",
    "        # and the name for the new variables.\n",
    "        \n",
    "        self.features = features\n",
    "        self.frequency = frequency\n",
    "        self.label = label\n",
    "\n",
    "    def fit(self, X, y=None):\n",
    "\n",
    "        # We do not need to learn parameters\n",
    "\n",
    "        return self\n",
    "\n",
    "    def transform(self, X):\n",
    "\n",
    "        # We lag the features\n",
    "\n",
    "        # We make a copy not to over-write the original data\n",
    "        X = X.copy()\n",
    "\n",
    "        # Shift the data forward.\n",
    "        tmp = X[self.features].shift(freq=self.frequency)\n",
    "\n",
    "        # Name the new variables.\n",
    "        tmp.columns = [v + self.label for v in self.features]\n",
    "\n",
    "        # Add the variables to the original data.\n",
    "        X = X.merge(tmp, left_index=True, right_index=True, how='left')\n",
    "\n",
    "        return X"
   ]
  },
  {
   "cell_type": "markdown",
   "metadata": {},
   "source": [
    "## Window features"
   ]
  },
  {
   "cell_type": "code",
   "execution_count": 5,
   "metadata": {},
   "outputs": [],
   "source": [
    "class WindowFeatures(BaseEstimator, TransformerMixin):\n",
    "\n",
    "    def __init__(self, features, window, frequency):\n",
    "\n",
    "        # In the init we specify the parameters that\n",
    "        # the user needs to pass to start the transformer.\n",
    "\n",
    "        # The user needs to indicate the features to use for the computation\n",
    "        # the size of the window,\n",
    "        # and the frequency to shift forward.\n",
    "        \n",
    "        self.features = features\n",
    "        self.window = window\n",
    "        self.frequency = frequency\n",
    "\n",
    "    def fit(self, X, y=None):\n",
    "\n",
    "        # We do not need to learn parameters\n",
    "\n",
    "        return self\n",
    "\n",
    "    def transform(self, X):\n",
    "\n",
    "        # First we calculate the average of the feature in\n",
    "        # the indicated window, then we shift the value forward\n",
    "        # based on the indicated frequency.\n",
    "\n",
    "        X = X.copy()\n",
    "\n",
    "        tmp = (X[self.features]\n",
    "               .rolling(window=self.window).mean()\n",
    "               .shift(freq=self.frequency)\n",
    "               )\n",
    "\n",
    "        # Rename the columns\n",
    "        tmp.columns = [v + '_window' for v in self.features]\n",
    "\n",
    "        # Add the variables to the original data.\n",
    "        X = X.merge(tmp, left_index=True, right_index=True, how='left')\n",
    "\n",
    "        return X"
   ]
  },
  {
   "cell_type": "markdown",
   "metadata": {},
   "source": [
    "## Seasonality Features\n",
    "\n",
    "Note that this is the only class that learns parameters from the data!"
   ]
  },
  {
   "cell_type": "code",
   "execution_count": 6,
   "metadata": {},
   "outputs": [],
   "source": [
    "class SeasonalTransformer(BaseEstimator, TransformerMixin):\n",
    "\n",
    "    def __init__(self, season_var, variables):\n",
    "\n",
    "        # In the init we specify the parameters that\n",
    "        # the user needs to pass to start the transformer.\n",
    "\n",
    "        # The user needs to indicate the seasonal variable\n",
    "        # and the variables that should be aggregated.\n",
    "\n",
    "        self.season_var = season_var\n",
    "        self.variables = variables\n",
    "\n",
    "    def fit(self, X, y=None):\n",
    "\n",
    "        # We want to estimate the mean value of the\n",
    "        # time series in the seasonal term.\n",
    "\n",
    "        # In our demo, that is the mean pollutant's \n",
    "        # concentration per hour.\n",
    "\n",
    "        # We make a copy of the dataframe \n",
    "        # not to over-write the user's data.\n",
    "        X = X.copy()\n",
    "\n",
    "        # Calcualte mean pollutant per hr.\n",
    "        # The learned values will be stored in this attribute.\n",
    "        self.seasonal_ = X.groupby(self.season_var)[self.variables].mean()\n",
    "\n",
    "        # Rename the new variables.\n",
    "        self.seasonal_.columns = [v + '_season' for v in self.variables]\n",
    "\n",
    "        return self\n",
    "\n",
    "    def transform(self, X):\n",
    "\n",
    "        # We want to add the seasonal component to the\n",
    "        # dataset to transform.\n",
    "\n",
    "        X = X.copy()\n",
    "\n",
    "        X = X.merge(self.seasonal_, on=self.season_var, how='left')\n",
    "\n",
    "        return X"
   ]
  },
  {
   "cell_type": "markdown",
   "metadata": {},
   "source": [
    "# Feature Engineering Pipeline"
   ]
  },
  {
   "cell_type": "code",
   "execution_count": 7,
   "metadata": {},
   "outputs": [],
   "source": [
    "# Some hard coded values\n",
    "\n",
    "# Original variables\n",
    "variables = [var for var in data.columns if var !='Date_Time']\n",
    "\n",
    "# Pollutants (our targets)\n",
    "pollutants = variables[:-2]\n",
    "\n",
    "lag_1 = ['CO_sensor_lag_1',\n",
    "         'NMHC_sensor_lag_1',\n",
    "         'NOX_sensor_lag_1',\n",
    "         'NO2_sensor_lag_1',\n",
    "         'O3_sensor_lag_1',\n",
    "         'T_lag_1',\n",
    "         'RH_lag_1']\n",
    "\n",
    "lag_24 = ['CO_sensor_lag_24',\n",
    "          'NMHC_sensor_lag_24',\n",
    "          'NOX_sensor_lag_24',\n",
    "          'NO2_sensor_lag_24',\n",
    "          'O3_sensor_lag_24',\n",
    "          'T_lag_24',\n",
    "          'RH_lag_24']"
   ]
  },
  {
   "cell_type": "code",
   "execution_count": 8,
   "metadata": {},
   "outputs": [],
   "source": [
    "engineering_pipe = Pipeline([\n",
    "\n",
    "    # Extract datetime features\n",
    "    ('datetime_features', DatetimeFeatures(\n",
    "        features_to_extract=[\"month\",\n",
    "                             \"week_of_the_year\",\n",
    "                             \"day_of_the_week\",\n",
    "                             \"day_of_the_month\",\n",
    "                             \"hour\",\n",
    "                             \"weekend\",\n",
    "                            ],\n",
    "        drop_original=False)),\n",
    "\n",
    "    # Lag Features\n",
    "    ('lag_1', LagFeatures(variables, '1H', '_lag_1')),\n",
    "    ('lag_24', LagFeatures(variables, '24H', '_lag_24')),\n",
    "\n",
    "    # Window Features\n",
    "    ('window_features', WindowFeatures(variables, '3H', '1H')),\n",
    "\n",
    "    # Combine pollutants\n",
    "    ('Combine_lag_1', MathematicalCombination(\n",
    "        variables_to_combine=lag_1,\n",
    "        math_operations=['sum'],\n",
    "        new_variables_names=['total_poll_lag_1'],\n",
    "        missing_values='ignore')),\n",
    "\n",
    "    ('Combine_lag_24', MathematicalCombination(\n",
    "        variables_to_combine=lag_24,\n",
    "        math_operations=['sum'],\n",
    "        new_variables_names=['total_poll_lag_1'],\n",
    "        missing_values='ignore')),\n",
    "\n",
    "    # Periodic features\n",
    "    ('Periodic', CyclicalTransformer(\n",
    "        variables=['Date_Time_month', 'Date_Time_hour'],\n",
    "        drop_original=False)),\n",
    "\n",
    "    # Drop missing data\n",
    "    ('dropna', DropMissingData(missing_only=True)),\n",
    "\n",
    "])"
   ]
  },
  {
   "cell_type": "code",
   "execution_count": 9,
   "metadata": {},
   "outputs": [
    {
     "name": "stdout",
     "output_type": "stream",
     "text": [
      "(7379, 8)\n",
      "(6892, 40)\n"
     ]
    }
   ],
   "source": [
    "print(data.shape)\n",
    "\n",
    "data = engineering_pipe.fit_transform(data)\n",
    "\n",
    "print(data.shape)"
   ]
  },
  {
   "cell_type": "markdown",
   "metadata": {},
   "source": [
    "# Naive Forecast\n",
    "\n",
    "We will predict the pollutant's concentration at time t with its value at time t-1. We will use this model as a benchmark. We will compare the results of Linear Regression against this benchmark."
   ]
  },
  {
   "cell_type": "code",
   "execution_count": 10,
   "metadata": {},
   "outputs": [],
   "source": [
    "class NaiveForecast(BaseEstimator, RegressorMixin):\n",
    "\n",
    "    def __init__(self, predictor_var):\n",
    "\n",
    "        # In the init we specify the parameters that\n",
    "        # the user needs to pass to start the transformer.\n",
    "\n",
    "        # The user needs to indicate the seasonal variable\n",
    "        # and the variables that should be aggregated.\n",
    "\n",
    "        self.predictor_var = predictor_var\n",
    "\n",
    "    def fit(self, X, y):\n",
    "\n",
    "        # We want to estimate the mean value of the\n",
    "        # time series in the seasonal term.\n",
    "\n",
    "        return self\n",
    "\n",
    "    def predict(self, X):\n",
    "\n",
    "        # We want to add the seasonal component to the\n",
    "        # dataset to transform.\n",
    "\n",
    "        return X[self.predictor_var]"
   ]
  },
  {
   "cell_type": "markdown",
   "metadata": {},
   "source": [
    "## Test the Naive Forecaster"
   ]
  },
  {
   "cell_type": "code",
   "execution_count": 11,
   "metadata": {},
   "outputs": [
    {
     "data": {
      "text/plain": [
       "Date_Time\n",
       "2004-04-05 00:00:00    1188.0\n",
       "2004-04-05 01:00:00    1065.0\n",
       "2004-04-05 02:00:00     999.0\n",
       "2004-04-05 03:00:00     911.0\n",
       "2004-04-05 04:00:00     873.0\n",
       "                        ...  \n",
       "2005-04-04 10:00:00    1297.0\n",
       "2005-04-04 11:00:00    1314.0\n",
       "2005-04-04 12:00:00    1163.0\n",
       "2005-04-04 13:00:00    1142.0\n",
       "2005-04-04 14:00:00    1003.0\n",
       "Name: CO_sensor_lag_1, Length: 6892, dtype: float64"
      ]
     },
     "execution_count": 11,
     "metadata": {},
     "output_type": "execute_result"
    }
   ],
   "source": [
    "# Test our predictor class\n",
    "\n",
    "naive = NaiveForecast(predictor_var='CO_sensor_lag_1')\n",
    "\n",
    "naive.fit(data, data['CO_sensor'])\n",
    "\n",
    "preds = naive.predict(data)\n",
    "\n",
    "preds"
   ]
  },
  {
   "cell_type": "markdown",
   "metadata": {},
   "source": [
    "## Forecast"
   ]
  },
  {
   "cell_type": "code",
   "execution_count": 12,
   "metadata": {},
   "outputs": [],
   "source": [
    "# Load Data\n",
    "\n",
    "data = load_data()"
   ]
  },
  {
   "cell_type": "code",
   "execution_count": 13,
   "metadata": {},
   "outputs": [],
   "source": [
    "# Create features\n",
    "\n",
    "data = engineering_pipe.transform(data)"
   ]
  },
  {
   "cell_type": "code",
   "execution_count": 14,
   "metadata": {},
   "outputs": [
    {
     "data": {
      "text/plain": [
       "((6398, 40), (494, 40))"
      ]
     },
     "execution_count": 14,
     "metadata": {},
     "output_type": "execute_result"
    }
   ],
   "source": [
    "# Split the data\n",
    "\n",
    "X_train = data[data.index<='2005-03-04']\n",
    "X_test = data[data.index>'2005-03-04']\n",
    "\n",
    "X_train.shape, X_test.shape"
   ]
  },
  {
   "cell_type": "code",
   "execution_count": 15,
   "metadata": {},
   "outputs": [
    {
     "data": {
      "text/plain": [
       "NaiveForecast(predictor_var='CO_sensor_lag_1')"
      ]
     },
     "execution_count": 15,
     "metadata": {},
     "output_type": "execute_result"
    }
   ],
   "source": [
    "# Forecast\n",
    "\n",
    "naive = NaiveForecast(predictor_var='CO_sensor_lag_1')\n",
    "\n",
    "naive.fit(X_train, data['CO_sensor'])"
   ]
  },
  {
   "cell_type": "code",
   "execution_count": 16,
   "metadata": {},
   "outputs": [
    {
     "name": "stdout",
     "output_type": "stream",
     "text": [
      "X_train rmse:  103.14617454328304\n"
     ]
    }
   ],
   "source": [
    "# Evaluate the forecast: train set\n",
    "\n",
    "print('X_train rmse: ',\n",
    "      mean_squared_error(\n",
    "          X_train['CO_sensor'], naive.predict(X_train), squared=False,\n",
    "      ))"
   ]
  },
  {
   "cell_type": "code",
   "execution_count": 17,
   "metadata": {},
   "outputs": [
    {
     "name": "stdout",
     "output_type": "stream",
     "text": [
      "X_test rmse:  111.12015235369915\n"
     ]
    }
   ],
   "source": [
    "# Evaluate the forecast: test set\n",
    "\n",
    "print('X_test rmse: ',\n",
    "      mean_squared_error(\n",
    "          X_test['CO_sensor'], naive.predict(X_test), squared=False,\n",
    "      ))"
   ]
  },
  {
   "cell_type": "markdown",
   "metadata": {},
   "source": [
    "# Linear Regression\n",
    "\n",
    "Random Forest regression models are not very good at extrapolating values beyond those observed in the data. So let's now train a machine learning pipeline with a Lasso regression for comparison."
   ]
  },
  {
   "cell_type": "code",
   "execution_count": 18,
   "metadata": {},
   "outputs": [],
   "source": [
    "# these are not predictor variables\n",
    "# yet, they are in the dataset, so we\n",
    "# need to be careful to drop them, before\n",
    "# training the lasso\n",
    "\n",
    "vars_to_drop = ['Date_Time',\n",
    "                'CO_sensor',\n",
    "                'NMHC_sensor',\n",
    "                'NOX_sensor',\n",
    "                'NO2_sensor',\n",
    "                'O3_sensor',\n",
    "                'T',\n",
    "                'RH']"
   ]
  },
  {
   "cell_type": "code",
   "execution_count": 19,
   "metadata": {},
   "outputs": [],
   "source": [
    "regression_pipe = Pipeline([\n",
    "    \n",
    "    # create seasonal features\n",
    "    ('seasonal', SeasonalTransformer(\n",
    "        season_var='Date_Time_hour', variables=pollutants)\n",
    "    ),\n",
    "    \n",
    "    # drop original (raw) variables. These are only \n",
    "    # needed to capture the seasonality.\n",
    "    ('drop_vars', DropFeatures(features_to_drop=vars_to_drop)),\n",
    "    \n",
    "    # scaler\n",
    "    ('scaler', MinMaxScaler()),\n",
    "    \n",
    "    # random forests\n",
    "    ('lasso', Lasso(random_state=0)),    \n",
    "])"
   ]
  },
  {
   "cell_type": "code",
   "execution_count": 20,
   "metadata": {},
   "outputs": [
    {
     "data": {
      "text/plain": [
       "Pipeline(steps=[('seasonal',\n",
       "                 SeasonalTransformer(season_var='Date_Time_hour',\n",
       "                                     variables=['CO_sensor', 'NMHC_sensor',\n",
       "                                                'NOX_sensor', 'NO2_sensor',\n",
       "                                                'O3_sensor'])),\n",
       "                ('drop_vars',\n",
       "                 DropFeatures(features_to_drop=['Date_Time', 'CO_sensor',\n",
       "                                                'NMHC_sensor', 'NOX_sensor',\n",
       "                                                'NO2_sensor', 'O3_sensor', 'T',\n",
       "                                                'RH'])),\n",
       "                ('scaler', MinMaxScaler()), ('lasso', Lasso(random_state=0))])"
      ]
     },
     "execution_count": 20,
     "metadata": {},
     "output_type": "execute_result"
    }
   ],
   "source": [
    "regression_pipe.fit(X_train, X_train['CO_sensor'])"
   ]
  },
  {
   "cell_type": "code",
   "execution_count": 21,
   "metadata": {},
   "outputs": [
    {
     "name": "stdout",
     "output_type": "stream",
     "text": [
      "X_train rmse:  92.11615316930721\n"
     ]
    }
   ],
   "source": [
    "print('X_train rmse: ',\n",
    "      mean_squared_error(\n",
    "          X_train['CO_sensor'], regression_pipe.predict(X_train), squared=False,\n",
    "      ))"
   ]
  },
  {
   "cell_type": "code",
   "execution_count": 22,
   "metadata": {},
   "outputs": [
    {
     "name": "stdout",
     "output_type": "stream",
     "text": [
      "X_test rmse:  93.39112295426037\n"
     ]
    }
   ],
   "source": [
    "print('X_test rmse: ',\n",
    "      mean_squared_error(\n",
    "          X_test['CO_sensor'], regression_pipe.predict(X_test), squared=False,\n",
    "      ))"
   ]
  },
  {
   "cell_type": "markdown",
   "metadata": {},
   "source": [
    "We can see an uplift with respect to the Naive forecast."
   ]
  },
  {
   "cell_type": "code",
   "execution_count": null,
   "metadata": {},
   "outputs": [],
   "source": []
  }
 ],
 "metadata": {
  "kernelspec": {
   "display_name": "fenotebook",
   "language": "python",
   "name": "fenotebook"
  },
  "language_info": {
   "codemirror_mode": {
    "name": "ipython",
    "version": 3
   },
   "file_extension": ".py",
   "mimetype": "text/x-python",
   "name": "python",
   "nbconvert_exporter": "python",
   "pygments_lexer": "ipython3",
   "version": "3.8.2"
  },
  "toc": {
   "base_numbering": 1,
   "nav_menu": {},
   "number_sections": true,
   "sideBar": true,
   "skip_h1_title": false,
   "title_cell": "Table of Contents",
   "title_sidebar": "Contents",
   "toc_cell": false,
   "toc_position": {},
   "toc_section_display": true,
   "toc_window_display": true
  }
 },
 "nbformat": 4,
 "nbformat_minor": 4
}
