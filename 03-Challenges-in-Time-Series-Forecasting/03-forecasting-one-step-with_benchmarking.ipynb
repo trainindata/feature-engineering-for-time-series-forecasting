{
 "cells": [
  {
   "cell_type": "markdown",
   "metadata": {},
   "source": [
    "# Forecasting one step ahead with benchmarking\n",
    "\n",
    "In the previous notebook, we used a train-test split strategy to forecast pollutant concentrations for the next hour. We trained the feature engineering stages and Lasso regression on the train set before evaluating the results on the test set.\n",
    "\n",
    "Here, we'll repeat the procedure, but this time we'll include a benchmarking step that uses expanding windows to get a measure of performance on the training set as well. \n",
    "\n",
    "\n",
    "## Data\n",
    "\n",
    "We will work with the Air Quality Dataset from the [UCI Machine Learning Repository](https://archive.ics.uci.edu/ml/datasets/Air+Quality).\n",
    "\n",
    "For instructions on how to download, prepare, and store the dataset, refer to notebook number 3, in the folder \"01-Datasets\" from this repo."
   ]
  },
  {
   "cell_type": "code",
   "execution_count": 1,
   "metadata": {},
   "outputs": [],
   "source": [
    "import matplotlib.pyplot as plt\n",
    "import numpy as np\n",
    "import pandas as pd\n",
    "\n",
    "from feature_engine.creation import (\n",
    "    CyclicalFeatures,\n",
    "    MathFeatures,\n",
    ")\n",
    "from feature_engine.datetime import DatetimeFeatures\n",
    "from feature_engine.imputation import DropMissingData\n",
    "from feature_engine.timeseries.forecasting import (\n",
    "    LagFeatures,\n",
    "    WindowFeatures,\n",
    ")\n",
    "\n",
    "from sklearn.base import BaseEstimator, TransformerMixin\n",
    "from sklearn.linear_model import Lasso\n",
    "from sklearn.metrics import mean_squared_error\n",
    "from sklearn.pipeline import Pipeline"
   ]
  },
  {
   "cell_type": "markdown",
   "metadata": {},
   "source": [
    "# Load data"
   ]
  },
  {
   "cell_type": "code",
   "execution_count": 2,
   "metadata": {},
   "outputs": [],
   "source": [
    "# We carry out all data preparation steps from the\n",
    "# notebook in section 2 within a function.\n",
    "\n",
    "def load_data():\n",
    "\n",
    "    # Data lives here.\n",
    "    filename = \"../datasets/AirQualityUCI_ready.csv\"\n",
    "\n",
    "    # Load data: only the time variable and CO.\n",
    "    data = pd.read_csv(\n",
    "        filename,\n",
    "        usecols=[\"Date_Time\", \"CO_sensor\"],\n",
    "        parse_dates=[\"Date_Time\"],\n",
    "        index_col=[\"Date_Time\"],\n",
    "    )\n",
    "\n",
    "    # Sanity: sort index.\n",
    "    data.sort_index(inplace=True)\n",
    "\n",
    "    # Reduce data span.\n",
    "    data = data[\"2004-04-01\":\"2005-04-30\"]\n",
    "\n",
    "    # Remove outliers\n",
    "    data = data.loc[(data[\"CO_sensor\"] > 0)]\n",
    "\n",
    "    return data"
   ]
  },
  {
   "cell_type": "code",
   "execution_count": 3,
   "metadata": {},
   "outputs": [
    {
     "data": {
      "text/html": [
       "<div>\n",
       "<style scoped>\n",
       "    .dataframe tbody tr th:only-of-type {\n",
       "        vertical-align: middle;\n",
       "    }\n",
       "\n",
       "    .dataframe tbody tr th {\n",
       "        vertical-align: top;\n",
       "    }\n",
       "\n",
       "    .dataframe thead th {\n",
       "        text-align: right;\n",
       "    }\n",
       "</style>\n",
       "<table border=\"1\" class=\"dataframe\">\n",
       "  <thead>\n",
       "    <tr style=\"text-align: right;\">\n",
       "      <th></th>\n",
       "      <th>CO_sensor</th>\n",
       "    </tr>\n",
       "    <tr>\n",
       "      <th>Date_Time</th>\n",
       "      <th></th>\n",
       "    </tr>\n",
       "  </thead>\n",
       "  <tbody>\n",
       "    <tr>\n",
       "      <th>2004-04-04 00:00:00</th>\n",
       "      <td>1224.0</td>\n",
       "    </tr>\n",
       "    <tr>\n",
       "      <th>2004-04-04 01:00:00</th>\n",
       "      <td>1215.0</td>\n",
       "    </tr>\n",
       "    <tr>\n",
       "      <th>2004-04-04 02:00:00</th>\n",
       "      <td>1115.0</td>\n",
       "    </tr>\n",
       "    <tr>\n",
       "      <th>2004-04-04 03:00:00</th>\n",
       "      <td>1124.0</td>\n",
       "    </tr>\n",
       "    <tr>\n",
       "      <th>2004-04-04 04:00:00</th>\n",
       "      <td>1028.0</td>\n",
       "    </tr>\n",
       "  </tbody>\n",
       "</table>\n",
       "</div>"
      ],
      "text/plain": [
       "                     CO_sensor\n",
       "Date_Time                     \n",
       "2004-04-04 00:00:00     1224.0\n",
       "2004-04-04 01:00:00     1215.0\n",
       "2004-04-04 02:00:00     1115.0\n",
       "2004-04-04 03:00:00     1124.0\n",
       "2004-04-04 04:00:00     1028.0"
      ]
     },
     "execution_count": 3,
     "metadata": {},
     "output_type": "execute_result"
    }
   ],
   "source": [
    "# Load data.\n",
    "\n",
    "data = load_data()\n",
    "\n",
    "data.head()"
   ]
  },
  {
   "cell_type": "markdown",
   "metadata": {},
   "source": [
    "# Our feature engineering class"
   ]
  },
  {
   "cell_type": "code",
   "execution_count": 4,
   "metadata": {},
   "outputs": [],
   "source": [
    "class SeasonalTransformer(BaseEstimator, TransformerMixin):\n",
    "    def __init__(self, season_var, variables):\n",
    "\n",
    "        # In the init we specify the parameters that\n",
    "        # the user needs to pass to start the transformer.\n",
    "\n",
    "        # The user needs to indicate the seasonal variable\n",
    "        # and the variables that should be aggregated.\n",
    "\n",
    "        self.season_var = season_var\n",
    "        self.variables = variables\n",
    "\n",
    "    def fit(self, X, y=None):\n",
    "\n",
    "        # We want to estimate the mean value of the\n",
    "        # time series in the seasonal term.\n",
    "\n",
    "        # In our demo, that is the mean pollutant's\n",
    "        # concentration per hour.\n",
    "\n",
    "        # We make a copy of the dataframe\n",
    "        # not to over-write the user's data.\n",
    "        X = X.copy()\n",
    "\n",
    "        # Calculate mean pollutant per hr.\n",
    "        # The learned values will be stored in this attribute.\n",
    "        self.seasonal_ = X.groupby(self.season_var)[self.variables].mean()\n",
    "\n",
    "        # Rename the new variables.\n",
    "        self.seasonal_.columns = [v + \"_season\" for v in self.variables]\n",
    "\n",
    "        # Reset index\n",
    "        self.seasonal_ = self.seasonal_.reset_index()\n",
    "\n",
    "        return self\n",
    "\n",
    "    def transform(self, X):\n",
    "\n",
    "        # Add the seasonal component to the\n",
    "        # dataset to transform.\n",
    "\n",
    "        X = X.copy()\n",
    "\n",
    "        # Store the datetime index (it is lost in merge)\n",
    "        index = X.index\n",
    "\n",
    "        # Add the seasonal feature.\n",
    "        X = X.merge(self.seasonal_, on=self.season_var, how=\"left\")\n",
    "\n",
    "        # Restore the datetime index to the df\n",
    "        X.index = index\n",
    "\n",
    "        # Drop input variable\n",
    "        X = X.drop(self.variables, axis=1)\n",
    "\n",
    "        return X"
   ]
  },
  {
   "cell_type": "markdown",
   "metadata": {},
   "source": [
    "# Feature engineering steps\n",
    "\n",
    "The same pipeline from the previous notebook."
   ]
  },
  {
   "cell_type": "code",
   "execution_count": 5,
   "metadata": {},
   "outputs": [],
   "source": [
    "# Datetime features\n",
    "\n",
    "dtf = DatetimeFeatures(\n",
    "\n",
    "    # the input dt variable\n",
    "    variables=\"index\",\n",
    "    \n",
    "    # the features we want to create\n",
    "    features_to_extract=[\n",
    "        \"month\",\n",
    "        \"week\",\n",
    "        \"day_of_week\",\n",
    "        \"day_of_month\",\n",
    "        \"hour\",\n",
    "        \"weekend\",\n",
    "    ],\n",
    ")"
   ]
  },
  {
   "cell_type": "code",
   "execution_count": 6,
   "metadata": {},
   "outputs": [],
   "source": [
    "# Lag features.\n",
    "\n",
    "lagf = LagFeatures(\n",
    "    variables=\"CO_sensor\",  # the input variable\n",
    "    freq=[\"1H\", \"24H\"],  # move 1 hr and 24 hrs forward\n",
    "    missing_values=\"ignore\",\n",
    ")"
   ]
  },
  {
   "cell_type": "code",
   "execution_count": 7,
   "metadata": {},
   "outputs": [],
   "source": [
    "# Window features\n",
    "\n",
    "winf = WindowFeatures(\n",
    "    variables=\"CO_sensor\",  # the input variable\n",
    "    window=\"3H\",  # average of 3 previous hours\n",
    "    freq=\"1H\",  # move 1 hr forward\n",
    "    missing_values=\"ignore\",\n",
    ")"
   ]
  },
  {
   "cell_type": "code",
   "execution_count": 8,
   "metadata": {},
   "outputs": [],
   "source": [
    "# Feature combination\n",
    "\n",
    "combine = MathFeatures(\n",
    "    \n",
    "    # the variables to combine\n",
    "    variables=[\"CO_sensor_lag_1H\", \"CO_sensor_lag_24H\"],\n",
    "    \n",
    "    # we indicate we want the average\n",
    "    func=[\"mean\"],\n",
    "    \n",
    "    # the name of the new feature\n",
    "    new_variables_names=[\"CO_lag_ave\"],\n",
    "    \n",
    "    # what to do if the variables have NA\n",
    "    missing_values=\"ignore\",\n",
    ")"
   ]
  },
  {
   "cell_type": "code",
   "execution_count": 9,
   "metadata": {},
   "outputs": [],
   "source": [
    "# Periodic features\n",
    "\n",
    "cyclicf = CyclicalFeatures(\n",
    "    \n",
    "    # The features we want to transform.\n",
    "    variables=[\"month\", \"hour\"],\n",
    "    \n",
    "    # Whether to drop the original features.\n",
    "    drop_original=False,\n",
    ")"
   ]
  },
  {
   "cell_type": "code",
   "execution_count": 10,
   "metadata": {},
   "outputs": [],
   "source": [
    "# Drop missing data\n",
    "imputer = DropMissingData()"
   ]
  },
  {
   "cell_type": "code",
   "execution_count": 11,
   "metadata": {},
   "outputs": [],
   "source": [
    "# Seasonal feature\n",
    "\n",
    "seasonf = SeasonalTransformer(\n",
    "    # the seasonal variable\n",
    "    season_var=\"hour\",\n",
    "    # the time series\n",
    "    variables=[\"CO_sensor\"],\n",
    ")"
   ]
  },
  {
   "cell_type": "markdown",
   "metadata": {},
   "source": [
    "# Feature engineering pipeline"
   ]
  },
  {
   "cell_type": "code",
   "execution_count": 12,
   "metadata": {},
   "outputs": [],
   "source": [
    "pipe = Pipeline(\n",
    "    [\n",
    "        (\"datetime_features\", dtf),\n",
    "        (\"lagf\", lagf),\n",
    "        (\"winf\", winf),\n",
    "        (\"combine\", combine),\n",
    "        (\"Periodic\", cyclicf),\n",
    "        (\"dropna\", imputer),\n",
    "        (\"seasonal\", seasonf),\n",
    "    ]\n",
    ")"
   ]
  },
  {
   "cell_type": "markdown",
   "metadata": {},
   "source": [
    "# Lasso regression\n",
    "\n",
    "We set up the model."
   ]
  },
  {
   "cell_type": "code",
   "execution_count": 13,
   "metadata": {},
   "outputs": [],
   "source": [
    "# Lasso regression\n",
    "\n",
    "lasso = Lasso(random_state=0)"
   ]
  },
  {
   "cell_type": "markdown",
   "metadata": {},
   "source": [
    "# Split data into train and test\n",
    "\n",
    "We will leave the last month of data as hold-out sample to evaluate the performance of the model.\n",
    "\n",
    "Remember that we need to add the 24 hours prior to the first point in the test set to be able to create the lag and window features."
   ]
  },
  {
   "cell_type": "code",
   "execution_count": 14,
   "metadata": {},
   "outputs": [],
   "source": [
    "# Split the data.\n",
    "\n",
    "# input data\n",
    "X_train = data[data.index < \"2005-03-04\"]\n",
    "X_test = data[data.index >= pd.Timestamp(\"2005-03-04\") - pd.offsets.Hour(24)]\n",
    "\n",
    "# target\n",
    "y_train = data[data.index < \"2005-03-04\"][\"CO_sensor\"]\n",
    "y_test = data[data.index >= pd.Timestamp(\n",
    "    \"2005-03-04\") - pd.offsets.Hour(24)][\"CO_sensor\"]"
   ]
  },
  {
   "cell_type": "markdown",
   "metadata": {},
   "source": [
    "# Back-testing with expanding window\n",
    "\n",
    "Now, we will train the model over expanding windows utilizing the training set to obtain a measure of performance over the train set.\n",
    "\n",
    "We will train the model over 4 expanding windows of the training set (green in the image), and then test its performance on a portion of the data one month ahead (blue in the image).\n",
    "\n",
    "\n",
    "<img src='../images/backtesting.png' width=\"600\" height=\"600\">\n"
   ]
  },
  {
   "cell_type": "code",
   "execution_count": 15,
   "metadata": {},
   "outputs": [
    {
     "data": {
      "text/plain": [
       "Timestamp('2004-04-04 00:00:00')"
      ]
     },
     "execution_count": 15,
     "metadata": {},
     "output_type": "execute_result"
    }
   ],
   "source": [
    "# Capture first day on train set.\n",
    "\n",
    "start = X_train.iloc[0].name\n",
    "start"
   ]
  },
  {
   "cell_type": "code",
   "execution_count": 16,
   "metadata": {},
   "outputs": [
    {
     "data": {
      "text/plain": [
       "Timestamp('2005-03-03 23:00:00')"
      ]
     },
     "execution_count": 16,
     "metadata": {},
     "output_type": "execute_result"
    }
   ],
   "source": [
    "# Capture last day on train set.\n",
    "\n",
    "end = X_train.iloc[-1].name\n",
    "end"
   ]
  },
  {
   "cell_type": "code",
   "execution_count": 17,
   "metadata": {},
   "outputs": [
    {
     "data": {
      "text/plain": [
       "DatetimeIndex(['2004-06-09 19:00:00', '2004-08-15 14:00:00',\n",
       "               '2004-10-21 09:00:00', '2004-12-27 04:00:00'],\n",
       "              dtype='datetime64[ns]', freq=None)"
      ]
     },
     "execution_count": 17,
     "metadata": {},
     "output_type": "execute_result"
    }
   ],
   "source": [
    "# Create 4 cut-off times for 4-fold cross-validation.\n",
    "\n",
    "# Periods needs to be 6, because date_range automatically\n",
    "# adds the first and last date of the data, which we don't need.\n",
    "\n",
    "# Note: the parameter `inclusive` is available only in pandas version 1.4\n",
    "# and above.\n",
    "\n",
    "cutoffs = pd.date_range(start=start, end=end, periods=6, inclusive=\"neither\")\n",
    "\n",
    "cutoffs"
   ]
  },
  {
   "cell_type": "code",
   "execution_count": 18,
   "metadata": {
    "scrolled": true
   },
   "outputs": [],
   "source": [
    "# In this list, we will collect the RMSE for each fold.\n",
    "rmse_ls = []\n",
    "\n",
    "for date in cutoffs:\n",
    "\n",
    "    # Split the data:\n",
    "    \n",
    "    # Here we perform the expanding window:\n",
    "    \n",
    "    # All data prior to a certain date: training fold.\n",
    "    X_train_fold = X_train[X_train.index < date]\n",
    "    y_train_fold = X_train[X_train.index < date][\"CO_sensor\"]\n",
    "    \n",
    "    # Test fold: the following month of data\n",
    "    # plus 24 hr prior data to create the features:\n",
    "    X_test_fold = X_train[\n",
    "        (X_train.index >= date - pd.offsets.Hour(24)) & \n",
    "        (X_train.index < date + pd.DateOffset(months=1))\n",
    "    ]\n",
    "    \n",
    "    y_test_fold = X_train[\n",
    "        (X_train.index >= date - pd.offsets.Hour(24)) & \n",
    "        (X_train.index < date + pd.DateOffset(months=1))\n",
    "    ][\"CO_sensor\"]\n",
    "    \n",
    "\n",
    "    # Using the training fold: train model\n",
    "    # ====================================\n",
    "    \n",
    "    # Fit feature engineering steps and\n",
    "    # create features afterwards.\n",
    "    X_train_t = pipe.fit_transform(X_train_fold)\n",
    "\n",
    "    # Adjust y\n",
    "    y_train_t = y_train_fold.loc[X_train_t.index]\n",
    "\n",
    "    # Fit regression model\n",
    "    lasso.fit(X_train_t, y_train_t)\n",
    "\n",
    "    # Using testing fold: evaluate model\n",
    "    # ==================================\n",
    "\n",
    "    # Create features.\n",
    "    X_test_t = pipe.transform(X_test_fold)\n",
    "\n",
    "    # Adjust y.\n",
    "    y_test_t = y_test_fold.loc[X_test_t.index]\n",
    "\n",
    "    # Obtain predictions.\n",
    "    preds = lasso.predict(X_test_t)\n",
    "\n",
    "    # Determine the RMSE.\n",
    "    rmse_ = mean_squared_error(\n",
    "        y_true=y_test_t,\n",
    "        y_pred=preds,\n",
    "        squared=False,\n",
    "    )\n",
    "    \n",
    "    # Append the RMSE to our list.\n",
    "    rmse_ls.append(rmse_)"
   ]
  },
  {
   "cell_type": "code",
   "execution_count": 19,
   "metadata": {},
   "outputs": [
    {
     "name": "stdout",
     "output_type": "stream",
     "text": [
      "rmse:  89.08709368952115 +- 6.718333759101994\n"
     ]
    }
   ],
   "source": [
    "# Mean performance during cross-validation.\n",
    "\n",
    "print(\"rmse: \", np.mean(rmse_ls), \"+-\", np.std(rmse_ls))"
   ]
  },
  {
   "cell_type": "markdown",
   "metadata": {},
   "source": [
    "Now we have a measure of the performance with an interval of error. \n",
    "\n",
    "To finish, we train the model on the entire training set and evaluate its performance on the hold-out sample. The results should be within the interval of error that we determined above.\n",
    "\n",
    "\n",
    "# Train final model"
   ]
  },
  {
   "cell_type": "code",
   "execution_count": 20,
   "metadata": {},
   "outputs": [],
   "source": [
    "# Create the features.\n",
    "\n",
    "X_train = pipe.fit_transform(X_train)\n",
    "\n",
    "# Adjust the target.\n",
    "\n",
    "y_train = y_train.loc[X_train.index]"
   ]
  },
  {
   "cell_type": "code",
   "execution_count": 21,
   "metadata": {},
   "outputs": [
    {
     "data": {
      "text/plain": [
       "Lasso(random_state=0)"
      ]
     },
     "execution_count": 21,
     "metadata": {},
     "output_type": "execute_result"
    }
   ],
   "source": [
    "# Fit the regression.\n",
    "lasso.fit(X_train, y_train)"
   ]
  },
  {
   "cell_type": "code",
   "execution_count": 22,
   "metadata": {},
   "outputs": [
    {
     "data": {
      "text/plain": [
       "93.43695569522737"
      ]
     },
     "execution_count": 22,
     "metadata": {},
     "output_type": "execute_result"
    }
   ],
   "source": [
    "# The RMSE in the train set.\n",
    "\n",
    "mean_squared_error(lasso.predict(X_train_t), y_train_t, squared=False)"
   ]
  },
  {
   "cell_type": "markdown",
   "metadata": {},
   "source": [
    "# Evaluate performance in hold-out sample"
   ]
  },
  {
   "cell_type": "code",
   "execution_count": 23,
   "metadata": {},
   "outputs": [],
   "source": [
    "# Create features.\n",
    "\n",
    "X_test_t = pipe.transform(X_test)\n",
    "\n",
    "# Adjust target.\n",
    "\n",
    "y_test_t = y_test.loc[X_test_t.index]"
   ]
  },
  {
   "cell_type": "code",
   "execution_count": 24,
   "metadata": {},
   "outputs": [
    {
     "data": {
      "text/plain": [
       "92.62517930172112"
      ]
     },
     "execution_count": 24,
     "metadata": {},
     "output_type": "execute_result"
    }
   ],
   "source": [
    "# RMSE in test set\n",
    "\n",
    "mean_squared_error(lasso.predict(X_test_t), y_test_t, squared=False)"
   ]
  },
  {
   "cell_type": "markdown",
   "metadata": {},
   "source": [
    "# Feature importance"
   ]
  },
  {
   "cell_type": "code",
   "execution_count": 25,
   "metadata": {},
   "outputs": [
    {
     "data": {
      "text/plain": [
       "Text(0, 0.5, 'Importance')"
      ]
     },
     "execution_count": 25,
     "metadata": {},
     "output_type": "execute_result"
    },
    {
     "data": {
      "image/png": "[encoded data removed]",
      "text/plain": [
       "<Figure size 1080x432 with 1 Axes>"
      ]
     },
     "metadata": {
      "needs_background": "light"
     },
     "output_type": "display_data"
    }
   ],
   "source": [
    "# Let's now plot the feature's importance\n",
    "\n",
    "# The importance is stored in the estimator.\n",
    "tmp = pd.Series(np.abs(lasso.coef_))\n",
    "\n",
    "# Let's add the variable names.\n",
    "tmp.index = X_train_t.columns\n",
    "\n",
    "# Let's make a bar plot.\n",
    "tmp.plot.bar(figsize=(15, 6))\n",
    "plt.title(\"Feature importance\")\n",
    "plt.ylabel(\"Importance\")"
   ]
  },
  {
   "cell_type": "markdown",
   "metadata": {},
   "source": [
    "The model captures the seasonality: see how many time related features contribute substantially to the prediction output."
   ]
  },
  {
   "cell_type": "code",
   "execution_count": null,
   "metadata": {},
   "outputs": [],
   "source": []
  }
 ],
 "metadata": {
  "kernelspec": {
   "display_name": "fenotebook",
   "language": "python",
   "name": "fenotebook"
  },
  "language_info": {
   "codemirror_mode": {
    "name": "ipython",
    "version": 3
   },
   "file_extension": ".py",
   "mimetype": "text/x-python",
   "name": "python",
   "nbconvert_exporter": "python",
   "pygments_lexer": "ipython3",
   "version": "3.8.2"
  },
  "toc": {
   "base_numbering": 1,
   "nav_menu": {},
   "number_sections": true,
   "sideBar": true,
   "skip_h1_title": false,
   "title_cell": "Table of Contents",
   "title_sidebar": "Contents",
   "toc_cell": false,
   "toc_position": {},
   "toc_section_display": true,
   "toc_window_display": true
  }
 },
 "nbformat": 4,
 "nbformat_minor": 4
}
