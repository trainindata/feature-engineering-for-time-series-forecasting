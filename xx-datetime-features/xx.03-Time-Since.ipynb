{
 "cells": [
  {
   "cell_type": "markdown",
   "metadata": {},
   "source": [
    "# Time Since\n",
    "\n",
    "The recency of events measure the time between events. For example, if we have a charity, we could be interested in the time since our supporter's last donation. This could be a good indicator of our ability to bring supporters back and thus raise more money for our campaigns. And this capacity could in turn be a good feature to forecast money raised monthly or weekly.\n",
    "\n",
    "In this notebook, we are going to determine the time since the last transaction for our customers. Then we are going to aggregate this value across all our customers. And finally, we are going to make a very superficial analysis to try and understand if this feature is informative of weekly sales.\n",
    "\n",
    "This is just scratching the surface of what is possible. We could derive more features like:\n",
    "\n",
    "- Time since first transaction\n",
    "- Time since the most expensive transaction\n",
    "- Time since the cheapest transaction\n",
    "\n",
    "And any other feature you can think of, that is relevant for your organization.\n",
    "\n",
    "Once we have these metrics for each of our customers, we can aggregate them weekly, monthly, daily, depending on our forecast intention.\n",
    "\n",
    "In this notebook, we will calculate the time since last purchase with pandas, and in the next notebook we will automate this procedure, deriving even more features, with Featuretools.\n",
    "\n",
    "\n",
    "## The dataset\n",
    "\n",
    "We will use the Online Retail II Data Set available in the [UCI Machine Learning Repository](https://archive.ics.uci.edu/ml/datasets/Online+Retail+II).\n",
    "\n",
    "Download the xlsx file and save it in the **Datasets** folder within this repo.\n",
    "\n",
    "**Citation**:\n",
    "\n",
    "Dua, D. and Graff, C. (2019). UCI Machine Learning Repository [http://archive.ics.uci.edu/ml]. Irvine, CA: University of California, School of Information and Computer Science.\n",
    "\n",
    "## In this demo\n",
    "\n",
    "We will extract different features from the datetime variable: **InvoiceDate**"
   ]
  },
  {
   "cell_type": "code",
   "execution_count": 1,
   "metadata": {},
   "outputs": [],
   "source": [
    "import numpy as np\n",
    "import pandas as pd\n",
    "import matplotlib.pyplot as plt\n",
    "\n",
    "import datetime"
   ]
  },
  {
   "cell_type": "markdown",
   "metadata": {},
   "source": [
    "## Load the data"
   ]
  },
  {
   "cell_type": "code",
   "execution_count": 2,
   "metadata": {},
   "outputs": [
    {
     "name": "stdout",
     "output_type": "stream",
     "text": [
      "(1067371, 8)\n"
     ]
    },
    {
     "data": {
      "text/html": [
       "<div>\n",
       "<style scoped>\n",
       "    .dataframe tbody tr th:only-of-type {\n",
       "        vertical-align: middle;\n",
       "    }\n",
       "\n",
       "    .dataframe tbody tr th {\n",
       "        vertical-align: top;\n",
       "    }\n",
       "\n",
       "    .dataframe thead th {\n",
       "        text-align: right;\n",
       "    }\n",
       "</style>\n",
       "<table border=\"1\" class=\"dataframe\">\n",
       "  <thead>\n",
       "    <tr style=\"text-align: right;\">\n",
       "      <th></th>\n",
       "      <th>Invoice</th>\n",
       "      <th>StockCode</th>\n",
       "      <th>Description</th>\n",
       "      <th>Quantity</th>\n",
       "      <th>InvoiceDate</th>\n",
       "      <th>Price</th>\n",
       "      <th>Customer ID</th>\n",
       "      <th>Country</th>\n",
       "    </tr>\n",
       "  </thead>\n",
       "  <tbody>\n",
       "    <tr>\n",
       "      <th>0</th>\n",
       "      <td>489434</td>\n",
       "      <td>85048</td>\n",
       "      <td>15CM CHRISTMAS GLASS BALL 20 LIGHTS</td>\n",
       "      <td>12</td>\n",
       "      <td>2009-12-01 07:45:00</td>\n",
       "      <td>6.95</td>\n",
       "      <td>13085.0</td>\n",
       "      <td>United Kingdom</td>\n",
       "    </tr>\n",
       "    <tr>\n",
       "      <th>1</th>\n",
       "      <td>489434</td>\n",
       "      <td>79323P</td>\n",
       "      <td>PINK CHERRY LIGHTS</td>\n",
       "      <td>12</td>\n",
       "      <td>2009-12-01 07:45:00</td>\n",
       "      <td>6.75</td>\n",
       "      <td>13085.0</td>\n",
       "      <td>United Kingdom</td>\n",
       "    </tr>\n",
       "    <tr>\n",
       "      <th>2</th>\n",
       "      <td>489434</td>\n",
       "      <td>79323W</td>\n",
       "      <td>WHITE CHERRY LIGHTS</td>\n",
       "      <td>12</td>\n",
       "      <td>2009-12-01 07:45:00</td>\n",
       "      <td>6.75</td>\n",
       "      <td>13085.0</td>\n",
       "      <td>United Kingdom</td>\n",
       "    </tr>\n",
       "    <tr>\n",
       "      <th>3</th>\n",
       "      <td>489434</td>\n",
       "      <td>22041</td>\n",
       "      <td>RECORD FRAME 7\" SINGLE SIZE</td>\n",
       "      <td>48</td>\n",
       "      <td>2009-12-01 07:45:00</td>\n",
       "      <td>2.10</td>\n",
       "      <td>13085.0</td>\n",
       "      <td>United Kingdom</td>\n",
       "    </tr>\n",
       "    <tr>\n",
       "      <th>4</th>\n",
       "      <td>489434</td>\n",
       "      <td>21232</td>\n",
       "      <td>STRAWBERRY CERAMIC TRINKET BOX</td>\n",
       "      <td>24</td>\n",
       "      <td>2009-12-01 07:45:00</td>\n",
       "      <td>1.25</td>\n",
       "      <td>13085.0</td>\n",
       "      <td>United Kingdom</td>\n",
       "    </tr>\n",
       "  </tbody>\n",
       "</table>\n",
       "</div>"
      ],
      "text/plain": [
       "  Invoice StockCode                          Description  Quantity  \\\n",
       "0  489434     85048  15CM CHRISTMAS GLASS BALL 20 LIGHTS        12   \n",
       "1  489434    79323P                   PINK CHERRY LIGHTS        12   \n",
       "2  489434    79323W                  WHITE CHERRY LIGHTS        12   \n",
       "3  489434     22041         RECORD FRAME 7\" SINGLE SIZE         48   \n",
       "4  489434     21232       STRAWBERRY CERAMIC TRINKET BOX        24   \n",
       "\n",
       "          InvoiceDate  Price  Customer ID         Country  \n",
       "0 2009-12-01 07:45:00   6.95      13085.0  United Kingdom  \n",
       "1 2009-12-01 07:45:00   6.75      13085.0  United Kingdom  \n",
       "2 2009-12-01 07:45:00   6.75      13085.0  United Kingdom  \n",
       "3 2009-12-01 07:45:00   2.10      13085.0  United Kingdom  \n",
       "4 2009-12-01 07:45:00   1.25      13085.0  United Kingdom  "
      ]
     },
     "execution_count": 2,
     "metadata": {},
     "output_type": "execute_result"
    }
   ],
   "source": [
    "# File path\n",
    "file = '../Datasets/online_retail_II.xlsx'\n",
    "\n",
    "# The data is provided as two sheets in a single Excel file.\n",
    "# Each sheet contains a different time period.\n",
    "# Load both and join into a single dataframe.\n",
    "\n",
    "df_1 = pd.read_excel(file, sheet_name='Year 2009-2010')\n",
    "df_2 = pd.read_excel(file, sheet_name='Year 2010-2011')\n",
    "\n",
    "data = pd.concat([df_1, df_2])\n",
    "\n",
    "print(data.shape)\n",
    "\n",
    "data.head()"
   ]
  },
  {
   "cell_type": "markdown",
   "metadata": {},
   "source": [
    "In this dataset, we have the datetime variable in a column: InvoiceDate. We could also have it in the dataframe index. The procedure to extract the datetime features is similar.\n",
    "\n",
    "FYI, the dataset contains sales information for different customers in different countries. Customers may have done 1 or multiple purchases to the business that provided the data.\n",
    "\n",
    "We will determine, for each customer's transaction, the time since the previous transaction."
   ]
  },
  {
   "cell_type": "code",
   "execution_count": 3,
   "metadata": {},
   "outputs": [
    {
     "name": "stdout",
     "output_type": "stream",
     "text": [
      "(824364, 8)\n"
     ]
    }
   ],
   "source": [
    "# Drop data for unknown customers\n",
    "\n",
    "data.dropna(subset=['Customer ID'], inplace=True)\n",
    "\n",
    "print(data.shape)"
   ]
  },
  {
   "cell_type": "code",
   "execution_count": 4,
   "metadata": {},
   "outputs": [],
   "source": [
    "# Work only with sales in the UK\n",
    "\n",
    "data = data[data['Country']=='United Kingdom']"
   ]
  },
  {
   "cell_type": "code",
   "execution_count": 5,
   "metadata": {},
   "outputs": [],
   "source": [
    "# Remove orders that were cancelled\n",
    "\n",
    "cancelled = data['Invoice'].apply(lambda x: str(x)[0] == 'C')\n",
    "data = data[~cancelled]"
   ]
  },
  {
   "cell_type": "code",
   "execution_count": 6,
   "metadata": {},
   "outputs": [
    {
     "data": {
      "text/plain": [
       "5353"
      ]
     },
     "execution_count": 6,
     "metadata": {},
     "output_type": "execute_result"
    }
   ],
   "source": [
    "# Number of unique customers in the UK\n",
    "\n",
    "data['Customer ID'].nunique()"
   ]
  },
  {
   "cell_type": "markdown",
   "metadata": {},
   "source": [
    "## Time since last transaction\n",
    "\n",
    "Transaction Recency measures the time between the customer's purchases. It is a way of measuring the business's ability to bring customers back."
   ]
  },
  {
   "cell_type": "code",
   "execution_count": 7,
   "metadata": {},
   "outputs": [
    {
     "data": {
      "text/plain": [
       "Text(0.5, 0, 'Number of purchases per customer')"
      ]
     },
     "execution_count": 7,
     "metadata": {},
     "output_type": "execute_result"
    },
    {
     "data": {
      "image/png": "[encoded data removed]",
      "text/plain": [
       "<Figure size 432x288 with 1 Axes>"
      ]
     },
     "metadata": {
      "needs_background": "light"
     },
     "output_type": "display_data"
    }
   ],
   "source": [
    "# First: do our customers purchase from us more than once?\n",
    "\n",
    "data.groupby('Customer ID')['InvoiceDate'].count().hist(bins=50)\n",
    "plt.ylabel('Number of customers')\n",
    "plt.xlabel('Number of purchases per customer')"
   ]
  },
  {
   "cell_type": "code",
   "execution_count": 8,
   "metadata": {},
   "outputs": [
    {
     "data": {
      "text/plain": [
       "Text(0.5, 0, 'Number of purchases per customer')"
      ]
     },
     "execution_count": 8,
     "metadata": {},
     "output_type": "execute_result"
    },
    {
     "data": {
      "image/png": "[encoded data removed]",
      "text/plain": [
       "<Figure size 432x288 with 1 Axes>"
      ]
     },
     "metadata": {
      "needs_background": "light"
     },
     "output_type": "display_data"
    }
   ],
   "source": [
    "# Zooming in\n",
    "\n",
    "data.groupby('Customer ID')['InvoiceDate'].count().hist(bins=500)\n",
    "plt.xlim(0,500)\n",
    "plt.ylabel('Number of customers')\n",
    "plt.xlabel('Number of purchases per customer')"
   ]
  },
  {
   "cell_type": "markdown",
   "metadata": {},
   "source": [
    "Most of our customers seem to make purchases only once or very few times, but we have certainly some loyal customers that make repeated purchases.\n",
    "\n",
    "If we wanted to forecast our weekly sales, knowing how often our customers come back to us may be helpful."
   ]
  },
  {
   "cell_type": "code",
   "execution_count": 9,
   "metadata": {},
   "outputs": [
    {
     "data": {
      "text/html": [
       "<div>\n",
       "<style scoped>\n",
       "    .dataframe tbody tr th:only-of-type {\n",
       "        vertical-align: middle;\n",
       "    }\n",
       "\n",
       "    .dataframe tbody tr th {\n",
       "        vertical-align: top;\n",
       "    }\n",
       "\n",
       "    .dataframe thead th {\n",
       "        text-align: right;\n",
       "    }\n",
       "</style>\n",
       "<table border=\"1\" class=\"dataframe\">\n",
       "  <thead>\n",
       "    <tr style=\"text-align: right;\">\n",
       "      <th></th>\n",
       "      <th>Invoice</th>\n",
       "      <th>StockCode</th>\n",
       "      <th>Description</th>\n",
       "      <th>Quantity</th>\n",
       "      <th>InvoiceDate</th>\n",
       "      <th>Price</th>\n",
       "      <th>Customer ID</th>\n",
       "      <th>Country</th>\n",
       "    </tr>\n",
       "  </thead>\n",
       "  <tbody>\n",
       "    <tr>\n",
       "      <th>27994</th>\n",
       "      <td>491725</td>\n",
       "      <td>TEST001</td>\n",
       "      <td>This is a test product.</td>\n",
       "      <td>10</td>\n",
       "      <td>2009-12-14 08:34:00</td>\n",
       "      <td>4.5</td>\n",
       "      <td>12346.0</td>\n",
       "      <td>United Kingdom</td>\n",
       "    </tr>\n",
       "    <tr>\n",
       "      <th>28251</th>\n",
       "      <td>491742</td>\n",
       "      <td>TEST001</td>\n",
       "      <td>This is a test product.</td>\n",
       "      <td>5</td>\n",
       "      <td>2009-12-14 11:00:00</td>\n",
       "      <td>4.5</td>\n",
       "      <td>12346.0</td>\n",
       "      <td>United Kingdom</td>\n",
       "    </tr>\n",
       "    <tr>\n",
       "      <th>28254</th>\n",
       "      <td>491744</td>\n",
       "      <td>TEST001</td>\n",
       "      <td>This is a test product.</td>\n",
       "      <td>5</td>\n",
       "      <td>2009-12-14 11:02:00</td>\n",
       "      <td>4.5</td>\n",
       "      <td>12346.0</td>\n",
       "      <td>United Kingdom</td>\n",
       "    </tr>\n",
       "    <tr>\n",
       "      <th>39398</th>\n",
       "      <td>492718</td>\n",
       "      <td>TEST001</td>\n",
       "      <td>This is a test product.</td>\n",
       "      <td>5</td>\n",
       "      <td>2009-12-18 10:47:00</td>\n",
       "      <td>4.5</td>\n",
       "      <td>12346.0</td>\n",
       "      <td>United Kingdom</td>\n",
       "    </tr>\n",
       "    <tr>\n",
       "      <th>39411</th>\n",
       "      <td>492722</td>\n",
       "      <td>TEST002</td>\n",
       "      <td>This is a test product.</td>\n",
       "      <td>1</td>\n",
       "      <td>2009-12-18 10:55:00</td>\n",
       "      <td>1.0</td>\n",
       "      <td>12346.0</td>\n",
       "      <td>United Kingdom</td>\n",
       "    </tr>\n",
       "  </tbody>\n",
       "</table>\n",
       "</div>"
      ],
      "text/plain": [
       "      Invoice StockCode              Description  Quantity  \\\n",
       "27994  491725   TEST001  This is a test product.        10   \n",
       "28251  491742   TEST001  This is a test product.         5   \n",
       "28254  491744   TEST001  This is a test product.         5   \n",
       "39398  492718   TEST001  This is a test product.         5   \n",
       "39411  492722   TEST002  This is a test product.         1   \n",
       "\n",
       "              InvoiceDate  Price  Customer ID         Country  \n",
       "27994 2009-12-14 08:34:00    4.5      12346.0  United Kingdom  \n",
       "28251 2009-12-14 11:00:00    4.5      12346.0  United Kingdom  \n",
       "28254 2009-12-14 11:02:00    4.5      12346.0  United Kingdom  \n",
       "39398 2009-12-18 10:47:00    4.5      12346.0  United Kingdom  \n",
       "39411 2009-12-18 10:55:00    1.0      12346.0  United Kingdom  "
      ]
     },
     "execution_count": 9,
     "metadata": {},
     "output_type": "execute_result"
    }
   ],
   "source": [
    "# First, let's sort the data per customer and per invoice date\n",
    "# just in case it was not sorted\n",
    "\n",
    "data.sort_values(by=['Customer ID', 'InvoiceDate'], ascending=True, inplace=True)\n",
    "\n",
    "data.head()"
   ]
  },
  {
   "cell_type": "code",
   "execution_count": 10,
   "metadata": {},
   "outputs": [
    {
     "data": {
      "text/html": [
       "<div>\n",
       "<style scoped>\n",
       "    .dataframe tbody tr th:only-of-type {\n",
       "        vertical-align: middle;\n",
       "    }\n",
       "\n",
       "    .dataframe tbody tr th {\n",
       "        vertical-align: top;\n",
       "    }\n",
       "\n",
       "    .dataframe thead th {\n",
       "        text-align: right;\n",
       "    }\n",
       "</style>\n",
       "<table border=\"1\" class=\"dataframe\">\n",
       "  <thead>\n",
       "    <tr style=\"text-align: right;\">\n",
       "      <th></th>\n",
       "      <th>Invoice</th>\n",
       "      <th>StockCode</th>\n",
       "      <th>Description</th>\n",
       "      <th>Quantity</th>\n",
       "      <th>InvoiceDate</th>\n",
       "      <th>Price</th>\n",
       "      <th>Customer ID</th>\n",
       "      <th>Country</th>\n",
       "    </tr>\n",
       "  </thead>\n",
       "  <tbody>\n",
       "    <tr>\n",
       "      <th>392752</th>\n",
       "      <td>570715</td>\n",
       "      <td>22419</td>\n",
       "      <td>LIPSTICK PEN RED</td>\n",
       "      <td>12</td>\n",
       "      <td>2011-10-12 10:23:00</td>\n",
       "      <td>0.42</td>\n",
       "      <td>18287.0</td>\n",
       "      <td>United Kingdom</td>\n",
       "    </tr>\n",
       "    <tr>\n",
       "      <th>392753</th>\n",
       "      <td>570715</td>\n",
       "      <td>22866</td>\n",
       "      <td>HAND WARMER SCOTTY DOG DESIGN</td>\n",
       "      <td>12</td>\n",
       "      <td>2011-10-12 10:23:00</td>\n",
       "      <td>2.10</td>\n",
       "      <td>18287.0</td>\n",
       "      <td>United Kingdom</td>\n",
       "    </tr>\n",
       "    <tr>\n",
       "      <th>423939</th>\n",
       "      <td>573167</td>\n",
       "      <td>23264</td>\n",
       "      <td>SET OF 3 WOODEN SLEIGH DECORATIONS</td>\n",
       "      <td>36</td>\n",
       "      <td>2011-10-28 09:29:00</td>\n",
       "      <td>1.25</td>\n",
       "      <td>18287.0</td>\n",
       "      <td>United Kingdom</td>\n",
       "    </tr>\n",
       "    <tr>\n",
       "      <th>423940</th>\n",
       "      <td>573167</td>\n",
       "      <td>21824</td>\n",
       "      <td>PAINTED METAL STAR WITH HOLLY BELLS</td>\n",
       "      <td>48</td>\n",
       "      <td>2011-10-28 09:29:00</td>\n",
       "      <td>0.39</td>\n",
       "      <td>18287.0</td>\n",
       "      <td>United Kingdom</td>\n",
       "    </tr>\n",
       "    <tr>\n",
       "      <th>423941</th>\n",
       "      <td>573167</td>\n",
       "      <td>21014</td>\n",
       "      <td>SWISS CHALET TREE DECORATION</td>\n",
       "      <td>24</td>\n",
       "      <td>2011-10-28 09:29:00</td>\n",
       "      <td>0.29</td>\n",
       "      <td>18287.0</td>\n",
       "      <td>United Kingdom</td>\n",
       "    </tr>\n",
       "  </tbody>\n",
       "</table>\n",
       "</div>"
      ],
      "text/plain": [
       "       Invoice StockCode                          Description  Quantity  \\\n",
       "392752  570715     22419                     LIPSTICK PEN RED        12   \n",
       "392753  570715     22866        HAND WARMER SCOTTY DOG DESIGN        12   \n",
       "423939  573167     23264   SET OF 3 WOODEN SLEIGH DECORATIONS        36   \n",
       "423940  573167     21824  PAINTED METAL STAR WITH HOLLY BELLS        48   \n",
       "423941  573167     21014        SWISS CHALET TREE DECORATION         24   \n",
       "\n",
       "               InvoiceDate  Price  Customer ID         Country  \n",
       "392752 2011-10-12 10:23:00   0.42      18287.0  United Kingdom  \n",
       "392753 2011-10-12 10:23:00   2.10      18287.0  United Kingdom  \n",
       "423939 2011-10-28 09:29:00   1.25      18287.0  United Kingdom  \n",
       "423940 2011-10-28 09:29:00   0.39      18287.0  United Kingdom  \n",
       "423941 2011-10-28 09:29:00   0.29      18287.0  United Kingdom  "
      ]
     },
     "execution_count": 10,
     "metadata": {},
     "output_type": "execute_result"
    }
   ],
   "source": [
    "data.tail()"
   ]
  },
  {
   "cell_type": "code",
   "execution_count": 11,
   "metadata": {},
   "outputs": [
    {
     "data": {
      "text/html": [
       "<div>\n",
       "<style scoped>\n",
       "    .dataframe tbody tr th:only-of-type {\n",
       "        vertical-align: middle;\n",
       "    }\n",
       "\n",
       "    .dataframe tbody tr th {\n",
       "        vertical-align: top;\n",
       "    }\n",
       "\n",
       "    .dataframe thead th {\n",
       "        text-align: right;\n",
       "    }\n",
       "</style>\n",
       "<table border=\"1\" class=\"dataframe\">\n",
       "  <thead>\n",
       "    <tr style=\"text-align: right;\">\n",
       "      <th></th>\n",
       "      <th>Invoice</th>\n",
       "      <th>StockCode</th>\n",
       "      <th>Description</th>\n",
       "      <th>Quantity</th>\n",
       "      <th>InvoiceDate</th>\n",
       "      <th>Price</th>\n",
       "      <th>Customer ID</th>\n",
       "      <th>Country</th>\n",
       "      <th>time_since</th>\n",
       "    </tr>\n",
       "  </thead>\n",
       "  <tbody>\n",
       "    <tr>\n",
       "      <th>27994</th>\n",
       "      <td>491725</td>\n",
       "      <td>TEST001</td>\n",
       "      <td>This is a test product.</td>\n",
       "      <td>10</td>\n",
       "      <td>2009-12-14 08:34:00</td>\n",
       "      <td>4.5</td>\n",
       "      <td>12346.0</td>\n",
       "      <td>United Kingdom</td>\n",
       "      <td>NaT</td>\n",
       "    </tr>\n",
       "    <tr>\n",
       "      <th>28251</th>\n",
       "      <td>491742</td>\n",
       "      <td>TEST001</td>\n",
       "      <td>This is a test product.</td>\n",
       "      <td>5</td>\n",
       "      <td>2009-12-14 11:00:00</td>\n",
       "      <td>4.5</td>\n",
       "      <td>12346.0</td>\n",
       "      <td>United Kingdom</td>\n",
       "      <td>0 days 02:26:00</td>\n",
       "    </tr>\n",
       "    <tr>\n",
       "      <th>28254</th>\n",
       "      <td>491744</td>\n",
       "      <td>TEST001</td>\n",
       "      <td>This is a test product.</td>\n",
       "      <td>5</td>\n",
       "      <td>2009-12-14 11:02:00</td>\n",
       "      <td>4.5</td>\n",
       "      <td>12346.0</td>\n",
       "      <td>United Kingdom</td>\n",
       "      <td>0 days 00:02:00</td>\n",
       "    </tr>\n",
       "    <tr>\n",
       "      <th>39398</th>\n",
       "      <td>492718</td>\n",
       "      <td>TEST001</td>\n",
       "      <td>This is a test product.</td>\n",
       "      <td>5</td>\n",
       "      <td>2009-12-18 10:47:00</td>\n",
       "      <td>4.5</td>\n",
       "      <td>12346.0</td>\n",
       "      <td>United Kingdom</td>\n",
       "      <td>3 days 23:45:00</td>\n",
       "    </tr>\n",
       "    <tr>\n",
       "      <th>39411</th>\n",
       "      <td>492722</td>\n",
       "      <td>TEST002</td>\n",
       "      <td>This is a test product.</td>\n",
       "      <td>1</td>\n",
       "      <td>2009-12-18 10:55:00</td>\n",
       "      <td>1.0</td>\n",
       "      <td>12346.0</td>\n",
       "      <td>United Kingdom</td>\n",
       "      <td>0 days 00:08:00</td>\n",
       "    </tr>\n",
       "  </tbody>\n",
       "</table>\n",
       "</div>"
      ],
      "text/plain": [
       "      Invoice StockCode              Description  Quantity  \\\n",
       "27994  491725   TEST001  This is a test product.        10   \n",
       "28251  491742   TEST001  This is a test product.         5   \n",
       "28254  491744   TEST001  This is a test product.         5   \n",
       "39398  492718   TEST001  This is a test product.         5   \n",
       "39411  492722   TEST002  This is a test product.         1   \n",
       "\n",
       "              InvoiceDate  Price  Customer ID         Country      time_since  \n",
       "27994 2009-12-14 08:34:00    4.5      12346.0  United Kingdom             NaT  \n",
       "28251 2009-12-14 11:00:00    4.5      12346.0  United Kingdom 0 days 02:26:00  \n",
       "28254 2009-12-14 11:02:00    4.5      12346.0  United Kingdom 0 days 00:02:00  \n",
       "39398 2009-12-18 10:47:00    4.5      12346.0  United Kingdom 3 days 23:45:00  \n",
       "39411 2009-12-18 10:55:00    1.0      12346.0  United Kingdom 0 days 00:08:00  "
      ]
     },
     "execution_count": 11,
     "metadata": {},
     "output_type": "execute_result"
    }
   ],
   "source": [
    "# Now, we determine the time since the last transaction,\n",
    "# per customer\n",
    "\n",
    "data['time_since'] = data.groupby('Customer ID')['InvoiceDate'].diff()\n",
    "\n",
    "data.head()"
   ]
  },
  {
   "cell_type": "code",
   "execution_count": 12,
   "metadata": {},
   "outputs": [
    {
     "data": {
      "text/html": [
       "<div>\n",
       "<style scoped>\n",
       "    .dataframe tbody tr th:only-of-type {\n",
       "        vertical-align: middle;\n",
       "    }\n",
       "\n",
       "    .dataframe tbody tr th {\n",
       "        vertical-align: top;\n",
       "    }\n",
       "\n",
       "    .dataframe thead th {\n",
       "        text-align: right;\n",
       "    }\n",
       "</style>\n",
       "<table border=\"1\" class=\"dataframe\">\n",
       "  <thead>\n",
       "    <tr style=\"text-align: right;\">\n",
       "      <th></th>\n",
       "      <th>Invoice</th>\n",
       "      <th>StockCode</th>\n",
       "      <th>Description</th>\n",
       "      <th>Quantity</th>\n",
       "      <th>InvoiceDate</th>\n",
       "      <th>Price</th>\n",
       "      <th>Customer ID</th>\n",
       "      <th>Country</th>\n",
       "      <th>time_since</th>\n",
       "    </tr>\n",
       "  </thead>\n",
       "  <tbody>\n",
       "    <tr>\n",
       "      <th>392752</th>\n",
       "      <td>570715</td>\n",
       "      <td>22419</td>\n",
       "      <td>LIPSTICK PEN RED</td>\n",
       "      <td>12</td>\n",
       "      <td>2011-10-12 10:23:00</td>\n",
       "      <td>0.42</td>\n",
       "      <td>18287.0</td>\n",
       "      <td>United Kingdom</td>\n",
       "      <td>0 days 00:00:00</td>\n",
       "    </tr>\n",
       "    <tr>\n",
       "      <th>392753</th>\n",
       "      <td>570715</td>\n",
       "      <td>22866</td>\n",
       "      <td>HAND WARMER SCOTTY DOG DESIGN</td>\n",
       "      <td>12</td>\n",
       "      <td>2011-10-12 10:23:00</td>\n",
       "      <td>2.10</td>\n",
       "      <td>18287.0</td>\n",
       "      <td>United Kingdom</td>\n",
       "      <td>0 days 00:00:00</td>\n",
       "    </tr>\n",
       "    <tr>\n",
       "      <th>423939</th>\n",
       "      <td>573167</td>\n",
       "      <td>23264</td>\n",
       "      <td>SET OF 3 WOODEN SLEIGH DECORATIONS</td>\n",
       "      <td>36</td>\n",
       "      <td>2011-10-28 09:29:00</td>\n",
       "      <td>1.25</td>\n",
       "      <td>18287.0</td>\n",
       "      <td>United Kingdom</td>\n",
       "      <td>15 days 23:06:00</td>\n",
       "    </tr>\n",
       "    <tr>\n",
       "      <th>423940</th>\n",
       "      <td>573167</td>\n",
       "      <td>21824</td>\n",
       "      <td>PAINTED METAL STAR WITH HOLLY BELLS</td>\n",
       "      <td>48</td>\n",
       "      <td>2011-10-28 09:29:00</td>\n",
       "      <td>0.39</td>\n",
       "      <td>18287.0</td>\n",
       "      <td>United Kingdom</td>\n",
       "      <td>0 days 00:00:00</td>\n",
       "    </tr>\n",
       "    <tr>\n",
       "      <th>423941</th>\n",
       "      <td>573167</td>\n",
       "      <td>21014</td>\n",
       "      <td>SWISS CHALET TREE DECORATION</td>\n",
       "      <td>24</td>\n",
       "      <td>2011-10-28 09:29:00</td>\n",
       "      <td>0.29</td>\n",
       "      <td>18287.0</td>\n",
       "      <td>United Kingdom</td>\n",
       "      <td>0 days 00:00:00</td>\n",
       "    </tr>\n",
       "  </tbody>\n",
       "</table>\n",
       "</div>"
      ],
      "text/plain": [
       "       Invoice StockCode                          Description  Quantity  \\\n",
       "392752  570715     22419                     LIPSTICK PEN RED        12   \n",
       "392753  570715     22866        HAND WARMER SCOTTY DOG DESIGN        12   \n",
       "423939  573167     23264   SET OF 3 WOODEN SLEIGH DECORATIONS        36   \n",
       "423940  573167     21824  PAINTED METAL STAR WITH HOLLY BELLS        48   \n",
       "423941  573167     21014        SWISS CHALET TREE DECORATION         24   \n",
       "\n",
       "               InvoiceDate  Price  Customer ID         Country  \\\n",
       "392752 2011-10-12 10:23:00   0.42      18287.0  United Kingdom   \n",
       "392753 2011-10-12 10:23:00   2.10      18287.0  United Kingdom   \n",
       "423939 2011-10-28 09:29:00   1.25      18287.0  United Kingdom   \n",
       "423940 2011-10-28 09:29:00   0.39      18287.0  United Kingdom   \n",
       "423941 2011-10-28 09:29:00   0.29      18287.0  United Kingdom   \n",
       "\n",
       "             time_since  \n",
       "392752  0 days 00:00:00  \n",
       "392753  0 days 00:00:00  \n",
       "423939 15 days 23:06:00  \n",
       "423940  0 days 00:00:00  \n",
       "423941  0 days 00:00:00  "
      ]
     },
     "execution_count": 12,
     "metadata": {},
     "output_type": "execute_result"
    }
   ],
   "source": [
    "data.tail()"
   ]
  },
  {
   "cell_type": "code",
   "execution_count": 13,
   "metadata": {},
   "outputs": [
    {
     "data": {
      "text/html": [
       "<div>\n",
       "<style scoped>\n",
       "    .dataframe tbody tr th:only-of-type {\n",
       "        vertical-align: middle;\n",
       "    }\n",
       "\n",
       "    .dataframe tbody tr th {\n",
       "        vertical-align: top;\n",
       "    }\n",
       "\n",
       "    .dataframe thead th {\n",
       "        text-align: right;\n",
       "    }\n",
       "</style>\n",
       "<table border=\"1\" class=\"dataframe\">\n",
       "  <thead>\n",
       "    <tr style=\"text-align: right;\">\n",
       "      <th></th>\n",
       "      <th>Invoice</th>\n",
       "      <th>StockCode</th>\n",
       "      <th>Description</th>\n",
       "      <th>Quantity</th>\n",
       "      <th>InvoiceDate</th>\n",
       "      <th>Price</th>\n",
       "      <th>Customer ID</th>\n",
       "      <th>Country</th>\n",
       "      <th>time_since</th>\n",
       "    </tr>\n",
       "  </thead>\n",
       "  <tbody>\n",
       "    <tr>\n",
       "      <th>27994</th>\n",
       "      <td>491725</td>\n",
       "      <td>TEST001</td>\n",
       "      <td>This is a test product.</td>\n",
       "      <td>10</td>\n",
       "      <td>2009-12-14 08:34:00</td>\n",
       "      <td>4.5</td>\n",
       "      <td>12346.0</td>\n",
       "      <td>United Kingdom</td>\n",
       "      <td>NaN</td>\n",
       "    </tr>\n",
       "    <tr>\n",
       "      <th>28251</th>\n",
       "      <td>491742</td>\n",
       "      <td>TEST001</td>\n",
       "      <td>This is a test product.</td>\n",
       "      <td>5</td>\n",
       "      <td>2009-12-14 11:00:00</td>\n",
       "      <td>4.5</td>\n",
       "      <td>12346.0</td>\n",
       "      <td>United Kingdom</td>\n",
       "      <td>146.0</td>\n",
       "    </tr>\n",
       "    <tr>\n",
       "      <th>28254</th>\n",
       "      <td>491744</td>\n",
       "      <td>TEST001</td>\n",
       "      <td>This is a test product.</td>\n",
       "      <td>5</td>\n",
       "      <td>2009-12-14 11:02:00</td>\n",
       "      <td>4.5</td>\n",
       "      <td>12346.0</td>\n",
       "      <td>United Kingdom</td>\n",
       "      <td>2.0</td>\n",
       "    </tr>\n",
       "    <tr>\n",
       "      <th>39398</th>\n",
       "      <td>492718</td>\n",
       "      <td>TEST001</td>\n",
       "      <td>This is a test product.</td>\n",
       "      <td>5</td>\n",
       "      <td>2009-12-18 10:47:00</td>\n",
       "      <td>4.5</td>\n",
       "      <td>12346.0</td>\n",
       "      <td>United Kingdom</td>\n",
       "      <td>5745.0</td>\n",
       "    </tr>\n",
       "    <tr>\n",
       "      <th>39411</th>\n",
       "      <td>492722</td>\n",
       "      <td>TEST002</td>\n",
       "      <td>This is a test product.</td>\n",
       "      <td>1</td>\n",
       "      <td>2009-12-18 10:55:00</td>\n",
       "      <td>1.0</td>\n",
       "      <td>12346.0</td>\n",
       "      <td>United Kingdom</td>\n",
       "      <td>8.0</td>\n",
       "    </tr>\n",
       "  </tbody>\n",
       "</table>\n",
       "</div>"
      ],
      "text/plain": [
       "      Invoice StockCode              Description  Quantity  \\\n",
       "27994  491725   TEST001  This is a test product.        10   \n",
       "28251  491742   TEST001  This is a test product.         5   \n",
       "28254  491744   TEST001  This is a test product.         5   \n",
       "39398  492718   TEST001  This is a test product.         5   \n",
       "39411  492722   TEST002  This is a test product.         1   \n",
       "\n",
       "              InvoiceDate  Price  Customer ID         Country  time_since  \n",
       "27994 2009-12-14 08:34:00    4.5      12346.0  United Kingdom         NaN  \n",
       "28251 2009-12-14 11:00:00    4.5      12346.0  United Kingdom       146.0  \n",
       "28254 2009-12-14 11:02:00    4.5      12346.0  United Kingdom         2.0  \n",
       "39398 2009-12-18 10:47:00    4.5      12346.0  United Kingdom      5745.0  \n",
       "39411 2009-12-18 10:55:00    1.0      12346.0  United Kingdom         8.0  "
      ]
     },
     "execution_count": 13,
     "metadata": {},
     "output_type": "execute_result"
    }
   ],
   "source": [
    "# Now it seems that we are better off calculating time elapsed in minutes\n",
    "# so let's do that\n",
    "\n",
    "data['time_since'] = data.groupby('Customer ID')['InvoiceDate'].diff() /np.timedelta64(1,'m')\n",
    "\n",
    "data.head()"
   ]
  },
  {
   "cell_type": "code",
   "execution_count": 14,
   "metadata": {},
   "outputs": [
    {
     "data": {
      "text/html": [
       "<div>\n",
       "<style scoped>\n",
       "    .dataframe tbody tr th:only-of-type {\n",
       "        vertical-align: middle;\n",
       "    }\n",
       "\n",
       "    .dataframe tbody tr th {\n",
       "        vertical-align: top;\n",
       "    }\n",
       "\n",
       "    .dataframe thead th {\n",
       "        text-align: right;\n",
       "    }\n",
       "</style>\n",
       "<table border=\"1\" class=\"dataframe\">\n",
       "  <thead>\n",
       "    <tr style=\"text-align: right;\">\n",
       "      <th></th>\n",
       "      <th>Invoice</th>\n",
       "      <th>StockCode</th>\n",
       "      <th>Description</th>\n",
       "      <th>Quantity</th>\n",
       "      <th>InvoiceDate</th>\n",
       "      <th>Price</th>\n",
       "      <th>Customer ID</th>\n",
       "      <th>Country</th>\n",
       "      <th>time_since</th>\n",
       "    </tr>\n",
       "  </thead>\n",
       "  <tbody>\n",
       "    <tr>\n",
       "      <th>392752</th>\n",
       "      <td>570715</td>\n",
       "      <td>22419</td>\n",
       "      <td>LIPSTICK PEN RED</td>\n",
       "      <td>12</td>\n",
       "      <td>2011-10-12 10:23:00</td>\n",
       "      <td>0.42</td>\n",
       "      <td>18287.0</td>\n",
       "      <td>United Kingdom</td>\n",
       "      <td>0.0</td>\n",
       "    </tr>\n",
       "    <tr>\n",
       "      <th>392753</th>\n",
       "      <td>570715</td>\n",
       "      <td>22866</td>\n",
       "      <td>HAND WARMER SCOTTY DOG DESIGN</td>\n",
       "      <td>12</td>\n",
       "      <td>2011-10-12 10:23:00</td>\n",
       "      <td>2.10</td>\n",
       "      <td>18287.0</td>\n",
       "      <td>United Kingdom</td>\n",
       "      <td>0.0</td>\n",
       "    </tr>\n",
       "    <tr>\n",
       "      <th>423939</th>\n",
       "      <td>573167</td>\n",
       "      <td>23264</td>\n",
       "      <td>SET OF 3 WOODEN SLEIGH DECORATIONS</td>\n",
       "      <td>36</td>\n",
       "      <td>2011-10-28 09:29:00</td>\n",
       "      <td>1.25</td>\n",
       "      <td>18287.0</td>\n",
       "      <td>United Kingdom</td>\n",
       "      <td>22986.0</td>\n",
       "    </tr>\n",
       "    <tr>\n",
       "      <th>423940</th>\n",
       "      <td>573167</td>\n",
       "      <td>21824</td>\n",
       "      <td>PAINTED METAL STAR WITH HOLLY BELLS</td>\n",
       "      <td>48</td>\n",
       "      <td>2011-10-28 09:29:00</td>\n",
       "      <td>0.39</td>\n",
       "      <td>18287.0</td>\n",
       "      <td>United Kingdom</td>\n",
       "      <td>0.0</td>\n",
       "    </tr>\n",
       "    <tr>\n",
       "      <th>423941</th>\n",
       "      <td>573167</td>\n",
       "      <td>21014</td>\n",
       "      <td>SWISS CHALET TREE DECORATION</td>\n",
       "      <td>24</td>\n",
       "      <td>2011-10-28 09:29:00</td>\n",
       "      <td>0.29</td>\n",
       "      <td>18287.0</td>\n",
       "      <td>United Kingdom</td>\n",
       "      <td>0.0</td>\n",
       "    </tr>\n",
       "  </tbody>\n",
       "</table>\n",
       "</div>"
      ],
      "text/plain": [
       "       Invoice StockCode                          Description  Quantity  \\\n",
       "392752  570715     22419                     LIPSTICK PEN RED        12   \n",
       "392753  570715     22866        HAND WARMER SCOTTY DOG DESIGN        12   \n",
       "423939  573167     23264   SET OF 3 WOODEN SLEIGH DECORATIONS        36   \n",
       "423940  573167     21824  PAINTED METAL STAR WITH HOLLY BELLS        48   \n",
       "423941  573167     21014        SWISS CHALET TREE DECORATION         24   \n",
       "\n",
       "               InvoiceDate  Price  Customer ID         Country  time_since  \n",
       "392752 2011-10-12 10:23:00   0.42      18287.0  United Kingdom         0.0  \n",
       "392753 2011-10-12 10:23:00   2.10      18287.0  United Kingdom         0.0  \n",
       "423939 2011-10-28 09:29:00   1.25      18287.0  United Kingdom     22986.0  \n",
       "423940 2011-10-28 09:29:00   0.39      18287.0  United Kingdom         0.0  \n",
       "423941 2011-10-28 09:29:00   0.29      18287.0  United Kingdom         0.0  "
      ]
     },
     "execution_count": 14,
     "metadata": {},
     "output_type": "execute_result"
    }
   ],
   "source": [
    "data.tail()"
   ]
  },
  {
   "cell_type": "markdown",
   "metadata": {},
   "source": [
    "For more details on how to determine differences in another time units, visit [this article](http://www.datasciencemadesimple.com/difference-two-timestamps-seconds-minutes-hours-pandas-python-2/)."
   ]
  },
  {
   "cell_type": "code",
   "execution_count": 15,
   "metadata": {},
   "outputs": [
    {
     "data": {
      "text/html": [
       "<div>\n",
       "<style scoped>\n",
       "    .dataframe tbody tr th:only-of-type {\n",
       "        vertical-align: middle;\n",
       "    }\n",
       "\n",
       "    .dataframe tbody tr th {\n",
       "        vertical-align: top;\n",
       "    }\n",
       "\n",
       "    .dataframe thead th {\n",
       "        text-align: right;\n",
       "    }\n",
       "</style>\n",
       "<table border=\"1\" class=\"dataframe\">\n",
       "  <thead>\n",
       "    <tr style=\"text-align: right;\">\n",
       "      <th></th>\n",
       "      <th>Invoice</th>\n",
       "      <th>StockCode</th>\n",
       "      <th>Description</th>\n",
       "      <th>Quantity</th>\n",
       "      <th>InvoiceDate</th>\n",
       "      <th>Price</th>\n",
       "      <th>Customer ID</th>\n",
       "      <th>Country</th>\n",
       "      <th>time_since</th>\n",
       "      <th>Revenue</th>\n",
       "    </tr>\n",
       "  </thead>\n",
       "  <tbody>\n",
       "    <tr>\n",
       "      <th>27994</th>\n",
       "      <td>491725</td>\n",
       "      <td>TEST001</td>\n",
       "      <td>This is a test product.</td>\n",
       "      <td>10</td>\n",
       "      <td>2009-12-14 08:34:00</td>\n",
       "      <td>4.5</td>\n",
       "      <td>12346.0</td>\n",
       "      <td>United Kingdom</td>\n",
       "      <td>NaN</td>\n",
       "      <td>45.0</td>\n",
       "    </tr>\n",
       "    <tr>\n",
       "      <th>28251</th>\n",
       "      <td>491742</td>\n",
       "      <td>TEST001</td>\n",
       "      <td>This is a test product.</td>\n",
       "      <td>5</td>\n",
       "      <td>2009-12-14 11:00:00</td>\n",
       "      <td>4.5</td>\n",
       "      <td>12346.0</td>\n",
       "      <td>United Kingdom</td>\n",
       "      <td>146.0</td>\n",
       "      <td>22.5</td>\n",
       "    </tr>\n",
       "    <tr>\n",
       "      <th>28254</th>\n",
       "      <td>491744</td>\n",
       "      <td>TEST001</td>\n",
       "      <td>This is a test product.</td>\n",
       "      <td>5</td>\n",
       "      <td>2009-12-14 11:02:00</td>\n",
       "      <td>4.5</td>\n",
       "      <td>12346.0</td>\n",
       "      <td>United Kingdom</td>\n",
       "      <td>2.0</td>\n",
       "      <td>22.5</td>\n",
       "    </tr>\n",
       "    <tr>\n",
       "      <th>39398</th>\n",
       "      <td>492718</td>\n",
       "      <td>TEST001</td>\n",
       "      <td>This is a test product.</td>\n",
       "      <td>5</td>\n",
       "      <td>2009-12-18 10:47:00</td>\n",
       "      <td>4.5</td>\n",
       "      <td>12346.0</td>\n",
       "      <td>United Kingdom</td>\n",
       "      <td>5745.0</td>\n",
       "      <td>22.5</td>\n",
       "    </tr>\n",
       "    <tr>\n",
       "      <th>39411</th>\n",
       "      <td>492722</td>\n",
       "      <td>TEST002</td>\n",
       "      <td>This is a test product.</td>\n",
       "      <td>1</td>\n",
       "      <td>2009-12-18 10:55:00</td>\n",
       "      <td>1.0</td>\n",
       "      <td>12346.0</td>\n",
       "      <td>United Kingdom</td>\n",
       "      <td>8.0</td>\n",
       "      <td>1.0</td>\n",
       "    </tr>\n",
       "  </tbody>\n",
       "</table>\n",
       "</div>"
      ],
      "text/plain": [
       "      Invoice StockCode              Description  Quantity  \\\n",
       "27994  491725   TEST001  This is a test product.        10   \n",
       "28251  491742   TEST001  This is a test product.         5   \n",
       "28254  491744   TEST001  This is a test product.         5   \n",
       "39398  492718   TEST001  This is a test product.         5   \n",
       "39411  492722   TEST002  This is a test product.         1   \n",
       "\n",
       "              InvoiceDate  Price  Customer ID         Country  time_since  \\\n",
       "27994 2009-12-14 08:34:00    4.5      12346.0  United Kingdom         NaN   \n",
       "28251 2009-12-14 11:00:00    4.5      12346.0  United Kingdom       146.0   \n",
       "28254 2009-12-14 11:02:00    4.5      12346.0  United Kingdom         2.0   \n",
       "39398 2009-12-18 10:47:00    4.5      12346.0  United Kingdom      5745.0   \n",
       "39411 2009-12-18 10:55:00    1.0      12346.0  United Kingdom         8.0   \n",
       "\n",
       "       Revenue  \n",
       "27994     45.0  \n",
       "28251     22.5  \n",
       "28254     22.5  \n",
       "39398     22.5  \n",
       "39411      1.0  "
      ]
     },
     "execution_count": 15,
     "metadata": {},
     "output_type": "execute_result"
    }
   ],
   "source": [
    "# Calculate revenue per customer per transaction\n",
    "\n",
    "data['Revenue'] = data['Quantity'] * data['Price']\n",
    "\n",
    "data.head()"
   ]
  },
  {
   "cell_type": "markdown",
   "metadata": {},
   "source": [
    "Now, say we want to forecast weekly sales. We will re-structure the data to have sales volume per week. And thus, we will aggregate the time_since that we have per customer, across all customers who made purchases each week."
   ]
  },
  {
   "cell_type": "code",
   "execution_count": 16,
   "metadata": {},
   "outputs": [
    {
     "data": {
      "text/plain": [
       "(106, 2)"
      ]
     },
     "execution_count": 16,
     "metadata": {},
     "output_type": "execute_result"
    }
   ],
   "source": [
    "df_gross = pd.concat([\n",
    "    # weekly volume of sales\n",
    "    (data.loc[:, ['InvoiceDate', 'Revenue']]\n",
    "    .resample('W', on='InvoiceDate')\n",
    "    .sum()\n",
    "    ),\n",
    "    # mean time_since, across customers, per week\n",
    "    (data.loc[:, ['InvoiceDate', 'time_since']]\n",
    "    .resample('W', on='InvoiceDate')\n",
    "    .mean()\n",
    "    ),\n",
    "], axis=1)\n",
    "\n",
    "\n",
    "df_gross.shape"
   ]
  },
  {
   "cell_type": "code",
   "execution_count": 17,
   "metadata": {},
   "outputs": [
    {
     "data": {
      "text/html": [
       "<div>\n",
       "<style scoped>\n",
       "    .dataframe tbody tr th:only-of-type {\n",
       "        vertical-align: middle;\n",
       "    }\n",
       "\n",
       "    .dataframe tbody tr th {\n",
       "        vertical-align: top;\n",
       "    }\n",
       "\n",
       "    .dataframe thead th {\n",
       "        text-align: right;\n",
       "    }\n",
       "</style>\n",
       "<table border=\"1\" class=\"dataframe\">\n",
       "  <thead>\n",
       "    <tr style=\"text-align: right;\">\n",
       "      <th></th>\n",
       "      <th>Revenue</th>\n",
       "      <th>time_since</th>\n",
       "    </tr>\n",
       "    <tr>\n",
       "      <th>InvoiceDate</th>\n",
       "      <th></th>\n",
       "      <th></th>\n",
       "    </tr>\n",
       "  </thead>\n",
       "  <tbody>\n",
       "    <tr>\n",
       "      <th>2009-12-06</th>\n",
       "      <td>213000.35</td>\n",
       "      <td>6.819045</td>\n",
       "    </tr>\n",
       "    <tr>\n",
       "      <th>2009-12-13</th>\n",
       "      <td>195810.04</td>\n",
       "      <td>99.193534</td>\n",
       "    </tr>\n",
       "    <tr>\n",
       "      <th>2009-12-20</th>\n",
       "      <td>182396.74</td>\n",
       "      <td>300.119979</td>\n",
       "    </tr>\n",
       "    <tr>\n",
       "      <th>2009-12-27</th>\n",
       "      <td>22007.77</td>\n",
       "      <td>546.805890</td>\n",
       "    </tr>\n",
       "    <tr>\n",
       "      <th>2010-01-03</th>\n",
       "      <td>0.00</td>\n",
       "      <td>NaN</td>\n",
       "    </tr>\n",
       "  </tbody>\n",
       "</table>\n",
       "</div>"
      ],
      "text/plain": [
       "               Revenue  time_since\n",
       "InvoiceDate                       \n",
       "2009-12-06   213000.35    6.819045\n",
       "2009-12-13   195810.04   99.193534\n",
       "2009-12-20   182396.74  300.119979\n",
       "2009-12-27    22007.77  546.805890\n",
       "2010-01-03        0.00         NaN"
      ]
     },
     "execution_count": 17,
     "metadata": {},
     "output_type": "execute_result"
    }
   ],
   "source": [
    "# the resulting data\n",
    "\n",
    "df_gross.head()"
   ]
  },
  {
   "cell_type": "markdown",
   "metadata": {},
   "source": [
    "To forecast sales, we would derive features as we learned throughout the course and use them along side date and time features and perhaps the time_since feature.\n",
    "\n",
    "Here, we would just make some high level data visualization."
   ]
  },
  {
   "cell_type": "code",
   "execution_count": 18,
   "metadata": {},
   "outputs": [
    {
     "data": {
      "text/plain": [
       "Text(0.5, 0, 'Time')"
      ]
     },
     "execution_count": 18,
     "metadata": {},
     "output_type": "execute_result"
    },
    {
     "data": {
      "image/png": "[encoded data removed]",
      "text/plain": [
       "<Figure size 432x288 with 1 Axes>"
      ]
     },
     "metadata": {
      "needs_background": "light"
     },
     "output_type": "display_data"
    }
   ],
   "source": [
    "# weekly revenue\n",
    "\n",
    "df_gross['Revenue'].plot()\n",
    "plt.ylabel('Sales volume')\n",
    "plt.xlabel('Time')"
   ]
  },
  {
   "cell_type": "code",
   "execution_count": 20,
   "metadata": {},
   "outputs": [
    {
     "data": {
      "text/plain": [
       "Text(0.5, 0, 'Time')"
      ]
     },
     "execution_count": 20,
     "metadata": {},
     "output_type": "execute_result"
    },
    {
     "data": {
      "image/png": "[encoded data removed]",
      "text/plain": [
       "<Figure size 432x288 with 1 Axes>"
      ]
     },
     "metadata": {
      "needs_background": "light"
     },
     "output_type": "display_data"
    }
   ],
   "source": [
    "# mean time between purchases for customers, weekly\n",
    "\n",
    "df_gross['time_since'].plot()\n",
    "plt.ylabel('Time since, in minutes')\n",
    "plt.xlabel('Time')"
   ]
  },
  {
   "cell_type": "code",
   "execution_count": 21,
   "metadata": {},
   "outputs": [
    {
     "data": {
      "text/plain": [
       "Text(0.5, 0, 'Time since, in minutes')"
      ]
     },
     "execution_count": 21,
     "metadata": {},
     "output_type": "execute_result"
    },
    {
     "data": {
      "image/png": "[encoded data removed]",
      "text/plain": [
       "<Figure size 432x288 with 1 Axes>"
      ]
     },
     "metadata": {
      "needs_background": "light"
     },
     "output_type": "display_data"
    }
   ],
   "source": [
    "# And now, why not, a scatter plot between the 2\n",
    "\n",
    "plt.scatter(df_gross['time_since'], df_gross['Revenue'])\n",
    "plt.ylabel('Sales volume')\n",
    "plt.xlabel('Time since, in minutes')"
   ]
  },
  {
   "cell_type": "code",
   "execution_count": null,
   "metadata": {},
   "outputs": [],
   "source": []
  }
 ],
 "metadata": {
  "kernelspec": {
   "display_name": "fets",
   "language": "python",
   "name": "fets"
  },
  "language_info": {
   "codemirror_mode": {
    "name": "ipython",
    "version": 3
   },
   "file_extension": ".py",
   "mimetype": "text/x-python",
   "name": "python",
   "nbconvert_exporter": "python",
   "pygments_lexer": "ipython3",
   "version": "3.8.2"
  },
  "toc": {
   "base_numbering": 1,
   "nav_menu": {},
   "number_sections": true,
   "sideBar": true,
   "skip_h1_title": false,
   "title_cell": "Table of Contents",
   "title_sidebar": "Contents",
   "toc_cell": false,
   "toc_position": {},
   "toc_section_display": "block",
   "toc_window_display": true
  }
 },
 "nbformat": 4,
 "nbformat_minor": 1
}
