{
 "cells": [
  {
   "cell_type": "markdown",
   "metadata": {},
   "source": [
    "# Electricity Demand in Victoria, Australia \n",
    "\n",
    "In this notebook we will prepare and store the electricity demand dataset found [here](https://github.com/tidyverts/tsibbledata/tree/master/data-raw/vic_elec/VIC2015).\n",
    "\n",
    "**Citation:**\n",
    "\n",
    "Godahewa, Rakshitha, Bergmeir, Christoph, Webb, Geoff, Hyndman, Rob, & Montero-Manso, Pablo. (2021). Australian Electricity Demand Dataset (Version 1) [Data set]. Zenodo. https://doi.org/10.5281/zenodo.4659727\n",
    "\n",
    "**Description of data:**\n",
    "\n",
    "Data set description from [here](https://rdrr.io/cran/tsibbledata/man/vic_elec.html): \"This data is for operational demand, which is the demand met by local scheduled generating units, semi-scheduled generating units, and non-scheduled intermittent generating units of aggregate capacity larger than 30 MW, and by generation imports to the region. The operational demand excludes the demand met by non-scheduled non-intermittent generating units, non-scheduled intermittent generating units of aggregate capacity smaller than 30 MW, exempt generation (e.g. rooftop solar, gas tri-generation, very small wind farms, etc), and demand of local scheduled loads. It also excludes some very large industrial users (such as mines or smelters).\"\n",
    "\n",
    "The dataset is at a 30 minute granularity from 2002 to the start of 2015."
   ]
  },
  {
   "cell_type": "markdown",
   "metadata": {},
   "source": [
    "## Download the data via the URL below and pandas"
   ]
  },
  {
   "cell_type": "code",
   "execution_count": 20,
   "metadata": {},
   "outputs": [],
   "source": [
    "import pandas as pd\n",
    "import numpy as np"
   ]
  },
  {
   "cell_type": "code",
   "execution_count": 34,
   "metadata": {},
   "outputs": [],
   "source": [
    "# Electricity demand.\n",
    "url = \"https://raw.githubusercontent.com/tidyverts/tsibbledata/master/data-raw/vic_elec/VIC2015/demand.csv\"\n",
    "demand = pd.read_csv(url)\n",
    "\n",
    "# Temperature of Melbourne (BOM site 086071).\n",
    "url = \"https://raw.githubusercontent.com/tidyverts/tsibbledata/master/data-raw/vic_elec/VIC2015/temperature.csv\"\n",
    "temp = pd.read_csv(url)\n",
    "\n",
    "df = demand.merge(temp, on=['Date','Period'], how='left')"
   ]
  },
  {
   "cell_type": "code",
   "execution_count": 35,
   "metadata": {},
   "outputs": [
    {
     "data": {
      "text/html": [
       "<div>\n",
       "<style scoped>\n",
       "    .dataframe tbody tr th:only-of-type {\n",
       "        vertical-align: middle;\n",
       "    }\n",
       "\n",
       "    .dataframe tbody tr th {\n",
       "        vertical-align: top;\n",
       "    }\n",
       "\n",
       "    .dataframe thead th {\n",
       "        text-align: right;\n",
       "    }\n",
       "</style>\n",
       "<table border=\"1\" class=\"dataframe\">\n",
       "  <thead>\n",
       "    <tr style=\"text-align: right;\">\n",
       "      <th></th>\n",
       "      <th>Date</th>\n",
       "      <th>Period</th>\n",
       "      <th>OperationalLessIndustrial</th>\n",
       "      <th>Industrial</th>\n",
       "      <th>Temp</th>\n",
       "    </tr>\n",
       "  </thead>\n",
       "  <tbody>\n",
       "    <tr>\n",
       "      <th>0</th>\n",
       "      <td>37257</td>\n",
       "      <td>1</td>\n",
       "      <td>3535.867064</td>\n",
       "      <td>1086.132936</td>\n",
       "      <td>32.6</td>\n",
       "    </tr>\n",
       "    <tr>\n",
       "      <th>1</th>\n",
       "      <td>37257</td>\n",
       "      <td>2</td>\n",
       "      <td>3383.499028</td>\n",
       "      <td>1088.500972</td>\n",
       "      <td>32.6</td>\n",
       "    </tr>\n",
       "    <tr>\n",
       "      <th>2</th>\n",
       "      <td>37257</td>\n",
       "      <td>3</td>\n",
       "      <td>3655.527552</td>\n",
       "      <td>1084.472448</td>\n",
       "      <td>32.6</td>\n",
       "    </tr>\n",
       "    <tr>\n",
       "      <th>3</th>\n",
       "      <td>37257</td>\n",
       "      <td>4</td>\n",
       "      <td>3510.446636</td>\n",
       "      <td>1085.553364</td>\n",
       "      <td>32.6</td>\n",
       "    </tr>\n",
       "    <tr>\n",
       "      <th>4</th>\n",
       "      <td>37257</td>\n",
       "      <td>5</td>\n",
       "      <td>3294.697156</td>\n",
       "      <td>1081.302844</td>\n",
       "      <td>32.6</td>\n",
       "    </tr>\n",
       "  </tbody>\n",
       "</table>\n",
       "</div>"
      ],
      "text/plain": [
       "    Date  Period  OperationalLessIndustrial   Industrial  Temp\n",
       "0  37257       1                3535.867064  1086.132936  32.6\n",
       "1  37257       2                3383.499028  1088.500972  32.6\n",
       "2  37257       3                3655.527552  1084.472448  32.6\n",
       "3  37257       4                3510.446636  1085.553364  32.6\n",
       "4  37257       5                3294.697156  1081.302844  32.6"
      ]
     },
     "execution_count": 35,
     "metadata": {},
     "output_type": "execute_result"
    }
   ],
   "source": [
    "df.head()"
   ]
  },
  {
   "cell_type": "code",
   "execution_count": 36,
   "metadata": {},
   "outputs": [],
   "source": [
    "# Public holidays in Australia\n",
    "url = \"https://raw.githubusercontent.com/tidyverts/tsibbledata/master/data-raw/vic_elec/VIC2015/holidays.txt\"\n",
    "\n",
    "# We will convert this into a dummy variable later\n",
    "# with 1 if public holiday else 0.\n",
    "# We will join this with the rest of the dataset later.\n",
    "holidays = pd.read_csv(url, header=None, parse_dates=[0])\n",
    "holidays.columns = ['date']"
   ]
  },
  {
   "cell_type": "code",
   "execution_count": 37,
   "metadata": {},
   "outputs": [
    {
     "data": {
      "text/html": [
       "<div>\n",
       "<style scoped>\n",
       "    .dataframe tbody tr th:only-of-type {\n",
       "        vertical-align: middle;\n",
       "    }\n",
       "\n",
       "    .dataframe tbody tr th {\n",
       "        vertical-align: top;\n",
       "    }\n",
       "\n",
       "    .dataframe thead th {\n",
       "        text-align: right;\n",
       "    }\n",
       "</style>\n",
       "<table border=\"1\" class=\"dataframe\">\n",
       "  <thead>\n",
       "    <tr style=\"text-align: right;\">\n",
       "      <th></th>\n",
       "      <th>date</th>\n",
       "    </tr>\n",
       "  </thead>\n",
       "  <tbody>\n",
       "    <tr>\n",
       "      <th>0</th>\n",
       "      <td>2000-01-01</td>\n",
       "    </tr>\n",
       "    <tr>\n",
       "      <th>1</th>\n",
       "      <td>2000-01-26</td>\n",
       "    </tr>\n",
       "    <tr>\n",
       "      <th>2</th>\n",
       "      <td>2000-03-13</td>\n",
       "    </tr>\n",
       "    <tr>\n",
       "      <th>3</th>\n",
       "      <td>2000-04-21</td>\n",
       "    </tr>\n",
       "    <tr>\n",
       "      <th>4</th>\n",
       "      <td>2000-04-24</td>\n",
       "    </tr>\n",
       "  </tbody>\n",
       "</table>\n",
       "</div>"
      ],
      "text/plain": [
       "        date\n",
       "0 2000-01-01\n",
       "1 2000-01-26\n",
       "2 2000-03-13\n",
       "3 2000-04-21\n",
       "4 2000-04-24"
      ]
     },
     "execution_count": 37,
     "metadata": {},
     "output_type": "execute_result"
    }
   ],
   "source": [
    "holidays.head()"
   ]
  },
  {
   "cell_type": "markdown",
   "metadata": {},
   "source": [
    "We will only use the `OperationLessIndustrial` demand. So let's drop `Industrial`."
   ]
  },
  {
   "cell_type": "code",
   "execution_count": 38,
   "metadata": {},
   "outputs": [],
   "source": [
    "df.drop(columns=['Industrial'], inplace=True)"
   ]
  },
  {
   "cell_type": "markdown",
   "metadata": {},
   "source": [
    "The date are integers representing the number of days from an origin date. The origin date for this dataset is determined from [here](https://github.com/tidyverts/tsibbledata/blob/master/data-raw/vic_elec/vic_elec.R) and [here](https://robjhyndman.com/hyndsight/electrictsibbles/) and is \"1899-12-30\". The `Period` integers refer to 30 minute intervals in a 24 hour day, hence there are 48 for each day.\n",
    "\n",
    "\n",
    "\n",
    "Let's extract the date and date-time."
   ]
  },
  {
   "cell_type": "code",
   "execution_count": 39,
   "metadata": {},
   "outputs": [],
   "source": [
    "# Convert the integer Date to an actual date with datetime type\n",
    "df[\"date\"] = df[\"Date\"].apply(lambda x: pd.Timestamp(\"1899-12-30\") + pd.Timedelta(x, unit=\"days\"))\n",
    "\n",
    "# Create a timestamp from the integer Period representing 30 minute intervals\n",
    "df[\"date_time\"] = df[\"date\"] + pd.to_timedelta((df[\"Period\"]-1)*30, unit=\"m\")"
   ]
  },
  {
   "cell_type": "code",
   "execution_count": 40,
   "metadata": {},
   "outputs": [
    {
     "data": {
      "text/html": [
       "<div>\n",
       "<style scoped>\n",
       "    .dataframe tbody tr th:only-of-type {\n",
       "        vertical-align: middle;\n",
       "    }\n",
       "\n",
       "    .dataframe tbody tr th {\n",
       "        vertical-align: top;\n",
       "    }\n",
       "\n",
       "    .dataframe thead th {\n",
       "        text-align: right;\n",
       "    }\n",
       "</style>\n",
       "<table border=\"1\" class=\"dataframe\">\n",
       "  <thead>\n",
       "    <tr style=\"text-align: right;\">\n",
       "      <th></th>\n",
       "      <th>Date</th>\n",
       "      <th>Period</th>\n",
       "      <th>OperationalLessIndustrial</th>\n",
       "      <th>Temp</th>\n",
       "      <th>date</th>\n",
       "      <th>date_time</th>\n",
       "    </tr>\n",
       "  </thead>\n",
       "  <tbody>\n",
       "    <tr>\n",
       "      <th>0</th>\n",
       "      <td>37257</td>\n",
       "      <td>1</td>\n",
       "      <td>3535.867064</td>\n",
       "      <td>32.6</td>\n",
       "      <td>2002-01-01</td>\n",
       "      <td>2002-01-01 00:00:00</td>\n",
       "    </tr>\n",
       "    <tr>\n",
       "      <th>1</th>\n",
       "      <td>37257</td>\n",
       "      <td>2</td>\n",
       "      <td>3383.499028</td>\n",
       "      <td>32.6</td>\n",
       "      <td>2002-01-01</td>\n",
       "      <td>2002-01-01 00:30:00</td>\n",
       "    </tr>\n",
       "    <tr>\n",
       "      <th>2</th>\n",
       "      <td>37257</td>\n",
       "      <td>3</td>\n",
       "      <td>3655.527552</td>\n",
       "      <td>32.6</td>\n",
       "      <td>2002-01-01</td>\n",
       "      <td>2002-01-01 01:00:00</td>\n",
       "    </tr>\n",
       "    <tr>\n",
       "      <th>3</th>\n",
       "      <td>37257</td>\n",
       "      <td>4</td>\n",
       "      <td>3510.446636</td>\n",
       "      <td>32.6</td>\n",
       "      <td>2002-01-01</td>\n",
       "      <td>2002-01-01 01:30:00</td>\n",
       "    </tr>\n",
       "    <tr>\n",
       "      <th>4</th>\n",
       "      <td>37257</td>\n",
       "      <td>5</td>\n",
       "      <td>3294.697156</td>\n",
       "      <td>32.6</td>\n",
       "      <td>2002-01-01</td>\n",
       "      <td>2002-01-01 02:00:00</td>\n",
       "    </tr>\n",
       "  </tbody>\n",
       "</table>\n",
       "</div>"
      ],
      "text/plain": [
       "    Date  Period  OperationalLessIndustrial  Temp       date  \\\n",
       "0  37257       1                3535.867064  32.6 2002-01-01   \n",
       "1  37257       2                3383.499028  32.6 2002-01-01   \n",
       "2  37257       3                3655.527552  32.6 2002-01-01   \n",
       "3  37257       4                3510.446636  32.6 2002-01-01   \n",
       "4  37257       5                3294.697156  32.6 2002-01-01   \n",
       "\n",
       "            date_time  \n",
       "0 2002-01-01 00:00:00  \n",
       "1 2002-01-01 00:30:00  \n",
       "2 2002-01-01 01:00:00  \n",
       "3 2002-01-01 01:30:00  \n",
       "4 2002-01-01 02:00:00  "
      ]
     },
     "execution_count": 40,
     "metadata": {},
     "output_type": "execute_result"
    }
   ],
   "source": [
    "df.head()"
   ]
  },
  {
   "cell_type": "markdown",
   "metadata": {},
   "source": [
    "Drop the null rows "
   ]
  },
  {
   "cell_type": "code",
   "execution_count": 41,
   "metadata": {},
   "outputs": [],
   "source": [
    "df.dropna(inplace=True)"
   ]
  },
  {
   "cell_type": "markdown",
   "metadata": {},
   "source": [
    "Let's check that the time interval between rows is still the same."
   ]
  },
  {
   "cell_type": "code",
   "execution_count": null,
   "metadata": {},
   "outputs": [],
   "source": []
  },
  {
   "cell_type": "code",
   "execution_count": 42,
   "metadata": {
    "tags": []
   },
   "outputs": [],
   "source": [
    "# `holidays` only contains dates of public holidays.\n",
    "# So create a column `is_holidays` and set them to 1.\n",
    "holidays['is_holiday'] = 1\n",
    "df = df.merge(holidays, on=['date'], how='left')\n",
    "# The left join will create NaNs for is_holiday when \n",
    "# it is not a public holiday. Use this to define when\n",
    "# it is not a public holiday. Fill nulls with zero.\n",
    "df['is_holiday'] = df['is_holiday'].fillna(0).astype(int)"
   ]
  },
  {
   "cell_type": "code",
   "execution_count": 44,
   "metadata": {
    "tags": []
   },
   "outputs": [
    {
     "data": {
      "text/html": [
       "<div>\n",
       "<style scoped>\n",
       "    .dataframe tbody tr th:only-of-type {\n",
       "        vertical-align: middle;\n",
       "    }\n",
       "\n",
       "    .dataframe tbody tr th {\n",
       "        vertical-align: top;\n",
       "    }\n",
       "\n",
       "    .dataframe thead th {\n",
       "        text-align: right;\n",
       "    }\n",
       "</style>\n",
       "<table border=\"1\" class=\"dataframe\">\n",
       "  <thead>\n",
       "    <tr style=\"text-align: right;\">\n",
       "      <th></th>\n",
       "      <th>Date</th>\n",
       "      <th>Period</th>\n",
       "      <th>OperationalLessIndustrial</th>\n",
       "      <th>Temp</th>\n",
       "      <th>date</th>\n",
       "      <th>date_time</th>\n",
       "      <th>is_holiday</th>\n",
       "    </tr>\n",
       "  </thead>\n",
       "  <tbody>\n",
       "    <tr>\n",
       "      <th>0</th>\n",
       "      <td>37257</td>\n",
       "      <td>1</td>\n",
       "      <td>3535.867064</td>\n",
       "      <td>32.6</td>\n",
       "      <td>2002-01-01</td>\n",
       "      <td>2002-01-01 00:00:00</td>\n",
       "      <td>1</td>\n",
       "    </tr>\n",
       "    <tr>\n",
       "      <th>1</th>\n",
       "      <td>37257</td>\n",
       "      <td>2</td>\n",
       "      <td>3383.499028</td>\n",
       "      <td>32.6</td>\n",
       "      <td>2002-01-01</td>\n",
       "      <td>2002-01-01 00:30:00</td>\n",
       "      <td>1</td>\n",
       "    </tr>\n",
       "    <tr>\n",
       "      <th>2</th>\n",
       "      <td>37257</td>\n",
       "      <td>3</td>\n",
       "      <td>3655.527552</td>\n",
       "      <td>32.6</td>\n",
       "      <td>2002-01-01</td>\n",
       "      <td>2002-01-01 01:00:00</td>\n",
       "      <td>1</td>\n",
       "    </tr>\n",
       "    <tr>\n",
       "      <th>3</th>\n",
       "      <td>37257</td>\n",
       "      <td>4</td>\n",
       "      <td>3510.446636</td>\n",
       "      <td>32.6</td>\n",
       "      <td>2002-01-01</td>\n",
       "      <td>2002-01-01 01:30:00</td>\n",
       "      <td>1</td>\n",
       "    </tr>\n",
       "    <tr>\n",
       "      <th>4</th>\n",
       "      <td>37257</td>\n",
       "      <td>5</td>\n",
       "      <td>3294.697156</td>\n",
       "      <td>32.6</td>\n",
       "      <td>2002-01-01</td>\n",
       "      <td>2002-01-01 02:00:00</td>\n",
       "      <td>1</td>\n",
       "    </tr>\n",
       "  </tbody>\n",
       "</table>\n",
       "</div>"
      ],
      "text/plain": [
       "    Date  Period  OperationalLessIndustrial  Temp       date  \\\n",
       "0  37257       1                3535.867064  32.6 2002-01-01   \n",
       "1  37257       2                3383.499028  32.6 2002-01-01   \n",
       "2  37257       3                3655.527552  32.6 2002-01-01   \n",
       "3  37257       4                3510.446636  32.6 2002-01-01   \n",
       "4  37257       5                3294.697156  32.6 2002-01-01   \n",
       "\n",
       "            date_time  is_holiday  \n",
       "0 2002-01-01 00:00:00           1  \n",
       "1 2002-01-01 00:30:00           1  \n",
       "2 2002-01-01 01:00:00           1  \n",
       "3 2002-01-01 01:30:00           1  \n",
       "4 2002-01-01 02:00:00           1  "
      ]
     },
     "metadata": {},
     "output_type": "display_data"
    },
    {
     "data": {
      "text/html": [
       "<div>\n",
       "<style scoped>\n",
       "    .dataframe tbody tr th:only-of-type {\n",
       "        vertical-align: middle;\n",
       "    }\n",
       "\n",
       "    .dataframe tbody tr th {\n",
       "        vertical-align: top;\n",
       "    }\n",
       "\n",
       "    .dataframe thead th {\n",
       "        text-align: right;\n",
       "    }\n",
       "</style>\n",
       "<table border=\"1\" class=\"dataframe\">\n",
       "  <thead>\n",
       "    <tr style=\"text-align: right;\">\n",
       "      <th></th>\n",
       "      <th>Date</th>\n",
       "      <th>Period</th>\n",
       "      <th>OperationalLessIndustrial</th>\n",
       "      <th>Temp</th>\n",
       "      <th>date</th>\n",
       "      <th>date_time</th>\n",
       "      <th>is_holiday</th>\n",
       "    </tr>\n",
       "  </thead>\n",
       "  <tbody>\n",
       "    <tr>\n",
       "      <th>230731</th>\n",
       "      <td>42063</td>\n",
       "      <td>44</td>\n",
       "      <td>4094.957360</td>\n",
       "      <td>18.9</td>\n",
       "      <td>2015-02-28</td>\n",
       "      <td>2015-02-28 21:30:00</td>\n",
       "      <td>0</td>\n",
       "    </tr>\n",
       "    <tr>\n",
       "      <th>230732</th>\n",
       "      <td>42063</td>\n",
       "      <td>45</td>\n",
       "      <td>4058.531582</td>\n",
       "      <td>18.9</td>\n",
       "      <td>2015-02-28</td>\n",
       "      <td>2015-02-28 22:00:00</td>\n",
       "      <td>0</td>\n",
       "    </tr>\n",
       "    <tr>\n",
       "      <th>230733</th>\n",
       "      <td>42063</td>\n",
       "      <td>46</td>\n",
       "      <td>4051.524334</td>\n",
       "      <td>18.9</td>\n",
       "      <td>2015-02-28</td>\n",
       "      <td>2015-02-28 22:30:00</td>\n",
       "      <td>0</td>\n",
       "    </tr>\n",
       "    <tr>\n",
       "      <th>230734</th>\n",
       "      <td>42063</td>\n",
       "      <td>47</td>\n",
       "      <td>4274.237836</td>\n",
       "      <td>18.9</td>\n",
       "      <td>2015-02-28</td>\n",
       "      <td>2015-02-28 23:00:00</td>\n",
       "      <td>0</td>\n",
       "    </tr>\n",
       "    <tr>\n",
       "      <th>230735</th>\n",
       "      <td>42063</td>\n",
       "      <td>48</td>\n",
       "      <td>4245.130916</td>\n",
       "      <td>18.9</td>\n",
       "      <td>2015-02-28</td>\n",
       "      <td>2015-02-28 23:30:00</td>\n",
       "      <td>0</td>\n",
       "    </tr>\n",
       "  </tbody>\n",
       "</table>\n",
       "</div>"
      ],
      "text/plain": [
       "         Date  Period  OperationalLessIndustrial  Temp       date  \\\n",
       "230731  42063      44                4094.957360  18.9 2015-02-28   \n",
       "230732  42063      45                4058.531582  18.9 2015-02-28   \n",
       "230733  42063      46                4051.524334  18.9 2015-02-28   \n",
       "230734  42063      47                4274.237836  18.9 2015-02-28   \n",
       "230735  42063      48                4245.130916  18.9 2015-02-28   \n",
       "\n",
       "                 date_time  is_holiday  \n",
       "230731 2015-02-28 21:30:00           0  \n",
       "230732 2015-02-28 22:00:00           0  \n",
       "230733 2015-02-28 22:30:00           0  \n",
       "230734 2015-02-28 23:00:00           0  \n",
       "230735 2015-02-28 23:30:00           0  "
      ]
     },
     "metadata": {},
     "output_type": "display_data"
    }
   ],
   "source": [
    "display(df.head()) # 1st of Jan is a public holiday\n",
    "display(df.tail()) # 2nd of Feb is not public holiday"
   ]
  },
  {
   "cell_type": "code",
   "execution_count": 45,
   "metadata": {},
   "outputs": [
    {
     "data": {
      "text/plain": [
       "0 days 00:30:00    230735\n",
       "Name: date_time, dtype: int64"
      ]
     },
     "execution_count": 45,
     "metadata": {},
     "output_type": "execute_result"
    }
   ],
   "source": [
    "df[\"date_time\"].diff().value_counts()"
   ]
  },
  {
   "cell_type": "markdown",
   "metadata": {},
   "source": [
    "We now just use the timestamp and the electricity demand and resample to hourly."
   ]
  },
  {
   "cell_type": "code",
   "execution_count": 46,
   "metadata": {},
   "outputs": [
    {
     "data": {
      "text/html": [
       "<div>\n",
       "<style scoped>\n",
       "    .dataframe tbody tr th:only-of-type {\n",
       "        vertical-align: middle;\n",
       "    }\n",
       "\n",
       "    .dataframe tbody tr th {\n",
       "        vertical-align: top;\n",
       "    }\n",
       "\n",
       "    .dataframe thead th {\n",
       "        text-align: right;\n",
       "    }\n",
       "</style>\n",
       "<table border=\"1\" class=\"dataframe\">\n",
       "  <thead>\n",
       "    <tr style=\"text-align: right;\">\n",
       "      <th></th>\n",
       "      <th>demand</th>\n",
       "      <th>temperature</th>\n",
       "      <th>is_holiday</th>\n",
       "    </tr>\n",
       "    <tr>\n",
       "      <th>date_time</th>\n",
       "      <th></th>\n",
       "      <th></th>\n",
       "      <th></th>\n",
       "    </tr>\n",
       "  </thead>\n",
       "  <tbody>\n",
       "    <tr>\n",
       "      <th>2002-01-01 00:00:00</th>\n",
       "      <td>6919.366092</td>\n",
       "      <td>32.6</td>\n",
       "      <td>1</td>\n",
       "    </tr>\n",
       "    <tr>\n",
       "      <th>2002-01-01 01:00:00</th>\n",
       "      <td>7165.974188</td>\n",
       "      <td>32.6</td>\n",
       "      <td>1</td>\n",
       "    </tr>\n",
       "    <tr>\n",
       "      <th>2002-01-01 02:00:00</th>\n",
       "      <td>6406.542994</td>\n",
       "      <td>32.6</td>\n",
       "      <td>1</td>\n",
       "    </tr>\n",
       "    <tr>\n",
       "      <th>2002-01-01 03:00:00</th>\n",
       "      <td>5815.537828</td>\n",
       "      <td>32.6</td>\n",
       "      <td>1</td>\n",
       "    </tr>\n",
       "    <tr>\n",
       "      <th>2002-01-01 04:00:00</th>\n",
       "      <td>5497.732922</td>\n",
       "      <td>32.6</td>\n",
       "      <td>1</td>\n",
       "    </tr>\n",
       "  </tbody>\n",
       "</table>\n",
       "</div>"
      ],
      "text/plain": [
       "                          demand  temperature  is_holiday\n",
       "date_time                                                \n",
       "2002-01-01 00:00:00  6919.366092         32.6           1\n",
       "2002-01-01 01:00:00  7165.974188         32.6           1\n",
       "2002-01-01 02:00:00  6406.542994         32.6           1\n",
       "2002-01-01 03:00:00  5815.537828         32.6           1\n",
       "2002-01-01 04:00:00  5497.732922         32.6           1"
      ]
     },
     "execution_count": 46,
     "metadata": {},
     "output_type": "execute_result"
    }
   ],
   "source": [
    "# Rename columns \n",
    "timeseries = df[[\"date_time\", \"OperationalLessIndustrial\", \"Temp\", \"is_holiday\"]]\n",
    "timeseries.columns = [\"date_time\", \"demand\", \"temperature\", \"is_holiday\"] \n",
    "    \n",
    "# Resample to hourly.\n",
    "timeseries = timeseries.set_index(\"date_time\").resample(\"H\").agg({\n",
    "                                                                  \"demand\":\"sum\",\n",
    "                                                                  \"temperature\":\"mean\",\n",
    "                                                                  \"is_holiday\":np.min,\n",
    "                                                                })\n",
    "timeseries.head()"
   ]
  },
  {
   "cell_type": "markdown",
   "metadata": {},
   "source": [
    "Sanity check time intervals are still uniform."
   ]
  },
  {
   "cell_type": "code",
   "execution_count": 47,
   "metadata": {},
   "outputs": [
    {
     "data": {
      "text/plain": [
       "0 days 01:00:00    115367\n",
       "Name: date_time, dtype: int64"
      ]
     },
     "execution_count": 47,
     "metadata": {},
     "output_type": "execute_result"
    }
   ],
   "source": [
    "timeseries.reset_index()['date_time'].diff().value_counts()"
   ]
  },
  {
   "cell_type": "markdown",
   "metadata": {},
   "source": [
    "Check range."
   ]
  },
  {
   "cell_type": "code",
   "execution_count": 48,
   "metadata": {},
   "outputs": [
    {
     "name": "stdout",
     "output_type": "stream",
     "text": [
      "2002-01-01 00:00:00\n",
      "2015-02-28 23:00:00\n"
     ]
    }
   ],
   "source": [
    "print(timeseries.index.min())\n",
    "print(timeseries.index.max())"
   ]
  },
  {
   "cell_type": "markdown",
   "metadata": {},
   "source": [
    "Save the timeseries in the datasets folder."
   ]
  },
  {
   "cell_type": "code",
   "execution_count": 12,
   "metadata": {},
   "outputs": [],
   "source": [
    "timeseries.to_csv(\"../Datasets/victoria_electricity_demand.csv\")"
   ]
  }
 ],
 "metadata": {
  "kernelspec": {
   "display_name": "Python 3",
   "language": "python",
   "name": "python3"
  },
  "language_info": {
   "codemirror_mode": {
    "name": "ipython",
    "version": 3
   },
   "file_extension": ".py",
   "mimetype": "text/x-python",
   "name": "python",
   "nbconvert_exporter": "python",
   "pygments_lexer": "ipython3",
   "version": "3.8.7"
  },
  "toc": {
   "base_numbering": 1,
   "nav_menu": {},
   "number_sections": true,
   "sideBar": true,
   "skip_h1_title": false,
   "title_cell": "Table of Contents",
   "title_sidebar": "Contents",
   "toc_cell": false,
   "toc_position": {},
   "toc_section_display": true,
   "toc_window_display": true
  }
 },
 "nbformat": 4,
 "nbformat_minor": 4
}
